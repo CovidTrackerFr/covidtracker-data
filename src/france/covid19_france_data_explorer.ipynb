{
 "cells": [
  {
   "cell_type": "code",
   "execution_count": 39,
   "metadata": {},
   "outputs": [
    {
     "data": {
      "text/plain": [
       "\"\\nLICENSE MIT\\n2021\\nGuillaume Rozier\\nWebsite : http://www.covidtracker.fr\\nMail : guillaume.rozier@telecomnancy.net\\n\\nREADME:\\nThis file contains scripts that download data from data.gouv.fr and then process it to build many graphes.\\nI'm currently cleaning the code, please ask me if something is not clear enough.\\n\\nThe charts are exported to 'charts/images/france'.\\nData is download to/imported from 'data/france'.\\nRequirements: please see the imports below (use pip3 to install them).\\n\\n\""
      ]
     },
     "execution_count": 39,
     "metadata": {},
     "output_type": "execute_result"
    }
   ],
   "source": [
    "\"\"\"\n",
    "LICENSE MIT\n",
    "2021\n",
    "Guillaume Rozier\n",
    "Website : http://www.covidtracker.fr\n",
    "Mail : guillaume.rozier@telecomnancy.net\n",
    "\n",
    "README:\n",
    "This file contains scripts that download data from data.gouv.fr and then process it to build many graphes.\n",
    "I'm currently cleaning the code, please ask me if something is not clear enough.\n",
    "\n",
    "The charts are exported to 'charts/images/france'.\n",
    "Data is download to/imported from 'data/france'.\n",
    "Requirements: please see the imports below (use pip3 to install them).\n",
    "\n",
    "\"\"\""
   ]
  },
  {
   "cell_type": "code",
   "execution_count": 40,
   "metadata": {},
   "outputs": [],
   "source": [
    "import pandas as pd\n",
    "import json\n",
    "import france_data_management as data\n",
    "import math\n",
    "\n",
    "show_charts = False\n",
    "PATH_STATS = \"../../data/france/stats/\"\n",
    "PATH = \"../../\""
   ]
  },
  {
   "cell_type": "code",
   "execution_count": 41,
   "metadata": {},
   "outputs": [],
   "source": [
    "df_regions_meta = pd.read_csv(PATH+\"data/france/population_grandes_regions.csv\")"
   ]
  },
  {
   "cell_type": "code",
   "execution_count": 42,
   "metadata": {},
   "outputs": [],
   "source": [
    "data.download_data_obepine()\n",
    "df_obepine = data.import_data_obepine()\n",
    "df_obepine_france = df_obepine.groupby(\"Date\").mean().reset_index()"
   ]
  },
  {
   "cell_type": "code",
   "execution_count": 43,
   "metadata": {},
   "outputs": [],
   "source": [
    "df_adm_hosp_clage = data.import_data_hosp_ad_age()\n",
    "df_adm_hosp_clage[\"jour\"] = pd.to_datetime(df_adm_hosp_clage.Semaine+\"-6\", format=\"%Y-S%U-%w\").fillna(0)\n",
    "df_adm_hosp_clage_france = df_adm_hosp_clage.groupby([\"jour\", \"cl_age90\"]).sum().fillna(0).reset_index()"
   ]
  },
  {
   "cell_type": "code",
   "execution_count": 44,
   "metadata": {},
   "outputs": [
    {
     "name": "stderr",
     "output_type": "stream",
     "text": [
      "\n",
      "\n",
      "  0%|          | 0/8 [00:00<?, ?it/s]\u001b[A\u001b[A\n",
      "\n",
      " 12%|█▎        | 1/8 [00:01<00:07,  1.07s/it]\u001b[A\u001b[A\n",
      "\n",
      " 38%|███▊      | 3/8 [00:02<00:04,  1.11it/s]\u001b[A\u001b[A\n",
      "\n",
      " 75%|███████▌  | 6/8 [00:03<00:01,  1.38it/s]\u001b[A\u001b[A\n",
      "\n",
      "21it [00:03,  1.96it/s]                      \u001b[A\u001b[A\n",
      "\n",
      "28it [00:09,  1.59it/s]\u001b[A\u001b[A\n",
      "\n",
      "36it [00:09,  2.22it/s]\u001b[A\u001b[A"
     ]
    }
   ],
   "source": [
    "data.download_data()"
   ]
  },
  {
   "cell_type": "code",
   "execution_count": 45,
   "metadata": {},
   "outputs": [
    {
     "name": "stderr",
     "output_type": "stream",
     "text": [
      "\n",
      "\n",
      "\n",
      "  0%|          | 0/8 [00:00<?, ?it/s]\u001b[A\u001b[A\u001b[A\n",
      "\n",
      "\n",
      " 38%|███▊      | 3/8 [00:07<00:12,  2.44s/it]\u001b[A\u001b[A\u001b[A\n",
      "\n",
      "\n",
      " 75%|███████▌  | 6/8 [00:09<00:03,  1.96s/it]\u001b[A\u001b[A\u001b[A\n",
      "\n",
      "\n",
      "10it [00:10,  1.38s/it]                      \u001b[A\u001b[A\u001b[A\n",
      "\n",
      "\n",
      "15it [00:10,  1.02it/s]\u001b[A\u001b[A\u001b[A\n",
      "\n",
      "\n",
      "21it [00:18,  1.12s/it]\u001b[A\u001b[A\u001b[A\n",
      "\n",
      "36it [00:29,  2.22it/s]\u001b[A\u001b[A\n",
      "\n",
      "\n",
      "28it [06:07, 15.73s/it]\u001b[A\u001b[A\u001b[A\n",
      "\n",
      "\n",
      "36it [06:08, 11.03s/it]\u001b[A\u001b[A\u001b[A"
     ]
    }
   ],
   "source": [
    "df, df_confirmed, dates, df_new, df_tests, df_deconf, df_sursaud, df_incid, df_tests_viros = data.import_data()"
   ]
  },
  {
   "cell_type": "code",
   "execution_count": 46,
   "metadata": {},
   "outputs": [],
   "source": [
    "df_new_france = data.import_data_new().groupby(\"jour\").sum().reset_index()"
   ]
  },
  {
   "cell_type": "code",
   "execution_count": 47,
   "metadata": {},
   "outputs": [],
   "source": [
    "data.download_data_vue_ensemble()\n",
    "df_vue_ensemble = data.import_data_vue_ensemble()"
   ]
  },
  {
   "cell_type": "code",
   "execution_count": 48,
   "metadata": {},
   "outputs": [],
   "source": [
    "df_education = data.import_data_education()"
   ]
  },
  {
   "cell_type": "code",
   "execution_count": 49,
   "metadata": {},
   "outputs": [],
   "source": [
    "#df_vacsi_a = data.import_data_vacsi_a_fra()\n",
    "#df_vacsi_a_reg = data.import_data_vacsi_a_reg()\n",
    "#df_vacsi_a_dep = data.import_data_vacsi_a_dep()\n",
    "\n",
    "df_vacsi = data.import_data_vacsi_fra() #df_vacsi_a.groupby(\"jour\").sum().reset_index()\n",
    "df_vacsi_reg = data.import_data_vacsi_reg() #df_vacsi_a_reg.groupby([\"jour\", \"reg\"]).sum().reset_index()\n",
    "df_vacsi_reg = df_vacsi_reg.merge(df_regions_meta, left_on=\"reg\", right_on=\"code\").rename({\"n_tot_dose1\": \"n_cum_dose1\"}, axis=1)\n",
    "\n",
    "df_vacsi_dep = data.import_data_vacsi_dep().rename({\"n_tot_dose1\": \"n_cum_dose1\"}, axis=1)\n",
    "#df_vacsi_a_dep.groupby([\"jour\", \"dep\"]).sum().reset_index().rename({\"n_tot_dose1\": \"n_cum_dose1\"}, axis=1)"
   ]
  },
  {
   "cell_type": "code",
   "execution_count": 50,
   "metadata": {},
   "outputs": [],
   "source": [
    "df_metro = data.import_data_metropoles()\n",
    "df_metro[\"jour\"] = df_metro[\"semaine_glissante\"].map(lambda x: x[11:])\n",
    "\n",
    "df_metro_65 = df_metro[df_metro[\"clage_65\"] == 65]\n",
    "df_metro_0 = df_metro[df_metro[\"clage_65\"] == 0]\n",
    "metropoles = list(dict.fromkeys(list(df_metro['Metropole'].dropna().values))) "
   ]
  },
  {
   "cell_type": "code",
   "execution_count": 51,
   "metadata": {},
   "outputs": [],
   "source": [
    "df_tests_viros_enrichi = data.import_data_tests_viros()\n",
    "df_tests_viros_enrichi = df_tests_viros_enrichi.drop(\"regionName_y\", axis=1).rename({\"regionName_x\": \"regionName\"}, axis=1)"
   ]
  },
  {
   "cell_type": "code",
   "execution_count": 52,
   "metadata": {},
   "outputs": [],
   "source": [
    "df_incid_clage = df_incid.copy()\n",
    "\n",
    "df_incid_fra_clage = data.import_data_tests_sexe()\n",
    "df_incid_fra = df_incid_fra_clage[df_incid_fra_clage[\"cl_age90\"]==0]\n",
    "df_france = df.groupby([\"jour\"]).sum().reset_index()\n",
    "df_incid = df_incid[df_incid.cl_age90 == 0]\n",
    "\n",
    "df_sursaud_france = df_sursaud.groupby([\"date_de_passage\"]).sum().reset_index()\n",
    "df_sursaud_regions = df_sursaud.groupby([\"date_de_passage\", \"regionName\"]).sum().reset_index()\n",
    "\n",
    "#df_new_france = df_new.groupby([\"jour\"]).sum().reset_index()\n",
    "df_new_regions = df_new.groupby([\"jour\", \"regionName\"]).sum().reset_index()"
   ]
  },
  {
   "cell_type": "code",
   "execution_count": 53,
   "metadata": {},
   "outputs": [],
   "source": [
    "df_incid_clage_regions = df_incid_clage.groupby([\"regionName\", \"jour\", \"cl_age90\"]).sum().reset_index()"
   ]
  },
  {
   "cell_type": "code",
   "execution_count": 54,
   "metadata": {},
   "outputs": [],
   "source": [
    "df_tests_viros_regions = df_tests_viros_enrichi.groupby([\"regionName\", \"jour\", \"cl_age90\"]).sum().reset_index()\n",
    "df_tests_viros_france = df_tests_viros_enrichi.groupby([\"jour\", \"cl_age90\"]).sum().reset_index()"
   ]
  },
  {
   "cell_type": "code",
   "execution_count": 55,
   "metadata": {},
   "outputs": [],
   "source": [
    "df_hosp_clage = data.import_data_hosp_clage()\n",
    "df_hosp_clage_france = df_hosp_clage.groupby([\"jour\", \"cl_age90\"]).sum().reset_index()\n",
    "df_hosp_clage_regions = df_hosp_clage.groupby([\"regionName\", \"jour\", \"cl_age90\"]).sum().reset_index()"
   ]
  },
  {
   "cell_type": "code",
   "execution_count": 93,
   "metadata": {},
   "outputs": [],
   "source": [
    "departements = list(dict.fromkeys(list(df_incid['dep'].values)))\n",
    "regions = list(dict.fromkeys(list(df_incid['regionName'].dropna().values))) \n",
    "clage_list = list(dict.fromkeys(list(df_incid_fra_clage['cl_age90'].dropna().values))) \n",
    "\n",
    "df_regions = df.groupby([\"jour\", \"regionName\"]).sum().reset_index()\n",
    "df_incid_regions = df_incid.groupby([\"jour\", \"regionName\"]).sum().reset_index()\n",
    "\n",
    "\n",
    "zone_a = [\"zone_a\", \"01\", \"03\", \"07\", \"15\", \"16\", \"17\", \"19\", \"21\", \"23\", \"24\", \"25\", \"26\", \"33\", \"38\", \"39\", \"40\", \"42\", \"43\", \"47\", \"58\", \"63\", \"64\", \"69\", \"70\", \"71\", \"73\", \"74\", \"79\", \"86\", \"90\"]\n",
    "zone_b = [\"zone_b\", \"02\", \"04\", \"05\", \"06\", \"08\", \"10\", \"13\", \"14\", \"18\", \"22\", \"27\", \"28\", \"29\", \"35\", \"36\", \"37\", \"41\", \"44\", \"45\", \"49\", \"50\", \"51\", \"52\", \"53\", \"54\", \"55\", \"56\", \"57\", \"59\", \"60\", \"61\", \"62\", \"67\", \"68\", \"72\", \"76\", \"80\", \"83\", \"84\", \"85\", \"88\"]\n",
    "zone_c = [\"zone_c\", \"09\", \"11\", \"12\", \"30\", \"31\", \"32\", \"34\", \"46\", \"48\", \"65\", \"66\", \"75\", \"77\", \"78\", \"81\", \"82\", \"91\", \"92\", \"93\", \"94\", \"95\"]\n",
    "\n",
    "confines_mars_2021 = [\"confines_mars_2021\", \"02\", \"06\", \"27\", \"59\", \"60\", \"62\", \"75\", \"76\", \"77\", \"78\", \"80\", \"91\", \"92\", \"93\", \"94\", \"95\"]"
   ]
  },
  {
   "cell_type": "code",
   "execution_count": 98,
   "metadata": {},
   "outputs": [],
   "source": [
    "def generate_data(data_incid=pd.DataFrame(), data_hosp=pd.DataFrame(), data_sursaud=pd.DataFrame(), data_new=pd.DataFrame(), data_vue_ensemble=pd.DataFrame(), data_metropole=pd.DataFrame(), data_vacsi=pd.DataFrame(), data_obepine=pd.DataFrame(), mode=\"\", export_jour=False, taux_croissance=False):## Incidence\n",
    "        \n",
    "    dict_data = {}\n",
    "    \n",
    "    if export_jour:\n",
    "        dict_data[\"jour_incid\"] = list(data_incid.jour)\n",
    "        dict_data[\"jour_hosp\"] = list(data_hosp.jour)\n",
    "        dict_data[\"jour_new\"] = list(data_new.jour)\n",
    "        dict_data[\"jour_sursaud\"] = list(data_sursaud.date_de_passage)\n",
    "        dict_data[\"jour_metropoles\"] = list(data_metropole.jour.unique())\n",
    "        dict_data[\"jour_vacsi\"] = list(data_vacsi.jour)\n",
    "        dict_data[\"jour_obepine\"] = list(data_obepine.Date)\n",
    "        \n",
    "    if (taux_croissance) and (len(data_incid)>0):\n",
    "        cas = data_incid[\"P\"].fillna(0)\n",
    "        taux_croissance_cas = ((cas-cas.shift(7))/cas.shift(7).replace(0, None)).fillna(0) * 100\n",
    "        taux_croissance_cas = taux_croissance_cas[taux_croissance_cas>200]=200\n",
    "        taux_croissance_cas = taux_croissance_cas[taux_croissance_cas<-200]=-200\n",
    "        \n",
    "        cas_rolling = data_incid[\"P\"].rolling(window=7, center=True).mean().fillna(0)\n",
    "        taux_croissance_cas_rolling = ((cas_rolling-cas_rolling.shift(7))/cas_rolling.shift(7).replace(0, None)).fillna(0) * 100\n",
    "        dict_data[\"croissance_cas\"] = {\"jour_nom\": \"jour_incid\", \"valeur\": list(round(taux_croissance_cas, 1))}\n",
    "        dict_data[\"croissance_cas_rolling7\"] = {\"jour_nom\": \"jour_incid\", \"valeur\": list(round(taux_croissance_cas_rolling, 1))}\n",
    "        \n",
    "        tests = data_incid[\"T\"].rolling(window=7).mean().fillna(0)\n",
    "        taux_croissance_tests= ((tests-tests.shift(7))/tests.shift(7).replace(0, None)).fillna(0) * 100\n",
    "        dict_data[\"croissance_tests\"] = {\"jour_nom\": \"jour_incid\", \"valeur\": list(round(taux_croissance_tests, 1))}\n",
    "        dict_data[\"croissance_tests_rolling7\"] = {\"jour_nom\": \"jour_incid\", \"valeur\": list(round(taux_croissance_tests.rolling(window=7, center=True).mean().fillna(0), 1))}\n",
    "        \n",
    "    if (taux_croissance) and (len(data_hosp)>0):\n",
    "        hospitalisations = data_hosp.hosp.fillna(0)\n",
    "        taux_croissance_hospitalisations = ((hospitalisations-hospitalisations.shift(7))/hospitalisations.shift(7).replace(0, None)).fillna(0) * 100\n",
    "        dict_data[\"croissance_hospitalisations\"] = {\"jour_nom\": \"jour_hosp\", \"valeur\": list(round(taux_croissance_hospitalisations, 1))}\n",
    "        dict_data[\"croissance_hospitalisations_rolling7\"] = {\"jour_nom\": \"jour_hosp\", \"valeur\": list(round(taux_croissance_hospitalisations.rolling(window=7, center=True).mean().fillna(0), 1))}\n",
    "        \n",
    "        reanimations = data_hosp.rea.fillna(0)\n",
    "        taux_croissance_reanimations = ((reanimations-reanimations.shift(7))/reanimations.shift(7).replace(0, None)).fillna(0) * 100\n",
    "        dict_data[\"croissance_reanimations\"] = {\"jour_nom\": \"jour_hosp\", \"valeur\": list(round(taux_croissance_reanimations, 1))}\n",
    "        dict_data[\"croissance_reanimations_rolling7\"] = {\"jour_nom\": \"jour_hosp\", \"valeur\": list(round(taux_croissance_reanimations.rolling(window=7, center=True).mean().fillna(0), 1))}\n",
    "    \n",
    "    if (taux_croissance) and (len(data_new)>0):\n",
    "        hospitalisations = data_new.incid_hosp.fillna(0)\n",
    "        taux_croissance_hospitalisations = ((hospitalisations-hospitalisations.shift(7))/hospitalisations.shift(7).replace(0, None)).fillna(0) * 100\n",
    "        \n",
    "        hospitalisations_rolling = data_new.incid_hosp.fillna(0).rolling(window=7, center=True).mean()\n",
    "        taux_croissance_hospitalisations_rolling = ((hospitalisations_rolling-hospitalisations_rolling.shift(7))/hospitalisations_rolling.shift(7).replace(0, None)).fillna(0) * 100\n",
    "        dict_data[\"croissance_incid_hospitalisations\"] = {\"jour_nom\": \"jour_new\", \"valeur\": list(round(taux_croissance_hospitalisations, 1))}\n",
    "        dict_data[\"croissance_incid_hospitalisations_rolling7\"] = {\"jour_nom\": \"jour_new\", \"valeur\": list(round(taux_croissance_hospitalisations_rolling, 1))}\n",
    "        \n",
    "        reanimations = data_new.incid_rea.fillna(0)\n",
    "        taux_croissance_reanimations = ((reanimations-reanimations.shift(7))/reanimations.shift(7).replace(0, None)).fillna(0) * 100\n",
    "        \n",
    "        reanimations_rolling = data_new.incid_rea.fillna(0).rolling(window=7, center=True).mean()\n",
    "        taux_croissance_reanimations_rolling = ((reanimations_rolling-reanimations_rolling.shift(7))/reanimations_rolling.shift(7).replace(0, None)).fillna(0) * 100\n",
    "        dict_data[\"croissance_incid_reanimations\"] = {\"jour_nom\": \"jour_new\", \"valeur\": list(round(taux_croissance_reanimations, 1))}\n",
    "        dict_data[\"croissance_incid_reanimations_rolling7\"] = {\"jour_nom\": \"jour_new\", \"valeur\": list(round(taux_croissance_reanimations_rolling, 1))}\n",
    "    \n",
    "    if(len(data_vacsi)>0):\n",
    "        n_cum_dose1 = data_vacsi[\"n_cum_dose1\"].fillna(0)\n",
    "        dict_data[\"n_cum_dose1\"] = {\"jour_nom\": \"jour_vacsi\", \"valeur\": list(n_cum_dose1)}\n",
    "        \n",
    "        n_dose1 = data_vacsi[\"n_dose1\"].rolling(window=7).mean().fillna(0)\n",
    "        dict_data[\"n_dose1\"] = {\"jour_nom\": \"jour_vacsi\", \"valeur\": list(round(n_dose1, 1))}\n",
    "    \n",
    "    if len(data_vue_ensemble)>0:\n",
    "        dict_data[\"jour_ehpad\"] = list(data_vue_ensemble.date)\n",
    "        deces_ehpad = data_vue_ensemble[\"total_deces_ehpad\"].diff().rolling(window=7).mean().fillna(0)\n",
    "        dict_data[\"deces_ehpad\"] = {\"jour_nom\": \"jour_ehpad\", \"valeur\": list(round(deces_ehpad,2))}\n",
    "        \n",
    "        cas_spf = data_vue_ensemble.total_cas_confirmes.diff().rolling(window=7).mean().fillna(0)\n",
    "        dict_data[\"cas_spf\"] = {\"jour_nom\": \"jour_ehpad\", \"valeur\": list(round(cas_spf, 2))}\n",
    "        \n",
    "    if len(data_obepine)>0:\n",
    "        indicateur_obepine = data_obepine.Indicateur.fillna(0)\n",
    "        \n",
    "        dict_data[\"obepine\"] = {\"jour_nom\": \"jour_obepine\", \"jours\":list(data_obepine.Date), \"valeur\": list(round(indicateur_obepine, 2))}\n",
    "        \n",
    "    if len(data_incid)>0:\n",
    "        taux_incidence = data_incid[\"P\"].rolling(window=7).sum().fillna(0) * 100000 / data_incid[\"pop\"].values[0]\n",
    "        dict_data[\"incidence\"] = {\"jour_nom\": \"jour_incid\", \"valeur\": list(round(taux_incidence, 1))}\n",
    "\n",
    "        taux_positivite = (data_incid[\"P\"] / data_incid[\"T\"] * 100).rolling(window=7).mean().fillna(0)\n",
    "        dict_data[\"taux_positivite\"] = {\"jour_nom\": \"jour_incid\", \"valeur\": list(round(taux_positivite, 2))}\n",
    "        \n",
    "        taux_positivite = (data_incid[\"P\"].rolling(window=7).mean() / data_incid[\"T\"].rolling(window=7).mean() * 100).fillna(0)\n",
    "        dict_data[\"taux_positivite_rolling_before\"] = {\"jour_nom\": \"jour_incid\", \"valeur\": list(round(taux_positivite, 2))}\n",
    "    \n",
    "        cas = data_incid[\"P\"].rolling(window=7).mean().fillna(0)\n",
    "        dict_data[\"cas\"] = {\"jour_nom\": \"jour_incid\", \"valeur\": list(round(cas, 1))}\n",
    "    \n",
    "        tests = data_incid[\"T\"].rolling(window=7).mean().fillna(0)\n",
    "        dict_data[\"tests\"] = {\"jour_nom\": \"jour_incid\", \"valeur\": list(round(tests, 1))}\n",
    "        \n",
    "    if (len(data_metropole)>0) & (mode==\"metropoles\"):\n",
    "        taux_incidence = data_metropole[\"ti\"].fillna(0)\n",
    "        dict_data[\"incidence\"] = {\"jour_nom\": \"jour_metropoles\", \"valeur\": list(round(taux_incidence, 1))}\n",
    "        \n",
    "    if len(data_hosp)>0:\n",
    "        hospitalisations = data_hosp.hosp.fillna(0)\n",
    "        dict_data[\"hospitalisations\"] = {\"jour_nom\": \"jour_hosp\", \"valeur\": list(hospitalisations)}\n",
    "\n",
    "        reanimations = data_hosp.rea.fillna(0)\n",
    "        dict_data[\"reanimations\"] = {\"jour_nom\": \"jour_hosp\", \"valeur\": list(reanimations)}\n",
    "        \n",
    "        saturation_rea = round(data_hosp[\"rea\"]/data_hosp[\"LITS\"].fillna(0)*100, 1)\n",
    "        dict_data[\"saturation_reanimations\"] = {\"jour_nom\": \"jour_hosp\", \"valeur\": list(saturation_rea)}\n",
    "    \n",
    "    if len(data_new)>0:\n",
    "        incid_hospitalisations = data_new.incid_hosp.rolling(window=7).mean().fillna(0)\n",
    "        dict_data[\"incid_hospitalisations\"] = {\"jour_nom\": \"jour_new\", \"valeur\": list(round(incid_hospitalisations, 1))}\n",
    "\n",
    "        incid_reanimations = data_new.incid_rea.rolling(window=7).mean().fillna(0)\n",
    "        dict_data[\"incid_reanimations\"] = {\"jour_nom\": \"jour_new\", \"valeur\": list(round(incid_reanimations, 1))}\n",
    "    \n",
    "    if len(data_sursaud)>0:\n",
    "        nbre_acte_corona = data_sursaud.nbre_acte_corona.rolling(window=7).mean().fillna(0)\n",
    "        dict_data[\"nbre_acte_corona\"] = {\"jour_nom\": \"jour_sursaud\", \"valeur\": list(round(nbre_acte_corona, 1))}\n",
    "\n",
    "        nbre_pass_corona = data_sursaud.nbre_pass_corona.rolling(window=7).mean().fillna(0)\n",
    "        dict_data[\"nbre_pass_corona\"] = {\"jour_nom\": \"jour_sursaud\", \"valeur\": list(round(nbre_pass_corona,  1))}\n",
    "    \n",
    "    if len(data_new)>0:\n",
    "        deces_hospitaliers = data_new.incid_dc.rolling(window=7).mean().fillna(0) #data_hosp.dc.diff().rolling(window=7).mean().fillna(0)\n",
    "        dict_data[\"deces_hospitaliers\"] = {\"jour_nom\": \"jour_hosp\", \"valeur\": list(round(deces_hospitaliers, 1))}\n",
    "    \n",
    "    if len(data_incid)>0:\n",
    "        population = data_incid[\"pop\"].values[0]\n",
    "        dict_data[\"population\"] = population\n",
    "\n",
    "    return dict_data\n",
    " "
   ]
  },
  {
   "cell_type": "code",
   "execution_count": 82,
   "metadata": {},
   "outputs": [],
   "source": [
    "def generate_data_age(data_incid, data_hosp, data_adm_hosp_clage=pd.DataFrame(), export_jour=False):## Incidence\n",
    "    clage_tranches = [[0], [9, 19], [29, 39], [49, 59], [69, 79], [89, 90]]\n",
    "    clage_noms = [\"tous\", \"19\", \"39\", \"59\", \"79\", \"90\"]\n",
    "    clage_noms_disp = [\"Tous âges\", \"0 à 19 ans\", \"20 à 39 ans\", \"40 à 59 ans\", \"60 à 79 ans\", \"Plus de 80 ans\"]\n",
    "    \n",
    "    dict_data = {}\n",
    "    \n",
    "    for (idx, clage) in enumerate(clage_tranches):\n",
    "        clage_nom = clage_noms[idx]\n",
    "        \n",
    "        data_incid_clage = data_incid[data_incid.cl_age90.isin(clage)].groupby(\"jour\").sum().reset_index()\n",
    "\n",
    "        dict_data[clage_nom] = {}\n",
    "\n",
    "        taux_incidence = data_incid_clage[\"P\"].rolling(window=7).sum().fillna(0) * 100000 / data_incid_clage[\"pop\"].values[0]\n",
    "        dict_data[clage_nom][\"incidence\"] = {\"jour_nom\": \"jour_incid\", \"valeur\": list(round(taux_incidence,0))}\n",
    "\n",
    "        taux_positivite = (data_incid_clage[\"P\"] / data_incid_clage[\"T\"] * 100).rolling(window=7).mean().fillna(0)\n",
    "        dict_data[clage_nom][\"taux_positivite\"] = {\"jour_nom\": \"jour_incid\", \"valeur\": list(round(taux_positivite,2))}\n",
    "\n",
    "        cas = data_incid_clage[\"P\"].rolling(window=7).mean().fillna(0)\n",
    "        dict_data[clage_nom][\"cas\"] = {\"jour_nom\": \"jour_incid\", \"valeur\": list(round(cas, 1))}\n",
    "        \n",
    "        taux_croissance_cas = ((cas-cas.shift(7))/cas.shift(7).replace(0, None)).fillna(0) * 100\n",
    "        taux_croissance_cas[taux_croissance_cas>200] = 200\n",
    "        taux_croissance_cas[taux_croissance_cas<-200] = -200\n",
    "        #taux_croissance_cas = taux_croissance_cas.rolling(window=7).mean().fillna(0)\n",
    "        dict_data[clage_nom][\"cas_croissance_hebdo\"] = {\"jour_nom\": \"jour_incid\", \"valeur\": list(round(taux_croissance_cas, 1))}\n",
    "\n",
    "        tests = data_incid_clage[\"T\"].rolling(window=7).mean().fillna(0)\n",
    "        dict_data[clage_nom][\"tests\"] = {\"jour_nom\": \"jour_incid\", \"valeur\": list(round(tests, 1))}\n",
    "        \n",
    "        population = data_incid_clage[\"pop\"].values[0]\n",
    "        dict_data[clage_nom][\"population\"] = population\n",
    "        \n",
    "        if (len(data_hosp)):  \n",
    "            data_hosp_clage = data_hosp[data_hosp.cl_age90.isin(clage)].groupby(\"jour\").sum().reset_index()\n",
    "            hospitalisations = data_hosp_clage.hosp.fillna(0)\n",
    "            dict_data[clage_nom][\"hospitalisations\"] = {\"jour_nom\": \"jour_hosp\", \"valeur\": list(hospitalisations)}\n",
    "\n",
    "            reanimations = data_hosp_clage.rea.fillna(0)\n",
    "            dict_data[clage_nom][\"reanimations\"] = {\"jour_nom\": \"jour_hosp\", \"valeur\": list(reanimations)}\n",
    "\n",
    "            deces_hospitaliers = data_hosp_clage.dc.diff().rolling(window=7).mean().fillna(0)\n",
    "            dict_data[clage_nom][\"deces_hospitaliers\"] = {\"jour_nom\": \"jour_hosp\", \"valeur\": list(round(deces_hospitaliers, 1))}\n",
    "        \n",
    "        if(len(data_adm_hosp_clage)):\n",
    "            df_adm_hosp_clage_temp = data_adm_hosp_clage[data_adm_hosp_clage.cl_age90.isin(clage)].groupby(\"jour\").sum().reset_index()\n",
    "            adm_hospitalisations = df_adm_hosp_clage_temp[\"NewAdmHospit\"]\n",
    "            dict_data[clage_nom][\"adm_hospitalisations\"] = {\"jour_nom\": \"jour_adm_hosp_clage\", \"valeur\": list(round(adm_hospitalisations/7, 1))}\n",
    "            \n",
    "    if export_jour:\n",
    "            dict_data[\"jour_incid\"] = list(data_incid.jour.unique())\n",
    "            dict_data[\"jour_hosp\"] = list(data_hosp.jour.unique())\n",
    "            dict_data[\"tranches\"] = clage_tranches\n",
    "            dict_data[\"tranches_noms\"] = clage_noms\n",
    "            dict_data[\"tranches_noms_affichage\"] = clage_noms_disp\n",
    "            \n",
    "            if(len(data_adm_hosp_clage)):\n",
    "                dict_data[\"jour_adm_hosp_clage\"] = list(data_adm_hosp_clage.jour.dt.strftime('%Y-%m-%d').unique())\n",
    "\n",
    "    return dict_data\n",
    " "
   ]
  },
  {
   "cell_type": "code",
   "execution_count": 83,
   "metadata": {},
   "outputs": [],
   "source": [
    "def generate_data_education(df_education):\n",
    "    clage_noms = [2, 5, 10, 14, 17, 18]\n",
    "    clage_disp = [\"0 - 2 ans\", \"3 - 5 ans\", \"6 - 10 ans\", \"11 - 14 ans\", \"15 - 17 ans\", \"Plus 18 ans\"]\n",
    "    \n",
    "    dict_data = {}\n",
    "    dict_data[\"tranches_noms\"] = clage_noms\n",
    "    dict_data[\"tranches_noms_affichage\"] = clage_disp\n",
    "    \n",
    "    for clage in clage_noms:\n",
    "        dict_data[clage] = {}\n",
    "        \n",
    "        df_temp = df_education[df_education[\"age_18ans\"]==clage]\n",
    "        \n",
    "        dict_data[clage][\"ti\"] = df_temp[\"ti\"].fillna(0).tolist()\n",
    "        dict_data[clage][\"tp\"] = df_temp[\"tp\"].fillna(0).tolist()\n",
    "        dict_data[clage][\"td\"] = df_temp[\"td\"].fillna(0).tolist()\n",
    "        \n",
    "    return dict_data"
   ]
  },
  {
   "cell_type": "code",
   "execution_count": 84,
   "metadata": {},
   "outputs": [],
   "source": [
    "def export_data(data, suffix=\"\"):\n",
    "    with open(PATH_STATS + 'dataexplorer{}.json'.format(suffix), 'w') as outfile:\n",
    "        json.dump(data, outfile)"
   ]
  },
  {
   "cell_type": "code",
   "execution_count": 85,
   "metadata": {},
   "outputs": [],
   "source": [
    "def dataexplorer():\n",
    "    dict_data = {}\n",
    "    \n",
    "    dict_data[\"regions\"] = sorted(regions)\n",
    "    dict_data[\"metropoles\"] = sorted(metropoles)\n",
    "    dict_data[\"departements\"] = departements\n",
    "    dict_data[\"france\"] = generate_data(df_incid_fra, df_france, df_sursaud_france, df_new_france, df_vue_ensemble, data_metropole=df_metro_0, data_vacsi=df_vacsi, data_obepine=df_obepine_france, mode=\"france\", export_jour=True, taux_croissance=True)\n",
    "    dict_data[\"metropole\"] = generate_data(df_incid[df_incid[\"dep\"].str.len()<=2].groupby([\"jour\"]).sum(), df[df[\"dep\"].str.len()<=2].groupby([\"jour\"]).sum(), df_sursaud[df_sursaud[\"dep\"].str.len()<=2].groupby([\"date_de_passage\"]).sum(), df_new[df_new[\"dep\"].str.len()<=2].groupby([\"jour\"]).sum(), data_vacsi=df_vacsi_dep[df_new[\"dep\"].str.len()<=2].groupby([\"jour\"]).sum())\n",
    "    dict_data[\"drom_com\"] = generate_data(df_incid[df_incid[\"dep\"].str.len()>2].groupby([\"jour\"]).sum(), df[df[\"dep\"].str.len()>2].groupby([\"jour\"]).sum(), df_sursaud[df_sursaud[\"dep\"].str.len()>2].groupby([\"date_de_passage\"]).sum(), df_new[df_new[\"dep\"].str.len()>2].groupby([\"jour\"]).sum(), data_vacsi=df_vacsi_dep[df_new[\"dep\"].str.len()>2].groupby([\"jour\"]).sum())\n",
    "\n",
    "    noms_departements={}\n",
    "    \n",
    "    for reg in regions:\n",
    "        \n",
    "        dict_data[reg] = generate_data(df_incid_regions[df_incid_regions.regionName==reg], \\\n",
    "                                       df_regions[df_regions.regionName==reg],\\\n",
    "                                       df_sursaud_regions[df_sursaud_regions.regionName==reg],\n",
    "                                       df_new_regions[df_new_regions.regionName==reg],\n",
    "                                       data_vacsi=df_vacsi_reg[df_vacsi_reg.regionName==reg],\\\n",
    "                                       data_obepine=df_obepine[df_obepine.regionName==reg]\n",
    "                                      )\n",
    "        #print(df_vacsi_reg[df_vacsi_reg.regionName==reg])\n",
    "    \n",
    "    for dep in departements:\n",
    "        df_incid_dep = df_incid[df_incid.dep==dep]\n",
    "        dict_data[dep] = generate_data(df_incid_dep, df[df.dep==dep], df_sursaud[df_sursaud.dep==dep], df_new[df_new.dep==dep], data_vacsi=df_vacsi_dep[df_vacsi_dep.dep==dep])\n",
    "        \n",
    "        noms_departements[dep] = df_incid_dep[\"departmentName\"].values[0]\n",
    "    dict_data[\"departements_noms\"] = noms_departements\n",
    "    \n",
    "    for zone in [zone_a, zone_b, zone_c]:\n",
    "        df_incid_zone = df_incid[df_incid.dep.isin(zone)].groupby(\"jour\").sum().reset_index()\n",
    "        df_zone = df[df.dep.isin(zone)].groupby(\"jour\").sum().reset_index()\n",
    "        df_sursaud_zone = df_sursaud[df_sursaud.dep.isin(zone)].groupby(\"date_de_passage\").sum().reset_index()\n",
    "        df_new_zone = df_new[df_new.dep.isin(zone)].groupby(\"jour\").sum().reset_index()\n",
    "        df_vacsi_zone = df_vacsi_dep[df_vacsi_dep.dep.isin(zone)].groupby(\"jour\").sum().reset_index()\n",
    "        \n",
    "        dict_data[zone[0]] = generate_data(df_incid_zone, df_zone, df_sursaud_zone, df_new_zone, data_vacsi=df_vacsi_zone)\n",
    "    \n",
    "    # Confinés mars 2021\n",
    "    df_incid_zone = df_incid[df_incid.dep.isin(confines_mars_2021)].groupby(\"jour\").sum().reset_index()\n",
    "    df_zone = df[df.dep.isin(confines_mars_2021)].groupby(\"jour\").sum().reset_index()\n",
    "    df_sursaud_zone = df_sursaud[df_sursaud.dep.isin(confines_mars_2021)].groupby(\"date_de_passage\").sum().reset_index()\n",
    "    df_new_zone = df_new[df_new.dep.isin(confines_mars_2021)].groupby(\"jour\").sum().reset_index()\n",
    "    df_vacsi_zone = df_vacsi_dep[df_vacsi_dep.dep.isin(confines_mars_2021)].groupby(\"jour\").sum().reset_index()\n",
    "    \n",
    "    dict_data[\"confines_mars_2021\"] = generate_data(df_incid_zone, df_zone, df_sursaud_zone, df_new_zone, data_vacsi=df_vacsi_zone)\n",
    "        \n",
    "    for metropole in metropoles:\n",
    "        print(metropole)\n",
    "        dict_data[metropole] = generate_data(data_metropole=df_metro_0[df_metro_0.Metropole == metropole], mode=\"metropoles\")\n",
    "        #print(dict_data[metropole])\n",
    "        \n",
    "    dict_data[\"zones_vacances\"] = [\"zone_a\", \"zone_b\", \"zone_c\"]\n",
    "    \n",
    "    export_data(dict_data, suffix=\"_compr\")"
   ]
  },
  {
   "cell_type": "code",
   "execution_count": 86,
   "metadata": {},
   "outputs": [],
   "source": [
    "def dataexplorer_age():\n",
    "    dict_data = {}\n",
    "    regions_tests_viros = list(dict.fromkeys(list(df_tests_viros_enrichi['regionName'].dropna().values))) \n",
    "    departements_tests_viros = list(dict.fromkeys(list(df_tests_viros_enrichi['dep'].dropna().values))) \n",
    "    dict_data[\"regions\"] = sorted(regions_tests_viros)\n",
    "    dict_data[\"departements\"] = sorted(departements_tests_viros)\n",
    "    \n",
    "    dict_data[\"france\"] = generate_data_age(df_tests_viros_france, df_hosp_clage_france, data_adm_hosp_clage=df_adm_hosp_clage_france, export_jour=True)\n",
    "    \n",
    "    for reg in regions_tests_viros:\n",
    "        dict_data[reg] = generate_data_age(df_tests_viros_regions[df_tests_viros_regions.regionName == reg],\\\n",
    "                                           df_hosp_clage_regions[df_hosp_clage_regions.regionName == reg]) #data_adm_hosp_clage=data_adm_hosp_clage\n",
    "    noms_departements={}\n",
    "    for dep in departements_tests_viros:\n",
    "        df_tests_viros_enrichi_temp = df_tests_viros_enrichi[df_tests_viros_enrichi.dep == dep]\n",
    "        dict_data[dep] = generate_data_age(df_tests_viros_enrichi_temp,\\\n",
    "                                           pd.DataFrame())\n",
    "        \n",
    "        nom_dep = df_tests_viros_enrichi_temp[\"departmentName\"].values[0]\n",
    "        \n",
    "        if(type(nom_dep) is float): #Pas de nom, nom_dep == NaN\n",
    "            #print(dep)\n",
    "            nom_dep = \"--\"\n",
    "        \n",
    "        noms_departements[dep] = nom_dep\n",
    "        \n",
    "    dict_data[\"departements_noms\"] = noms_departements\n",
    "    \n",
    "    export_data(dict_data, suffix=\"_compr_age\")\n",
    "    return dict_data"
   ]
  },
  {
   "cell_type": "code",
   "execution_count": 87,
   "metadata": {},
   "outputs": [],
   "source": [
    "def dataexplorer_education():\n",
    "    dict_data = {}\n",
    "    dict_data[\"france\"] = generate_data_education(df_education=df_education)\n",
    "    export_data(dict_data, suffix=\"_education\")"
   ]
  },
  {
   "cell_type": "code",
   "execution_count": 99,
   "metadata": {},
   "outputs": [
    {
     "ename": "TypeError",
     "evalue": "'int' object does not support item assignment",
     "output_type": "error",
     "traceback": [
      "\u001b[0;31m---------------------------------------------------------------------------\u001b[0m",
      "\u001b[0;31mTypeError\u001b[0m                                 Traceback (most recent call last)",
      "\u001b[0;32m<ipython-input-99-6d7a17c73a6f>\u001b[0m in \u001b[0;36m<module>\u001b[0;34m\u001b[0m\n\u001b[0;32m----> 1\u001b[0;31m \u001b[0mdataexplorer\u001b[0m\u001b[0;34m(\u001b[0m\u001b[0;34m)\u001b[0m\u001b[0;34m\u001b[0m\u001b[0;34m\u001b[0m\u001b[0m\n\u001b[0m",
      "\u001b[0;32m<ipython-input-85-4927d05da57d>\u001b[0m in \u001b[0;36mdataexplorer\u001b[0;34m()\u001b[0m\n\u001b[1;32m      5\u001b[0m     \u001b[0mdict_data\u001b[0m\u001b[0;34m[\u001b[0m\u001b[0;34m\"metropoles\"\u001b[0m\u001b[0;34m]\u001b[0m \u001b[0;34m=\u001b[0m \u001b[0msorted\u001b[0m\u001b[0;34m(\u001b[0m\u001b[0mmetropoles\u001b[0m\u001b[0;34m)\u001b[0m\u001b[0;34m\u001b[0m\u001b[0;34m\u001b[0m\u001b[0m\n\u001b[1;32m      6\u001b[0m     \u001b[0mdict_data\u001b[0m\u001b[0;34m[\u001b[0m\u001b[0;34m\"departements\"\u001b[0m\u001b[0;34m]\u001b[0m \u001b[0;34m=\u001b[0m \u001b[0mdepartements\u001b[0m\u001b[0;34m\u001b[0m\u001b[0;34m\u001b[0m\u001b[0m\n\u001b[0;32m----> 7\u001b[0;31m     \u001b[0mdict_data\u001b[0m\u001b[0;34m[\u001b[0m\u001b[0;34m\"france\"\u001b[0m\u001b[0;34m]\u001b[0m \u001b[0;34m=\u001b[0m \u001b[0mgenerate_data\u001b[0m\u001b[0;34m(\u001b[0m\u001b[0mdf_incid_fra\u001b[0m\u001b[0;34m,\u001b[0m \u001b[0mdf_france\u001b[0m\u001b[0;34m,\u001b[0m \u001b[0mdf_sursaud_france\u001b[0m\u001b[0;34m,\u001b[0m \u001b[0mdf_new_france\u001b[0m\u001b[0;34m,\u001b[0m \u001b[0mdf_vue_ensemble\u001b[0m\u001b[0;34m,\u001b[0m \u001b[0mdata_metropole\u001b[0m\u001b[0;34m=\u001b[0m\u001b[0mdf_metro_0\u001b[0m\u001b[0;34m,\u001b[0m \u001b[0mdata_vacsi\u001b[0m\u001b[0;34m=\u001b[0m\u001b[0mdf_vacsi\u001b[0m\u001b[0;34m,\u001b[0m \u001b[0mdata_obepine\u001b[0m\u001b[0;34m=\u001b[0m\u001b[0mdf_obepine_france\u001b[0m\u001b[0;34m,\u001b[0m \u001b[0mmode\u001b[0m\u001b[0;34m=\u001b[0m\u001b[0;34m\"france\"\u001b[0m\u001b[0;34m,\u001b[0m \u001b[0mexport_jour\u001b[0m\u001b[0;34m=\u001b[0m\u001b[0;32mTrue\u001b[0m\u001b[0;34m,\u001b[0m \u001b[0mtaux_croissance\u001b[0m\u001b[0;34m=\u001b[0m\u001b[0;32mTrue\u001b[0m\u001b[0;34m)\u001b[0m\u001b[0;34m\u001b[0m\u001b[0;34m\u001b[0m\u001b[0m\n\u001b[0m\u001b[1;32m      8\u001b[0m     \u001b[0mdict_data\u001b[0m\u001b[0;34m[\u001b[0m\u001b[0;34m\"metropole\"\u001b[0m\u001b[0;34m]\u001b[0m \u001b[0;34m=\u001b[0m \u001b[0mgenerate_data\u001b[0m\u001b[0;34m(\u001b[0m\u001b[0mdf_incid\u001b[0m\u001b[0;34m[\u001b[0m\u001b[0mdf_incid\u001b[0m\u001b[0;34m[\u001b[0m\u001b[0;34m\"dep\"\u001b[0m\u001b[0;34m]\u001b[0m\u001b[0;34m.\u001b[0m\u001b[0mstr\u001b[0m\u001b[0;34m.\u001b[0m\u001b[0mlen\u001b[0m\u001b[0;34m(\u001b[0m\u001b[0;34m)\u001b[0m\u001b[0;34m<=\u001b[0m\u001b[0;36m2\u001b[0m\u001b[0;34m]\u001b[0m\u001b[0;34m.\u001b[0m\u001b[0mgroupby\u001b[0m\u001b[0;34m(\u001b[0m\u001b[0;34m[\u001b[0m\u001b[0;34m\"jour\"\u001b[0m\u001b[0;34m]\u001b[0m\u001b[0;34m)\u001b[0m\u001b[0;34m.\u001b[0m\u001b[0msum\u001b[0m\u001b[0;34m(\u001b[0m\u001b[0;34m)\u001b[0m\u001b[0;34m,\u001b[0m \u001b[0mdf\u001b[0m\u001b[0;34m[\u001b[0m\u001b[0mdf\u001b[0m\u001b[0;34m[\u001b[0m\u001b[0;34m\"dep\"\u001b[0m\u001b[0;34m]\u001b[0m\u001b[0;34m.\u001b[0m\u001b[0mstr\u001b[0m\u001b[0;34m.\u001b[0m\u001b[0mlen\u001b[0m\u001b[0;34m(\u001b[0m\u001b[0;34m)\u001b[0m\u001b[0;34m<=\u001b[0m\u001b[0;36m2\u001b[0m\u001b[0;34m]\u001b[0m\u001b[0;34m.\u001b[0m\u001b[0mgroupby\u001b[0m\u001b[0;34m(\u001b[0m\u001b[0;34m[\u001b[0m\u001b[0;34m\"jour\"\u001b[0m\u001b[0;34m]\u001b[0m\u001b[0;34m)\u001b[0m\u001b[0;34m.\u001b[0m\u001b[0msum\u001b[0m\u001b[0;34m(\u001b[0m\u001b[0;34m)\u001b[0m\u001b[0;34m,\u001b[0m \u001b[0mdf_sursaud\u001b[0m\u001b[0;34m[\u001b[0m\u001b[0mdf_sursaud\u001b[0m\u001b[0;34m[\u001b[0m\u001b[0;34m\"dep\"\u001b[0m\u001b[0;34m]\u001b[0m\u001b[0;34m.\u001b[0m\u001b[0mstr\u001b[0m\u001b[0;34m.\u001b[0m\u001b[0mlen\u001b[0m\u001b[0;34m(\u001b[0m\u001b[0;34m)\u001b[0m\u001b[0;34m<=\u001b[0m\u001b[0;36m2\u001b[0m\u001b[0;34m]\u001b[0m\u001b[0;34m.\u001b[0m\u001b[0mgroupby\u001b[0m\u001b[0;34m(\u001b[0m\u001b[0;34m[\u001b[0m\u001b[0;34m\"date_de_passage\"\u001b[0m\u001b[0;34m]\u001b[0m\u001b[0;34m)\u001b[0m\u001b[0;34m.\u001b[0m\u001b[0msum\u001b[0m\u001b[0;34m(\u001b[0m\u001b[0;34m)\u001b[0m\u001b[0;34m,\u001b[0m \u001b[0mdf_new\u001b[0m\u001b[0;34m[\u001b[0m\u001b[0mdf_new\u001b[0m\u001b[0;34m[\u001b[0m\u001b[0;34m\"dep\"\u001b[0m\u001b[0;34m]\u001b[0m\u001b[0;34m.\u001b[0m\u001b[0mstr\u001b[0m\u001b[0;34m.\u001b[0m\u001b[0mlen\u001b[0m\u001b[0;34m(\u001b[0m\u001b[0;34m)\u001b[0m\u001b[0;34m<=\u001b[0m\u001b[0;36m2\u001b[0m\u001b[0;34m]\u001b[0m\u001b[0;34m.\u001b[0m\u001b[0mgroupby\u001b[0m\u001b[0;34m(\u001b[0m\u001b[0;34m[\u001b[0m\u001b[0;34m\"jour\"\u001b[0m\u001b[0;34m]\u001b[0m\u001b[0;34m)\u001b[0m\u001b[0;34m.\u001b[0m\u001b[0msum\u001b[0m\u001b[0;34m(\u001b[0m\u001b[0;34m)\u001b[0m\u001b[0;34m,\u001b[0m \u001b[0mdata_vacsi\u001b[0m\u001b[0;34m=\u001b[0m\u001b[0mdf_vacsi_dep\u001b[0m\u001b[0;34m[\u001b[0m\u001b[0mdf_new\u001b[0m\u001b[0;34m[\u001b[0m\u001b[0;34m\"dep\"\u001b[0m\u001b[0;34m]\u001b[0m\u001b[0;34m.\u001b[0m\u001b[0mstr\u001b[0m\u001b[0;34m.\u001b[0m\u001b[0mlen\u001b[0m\u001b[0;34m(\u001b[0m\u001b[0;34m)\u001b[0m\u001b[0;34m<=\u001b[0m\u001b[0;36m2\u001b[0m\u001b[0;34m]\u001b[0m\u001b[0;34m.\u001b[0m\u001b[0mgroupby\u001b[0m\u001b[0;34m(\u001b[0m\u001b[0;34m[\u001b[0m\u001b[0;34m\"jour\"\u001b[0m\u001b[0;34m]\u001b[0m\u001b[0;34m)\u001b[0m\u001b[0;34m.\u001b[0m\u001b[0msum\u001b[0m\u001b[0;34m(\u001b[0m\u001b[0;34m)\u001b[0m\u001b[0;34m)\u001b[0m\u001b[0;34m\u001b[0m\u001b[0;34m\u001b[0m\u001b[0m\n\u001b[1;32m      9\u001b[0m     \u001b[0mdict_data\u001b[0m\u001b[0;34m[\u001b[0m\u001b[0;34m\"drom_com\"\u001b[0m\u001b[0;34m]\u001b[0m \u001b[0;34m=\u001b[0m \u001b[0mgenerate_data\u001b[0m\u001b[0;34m(\u001b[0m\u001b[0mdf_incid\u001b[0m\u001b[0;34m[\u001b[0m\u001b[0mdf_incid\u001b[0m\u001b[0;34m[\u001b[0m\u001b[0;34m\"dep\"\u001b[0m\u001b[0;34m]\u001b[0m\u001b[0;34m.\u001b[0m\u001b[0mstr\u001b[0m\u001b[0;34m.\u001b[0m\u001b[0mlen\u001b[0m\u001b[0;34m(\u001b[0m\u001b[0;34m)\u001b[0m\u001b[0;34m>\u001b[0m\u001b[0;36m2\u001b[0m\u001b[0;34m]\u001b[0m\u001b[0;34m.\u001b[0m\u001b[0mgroupby\u001b[0m\u001b[0;34m(\u001b[0m\u001b[0;34m[\u001b[0m\u001b[0;34m\"jour\"\u001b[0m\u001b[0;34m]\u001b[0m\u001b[0;34m)\u001b[0m\u001b[0;34m.\u001b[0m\u001b[0msum\u001b[0m\u001b[0;34m(\u001b[0m\u001b[0;34m)\u001b[0m\u001b[0;34m,\u001b[0m \u001b[0mdf\u001b[0m\u001b[0;34m[\u001b[0m\u001b[0mdf\u001b[0m\u001b[0;34m[\u001b[0m\u001b[0;34m\"dep\"\u001b[0m\u001b[0;34m]\u001b[0m\u001b[0;34m.\u001b[0m\u001b[0mstr\u001b[0m\u001b[0;34m.\u001b[0m\u001b[0mlen\u001b[0m\u001b[0;34m(\u001b[0m\u001b[0;34m)\u001b[0m\u001b[0;34m>\u001b[0m\u001b[0;36m2\u001b[0m\u001b[0;34m]\u001b[0m\u001b[0;34m.\u001b[0m\u001b[0mgroupby\u001b[0m\u001b[0;34m(\u001b[0m\u001b[0;34m[\u001b[0m\u001b[0;34m\"jour\"\u001b[0m\u001b[0;34m]\u001b[0m\u001b[0;34m)\u001b[0m\u001b[0;34m.\u001b[0m\u001b[0msum\u001b[0m\u001b[0;34m(\u001b[0m\u001b[0;34m)\u001b[0m\u001b[0;34m,\u001b[0m \u001b[0mdf_sursaud\u001b[0m\u001b[0;34m[\u001b[0m\u001b[0mdf_sursaud\u001b[0m\u001b[0;34m[\u001b[0m\u001b[0;34m\"dep\"\u001b[0m\u001b[0;34m]\u001b[0m\u001b[0;34m.\u001b[0m\u001b[0mstr\u001b[0m\u001b[0;34m.\u001b[0m\u001b[0mlen\u001b[0m\u001b[0;34m(\u001b[0m\u001b[0;34m)\u001b[0m\u001b[0;34m>\u001b[0m\u001b[0;36m2\u001b[0m\u001b[0;34m]\u001b[0m\u001b[0;34m.\u001b[0m\u001b[0mgroupby\u001b[0m\u001b[0;34m(\u001b[0m\u001b[0;34m[\u001b[0m\u001b[0;34m\"date_de_passage\"\u001b[0m\u001b[0;34m]\u001b[0m\u001b[0;34m)\u001b[0m\u001b[0;34m.\u001b[0m\u001b[0msum\u001b[0m\u001b[0;34m(\u001b[0m\u001b[0;34m)\u001b[0m\u001b[0;34m,\u001b[0m \u001b[0mdf_new\u001b[0m\u001b[0;34m[\u001b[0m\u001b[0mdf_new\u001b[0m\u001b[0;34m[\u001b[0m\u001b[0;34m\"dep\"\u001b[0m\u001b[0;34m]\u001b[0m\u001b[0;34m.\u001b[0m\u001b[0mstr\u001b[0m\u001b[0;34m.\u001b[0m\u001b[0mlen\u001b[0m\u001b[0;34m(\u001b[0m\u001b[0;34m)\u001b[0m\u001b[0;34m>\u001b[0m\u001b[0;36m2\u001b[0m\u001b[0;34m]\u001b[0m\u001b[0;34m.\u001b[0m\u001b[0mgroupby\u001b[0m\u001b[0;34m(\u001b[0m\u001b[0;34m[\u001b[0m\u001b[0;34m\"jour\"\u001b[0m\u001b[0;34m]\u001b[0m\u001b[0;34m)\u001b[0m\u001b[0;34m.\u001b[0m\u001b[0msum\u001b[0m\u001b[0;34m(\u001b[0m\u001b[0;34m)\u001b[0m\u001b[0;34m,\u001b[0m \u001b[0mdata_vacsi\u001b[0m\u001b[0;34m=\u001b[0m\u001b[0mdf_vacsi_dep\u001b[0m\u001b[0;34m[\u001b[0m\u001b[0mdf_new\u001b[0m\u001b[0;34m[\u001b[0m\u001b[0;34m\"dep\"\u001b[0m\u001b[0;34m]\u001b[0m\u001b[0;34m.\u001b[0m\u001b[0mstr\u001b[0m\u001b[0;34m.\u001b[0m\u001b[0mlen\u001b[0m\u001b[0;34m(\u001b[0m\u001b[0;34m)\u001b[0m\u001b[0;34m>\u001b[0m\u001b[0;36m2\u001b[0m\u001b[0;34m]\u001b[0m\u001b[0;34m.\u001b[0m\u001b[0mgroupby\u001b[0m\u001b[0;34m(\u001b[0m\u001b[0;34m[\u001b[0m\u001b[0;34m\"jour\"\u001b[0m\u001b[0;34m]\u001b[0m\u001b[0;34m)\u001b[0m\u001b[0;34m.\u001b[0m\u001b[0msum\u001b[0m\u001b[0;34m(\u001b[0m\u001b[0;34m)\u001b[0m\u001b[0;34m)\u001b[0m\u001b[0;34m\u001b[0m\u001b[0;34m\u001b[0m\u001b[0m\n",
      "\u001b[0;32m<ipython-input-98-4208c94116ed>\u001b[0m in \u001b[0;36mgenerate_data\u001b[0;34m(data_incid, data_hosp, data_sursaud, data_new, data_vue_ensemble, data_metropole, data_vacsi, data_obepine, mode, export_jour, taux_croissance)\u001b[0m\n\u001b[1;32m     15\u001b[0m         \u001b[0mcas\u001b[0m \u001b[0;34m=\u001b[0m \u001b[0mdata_incid\u001b[0m\u001b[0;34m[\u001b[0m\u001b[0;34m\"P\"\u001b[0m\u001b[0;34m]\u001b[0m\u001b[0;34m.\u001b[0m\u001b[0mfillna\u001b[0m\u001b[0;34m(\u001b[0m\u001b[0;36m0\u001b[0m\u001b[0;34m)\u001b[0m\u001b[0;34m\u001b[0m\u001b[0;34m\u001b[0m\u001b[0m\n\u001b[1;32m     16\u001b[0m         \u001b[0mtaux_croissance_cas\u001b[0m \u001b[0;34m=\u001b[0m \u001b[0;34m(\u001b[0m\u001b[0;34m(\u001b[0m\u001b[0mcas\u001b[0m\u001b[0;34m-\u001b[0m\u001b[0mcas\u001b[0m\u001b[0;34m.\u001b[0m\u001b[0mshift\u001b[0m\u001b[0;34m(\u001b[0m\u001b[0;36m7\u001b[0m\u001b[0;34m)\u001b[0m\u001b[0;34m)\u001b[0m\u001b[0;34m/\u001b[0m\u001b[0mcas\u001b[0m\u001b[0;34m.\u001b[0m\u001b[0mshift\u001b[0m\u001b[0;34m(\u001b[0m\u001b[0;36m7\u001b[0m\u001b[0;34m)\u001b[0m\u001b[0;34m.\u001b[0m\u001b[0mreplace\u001b[0m\u001b[0;34m(\u001b[0m\u001b[0;36m0\u001b[0m\u001b[0;34m,\u001b[0m \u001b[0;32mNone\u001b[0m\u001b[0;34m)\u001b[0m\u001b[0;34m)\u001b[0m\u001b[0;34m.\u001b[0m\u001b[0mfillna\u001b[0m\u001b[0;34m(\u001b[0m\u001b[0;36m0\u001b[0m\u001b[0;34m)\u001b[0m \u001b[0;34m*\u001b[0m \u001b[0;36m100\u001b[0m\u001b[0;34m\u001b[0m\u001b[0;34m\u001b[0m\u001b[0m\n\u001b[0;32m---> 17\u001b[0;31m         \u001b[0mtaux_croissance_cas\u001b[0m \u001b[0;34m=\u001b[0m \u001b[0mtaux_croissance_cas\u001b[0m\u001b[0;34m[\u001b[0m\u001b[0mtaux_croissance_cas\u001b[0m\u001b[0;34m>\u001b[0m\u001b[0;36m200\u001b[0m\u001b[0;34m]\u001b[0m\u001b[0;34m=\u001b[0m\u001b[0;36m200\u001b[0m\u001b[0;34m\u001b[0m\u001b[0;34m\u001b[0m\u001b[0m\n\u001b[0m\u001b[1;32m     18\u001b[0m         \u001b[0mtaux_croissance_cas\u001b[0m \u001b[0;34m=\u001b[0m \u001b[0mtaux_croissance_cas\u001b[0m\u001b[0;34m[\u001b[0m\u001b[0mtaux_croissance_cas\u001b[0m\u001b[0;34m<\u001b[0m\u001b[0;34m-\u001b[0m\u001b[0;36m200\u001b[0m\u001b[0;34m]\u001b[0m\u001b[0;34m=\u001b[0m\u001b[0;34m-\u001b[0m\u001b[0;36m200\u001b[0m\u001b[0;34m\u001b[0m\u001b[0;34m\u001b[0m\u001b[0m\n\u001b[1;32m     19\u001b[0m \u001b[0;34m\u001b[0m\u001b[0m\n",
      "\u001b[0;31mTypeError\u001b[0m: 'int' object does not support item assignment"
     ]
    }
   ],
   "source": [
    "dataexplorer()"
   ]
  },
  {
   "cell_type": "code",
   "execution_count": 89,
   "metadata": {},
   "outputs": [],
   "source": [
    "dict_data = dataexplorer_age()"
   ]
  },
  {
   "cell_type": "code",
   "execution_count": 90,
   "metadata": {},
   "outputs": [],
   "source": [
    "dataexplorer_education()"
   ]
  }
 ],
 "metadata": {
  "kernelspec": {
   "display_name": "Python 3",
   "language": "python",
   "name": "python3"
  },
  "language_info": {
   "codemirror_mode": {
    "name": "ipython",
    "version": 3
   },
   "file_extension": ".py",
   "mimetype": "text/x-python",
   "name": "python",
   "nbconvert_exporter": "python",
   "pygments_lexer": "ipython3",
   "version": "3.7.4"
  }
 },
 "nbformat": 4,
 "nbformat_minor": 2
}
