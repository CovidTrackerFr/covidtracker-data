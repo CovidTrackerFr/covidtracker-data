{
 "cells": [
  {
   "cell_type": "code",
   "execution_count": 1,
   "metadata": {},
   "outputs": [],
   "source": [
    "import pandas as pd\n",
    "from plotly.subplots import make_subplots\n",
    "import plotly.graph_objects as go\n",
    "import plotly\n",
    "from datetime import datetime\n",
    "PATH = \"../../\""
   ]
  },
  {
   "cell_type": "code",
   "execution_count": 6,
   "metadata": {},
   "outputs": [],
   "source": [
    "df_mortalite = pd.read_csv('https://www.insee.fr/fr/statistiques/fichier/4487988/2021-11-19_deces_quotidiens_departement_csv.zip', sep=\";\", encoding=\"'windows-1252'\")\n",
    "df_mortalite_2018 = pd.read_csv(PATH+'data/france/deces_quotidiens_departement_csv_avec_2018.csv', sep=\";\", encoding=\"'windows-1252'\")\n"
   ]
  },
  {
   "cell_type": "code",
   "execution_count": 7,
   "metadata": {},
   "outputs": [
    {
     "name": "stderr",
     "output_type": "stream",
     "text": [
      "/usr/local/lib/python3.9/site-packages/pandas/core/indexing.py:1597: SettingWithCopyWarning: \n",
      "A value is trying to be set on a copy of a slice from a DataFrame.\n",
      "Try using .loc[row_indexer,col_indexer] = value instead\n",
      "\n",
      "See the caveats in the documentation: https://pandas.pydata.org/pandas-docs/stable/user_guide/indexing.html#returning-a-view-versus-a-copy\n",
      "  self.obj[key] = value\n",
      "/usr/local/lib/python3.9/site-packages/pandas/core/indexing.py:1676: SettingWithCopyWarning: \n",
      "A value is trying to be set on a copy of a slice from a DataFrame.\n",
      "Try using .loc[row_indexer,col_indexer] = value instead\n",
      "\n",
      "See the caveats in the documentation: https://pandas.pydata.org/pandas-docs/stable/user_guide/indexing.html#returning-a-view-versus-a-copy\n",
      "  self._setitem_single_column(ilocs[0], value, pi)\n"
     ]
    }
   ],
   "source": [
    "\n",
    "df_mortalite_france = df_mortalite[df_mortalite[\"Zone\"] == \"France\"]\n",
    "df_mortalite_france_2018 = df_mortalite_2018[df_mortalite_2018[\"Zone\"] == \"France\"]\n",
    "window = 7\n",
    "#df_mortalite_france.loc[:,\"Total_deces_2018_diff\"] = df_mortalite_france[\"Total_deces_2018\"].diff().rolling(window=window, center=True).mean()\n",
    "df_mortalite_france_2018.loc[:,\"Total_deces_2018_diff\"] = df_mortalite_france_2018[\"Total_deces_2018\"].diff().rolling(window=window, center=True).mean()\n",
    "\n",
    "df_mortalite_france.loc[:,\"Total_deces_2019_diff\"] = df_mortalite_france[\"Total_deces_2019\"].diff().rolling(window=window, center=True).mean()\n",
    "df_mortalite_france.loc[:,\"Total_deces_2020_diff\"] = df_mortalite_france[\"Total_deces_2020\"].diff().rolling(window=window, center=True).mean()\n",
    "df_mortalite_france.loc[:,\"Total_deces_2021_diff\"] = df_mortalite_france[\"Total_deces_2021\"].diff().rolling(window=window, center=True).mean()"
   ]
  },
  {
   "cell_type": "code",
   "execution_count": 10,
   "metadata": {},
   "outputs": [
    {
     "name": "stdout",
     "output_type": "stream",
     "text": [
      "> mortalite\n"
     ]
    }
   ],
   "source": [
    "#### Construction du graphique\n",
    "fig = make_subplots(specs=[[{\"secondary_y\": False}]])\n",
    "\n",
    "# Ajout R_effectif estimé via les urgences au graph\n",
    "\"\"\"fig.add_trace(go.Scatter(x = df_mortalite_france[\"Date_evenement\"], y = df_mortalite_france[\"Total_deces_2018_diff\"],\n",
    "                    mode='lines',\n",
    "                    line=dict(width=4, color=\"rgb(96, 178, 219)\"),\n",
    "                    name=\"Décès 2018\",\n",
    "                    marker_size=4,\n",
    "                    showlegend=True\n",
    "                       ))\"\"\"\n",
    "\n",
    "\n",
    "fig.add_trace(go.Scatter(x = df_mortalite_france[\"Date_evenement\"], y = df_mortalite_france[\"Total_deces_2019_diff\"],\n",
    "                    mode='lines',\n",
    "                    line=dict(width=4, color=\"rgb(11, 131, 191)\"),\n",
    "                    name=\"Décès 2019\",\n",
    "                    marker_size=4,\n",
    "                    showlegend=True\n",
    "                       ))\n",
    "fig.add_trace(go.Scatter(x = df_mortalite_france_2018[\"Date_evenement\"], y = df_mortalite_france_2018[\"Total_deces_2018_diff\"],\n",
    "                    mode='lines',\n",
    "                    line=dict(width=4, color=\"rgb(96, 178, 219)\"),\n",
    "                    name=\"Décès 2018\",\n",
    "                    marker_size=4,\n",
    "                    showlegend=True\n",
    "                       ))\n",
    "\n",
    "fig.add_trace(go.Scatter(x = df_mortalite_france[\"Date_evenement\"], y = df_mortalite_france[\"Total_deces_2020_diff\"],\n",
    "                    mode='lines',\n",
    "                    line=dict(width=4, color=\"#ffa58f\"),\n",
    "                    name=\"Décès 2020\",\n",
    "                    marker_size=4,\n",
    "                    showlegend=True\n",
    "                       ))\n",
    "\n",
    "\n",
    "fig.add_trace(go.Scatter(x = df_mortalite_france[\"Date_evenement\"], y = df_mortalite_france[\"Total_deces_2021_diff\"],\n",
    "                    mode='lines',\n",
    "                    line=dict(width=4, color=\"red\"),\n",
    "                    name=\"Décès 2021\",\n",
    "                    marker_size=4,\n",
    "                    showlegend=True\n",
    "                       ))\n",
    "\n",
    "mortalite_now = df_mortalite_france.dropna()[\"Total_deces_2021_diff\"].values[-1]\n",
    "fig.add_trace(go.Scatter(x = [df_mortalite_france.dropna()[\"Date_evenement\"].values[-1]], y = [mortalite_now],\n",
    "                    mode='markers',\n",
    "                    name=\"\",\n",
    "                    line=dict(width=4, color=\"red\"),\n",
    "                    marker_color='red',\n",
    "                    marker_size=10,\n",
    "                    showlegend=False\n",
    "                            ))\n",
    "# Modification du layout\n",
    "fig.update_layout(\n",
    "    margin=dict(\n",
    "            l=0,\n",
    "            r=0,\n",
    "            b=50,\n",
    "            t=70,\n",
    "            pad=0\n",
    "        ),\n",
    "    legend_orientation=\"h\",\n",
    "    title={\n",
    "                'text': \"<b>Mortalité en France</b><br><sub>Moyenne mobile de {} jours pour lisser les irrégularités. Derniers jours non consolidés.\".format(window),\n",
    "                'y':0.95,\n",
    "                'x':0.5,\n",
    "                'xanchor': 'center',\n",
    "                'yanchor': 'top'},\n",
    "    titlefont = dict(\n",
    "                size=20),\n",
    "    annotations = [\n",
    "                dict(\n",
    "                    x=0.5,\n",
    "                    y=-0.1,\n",
    "                    xref='paper',\n",
    "                    yref='paper',\n",
    "                    opacity=0.8,\n",
    "                    text='Date : {}. Source : INSEE. Auteur : Guillaume Rozier - covidtracker.fr.'.format(datetime.now().strftime('%d %B %Y')),                    showarrow = False\n",
    "                )]\n",
    "                 )\n",
    "fig.update_xaxes(title=\"\", nticks=10)\n",
    "fig.update_yaxes(title=\"\", rangemode=\"tozero\")\n",
    "\n",
    "name_fig = \"mortalite\"\n",
    "fig.write_image(PATH+\"images/charts/france/{}.jpeg\".format(name_fig), scale=3, width=900, height=550)\n",
    "\n",
    "fig.update_layout(\n",
    "    annotations = [\n",
    "                dict(\n",
    "                    x=0.5,\n",
    "                    y=1.05,\n",
    "                    xref='paper',\n",
    "                    yref='paper',\n",
    "                    xanchor='center',\n",
    "                    text='Cliquez sur des éléments de légende pour les ajouter/supprimer',\n",
    "                    showarrow = False\n",
    "                )]\n",
    "                 )\n",
    "plotly.offline.plot(fig, filename = PATH+'images/html_exports/france/{}.html'.format(name_fig), auto_open=False)\n",
    "print(\"> \" + name_fig)"
   ]
  }
 ],
 "metadata": {
  "kernelspec": {
   "display_name": "Python 3",
   "language": "python",
   "name": "python3"
  },
  "language_info": {
   "codemirror_mode": {
    "name": "ipython",
    "version": 3
   },
   "file_extension": ".py",
   "mimetype": "text/x-python",
   "name": "python",
   "nbconvert_exporter": "python",
   "pygments_lexer": "ipython3",
   "version": "3.9.5"
  }
 },
 "nbformat": 4,
 "nbformat_minor": 2
}
