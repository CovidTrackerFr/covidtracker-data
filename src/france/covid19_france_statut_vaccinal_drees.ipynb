{
 "cells": [
  {
   "cell_type": "code",
   "execution_count": 22,
   "metadata": {},
   "outputs": [
    {
     "data": {
      "text/plain": [
       "\"\\n\\nLICENSE MIT\\n2020\\nGuillaume Rozier\\nWebsite : http://www.covidtracker.fr\\nMail : guillaume.rozier@telecomnancy.net\\n\\nREADME:\\nThis file contains scripts that download data from data.gouv.fr and then process it to build many graphes.\\n\\nThe charts are exported to 'charts/images/france'.\\nData is download to/imported from 'data/france'.\\nRequirements: please see the imports below (use pip3 to install them).\\n\\n\""
      ]
     },
     "execution_count": 22,
     "metadata": {},
     "output_type": "execute_result"
    }
   ],
   "source": [
    "\"\"\"\n",
    "\n",
    "LICENSE MIT\n",
    "2020\n",
    "Guillaume Rozier\n",
    "Website : http://www.covidtracker.fr\n",
    "Mail : guillaume.rozier@telecomnancy.net\n",
    "\n",
    "README:\n",
    "This file contains scripts that download data from data.gouv.fr and then process it to build many graphes.\n",
    "\n",
    "The charts are exported to 'charts/images/france'.\n",
    "Data is download to/imported from 'data/france'.\n",
    "Requirements: please see the imports below (use pip3 to install them).\n",
    "\n",
    "\"\"\""
   ]
  },
  {
   "cell_type": "code",
   "execution_count": 23,
   "metadata": {},
   "outputs": [
    {
     "data": {
      "text/plain": [
       "'fr_FR.UTF-8'"
      ]
     },
     "execution_count": 23,
     "metadata": {},
     "output_type": "execute_result"
    }
   ],
   "source": [
    "import pandas as pd\n",
    "import plotly.express as px\n",
    "from datetime import timedelta\n",
    "import france_data_management as data\n",
    "import plotly.graph_objects as go\n",
    "from plotly.subplots import make_subplots\n",
    "from datetime import datetime\n",
    "import plotly\n",
    "import cv2\n",
    "import numpy as np\n",
    "PATH = \"../../\"\n",
    "import locale\n",
    "locale.setlocale(locale.LC_ALL, 'fr_FR.UTF-8')"
   ]
  },
  {
   "cell_type": "code",
   "execution_count": 24,
   "metadata": {},
   "outputs": [],
   "source": [
    "COULEUR_NON_VACCINES = \"#C65102\"\n",
    "COULEUR_COMPLETEMENT_VACCINES = \"#00308F\"\n",
    "COULEUR_COMPLETEMENT_VACCINES_RAPPEL = \"black\"\n",
    "COULEUR_PARTIELLEMENT_VACCINES = \"#4777d6\""
   ]
  },
  {
   "cell_type": "code",
   "execution_count": 25,
   "metadata": {},
   "outputs": [],
   "source": [
    "df_drees = pd.read_csv(\"https://data.drees.solidarites-sante.gouv.fr/explore/dataset/covid-19-resultats-issus-des-appariements-entre-si-vic-si-dep-et-vac-si/download/?format=csv&timezone=Europe/Berlin&lang=fr&use_labels_for_header=true&csv_separator=%3B\", sep=\";\")\n",
    "#df_drees = pd.read_csv(\"https://data.drees.solidarites-sante.gouv.fr/explore/dataset/covid-19-anciens-resultats-nationaux-issus-des-appariements-entre-si-vic-si-dep-/download/?format=csv&timezone=Europe/Berlin&lang=fr&use_labels_for_header=true&csv_separator=%3B\", sep=\";\")\n",
    "#df_drees = df_drees[df_drees[\"date\"]<=\"2021-09-26\"] #TODO SUPPR\n",
    "\n",
    "df_drees = df_drees.sort_values(by=\"date\")\n",
    "df_drees = df_drees[df_drees[\"vac_statut\"]!=\"Ensemble\"]\n"
   ]
  },
  {
   "cell_type": "code",
   "execution_count": 26,
   "metadata": {},
   "outputs": [],
   "source": [
    "df_drees_age = pd.read_csv(\"https://data.drees.solidarites-sante.gouv.fr/explore/dataset/covid-19-resultats-par-age-issus-des-appariements-entre-si-vic-si-dep-et-vac-si/download/?format=csv&timezone=Europe/Berlin&lang=fr&use_labels_for_header=true&csv_separator=%3B\", sep=\";\")\n",
    "\n",
    "df_drees_age_all = df_drees_age.groupby([\"date\", \"vac_statut\", \"age\"]).sum().reset_index()\n",
    "df_drees_age = df_drees_age.sort_values(by=\"date\")\n",
    "df_drees_age = df_drees_age[df_drees_age[\"vac_statut\"]!=\"Ensemble\"]\n",
    "df_drees_age_lastday = df_drees_age[df_drees_age[\"date\"] == df_drees_age[\"date\"].max()]"
   ]
  },
  {
   "cell_type": "code",
   "execution_count": 27,
   "metadata": {},
   "outputs": [
    {
     "name": "stderr",
     "output_type": "stream",
     "text": [
      "/Users/guillaumerozier/opt/anaconda3/lib/python3.7/site-packages/ipykernel_launcher.py:2: SettingWithCopyWarning:\n",
      "\n",
      "\n",
      "A value is trying to be set on a copy of a slice from a DataFrame.\n",
      "Try using .loc[row_indexer,col_indexer] = value instead\n",
      "\n",
      "See the caveats in the documentation: http://pandas.pydata.org/pandas-docs/stable/user_guide/indexing.html#returning-a-view-versus-a-copy\n",
      "\n"
     ]
    }
   ],
   "source": [
    "df_drees_non_vaccines = df_drees[df_drees[\"vac_statut\"]==\"Non-vaccinés\"]\n",
    "df_drees_non_vaccines[\"effectif\"] = df_drees_non_vaccines[\"effectif\"].rolling(window=7).mean()\n",
    "\n",
    "df_drees_completement_vaccines = df_drees[df_drees[\"vac_statut\"].isin([\"Complet de moins de 3 mois - sans rappel\", \"Complet entre 3 mois et 6 mois - sans rappel\", \"Complet de 6 mois et plus - sans rappel\"])].groupby(\"date\").sum().reset_index()\n",
    "df_drees_completement_vaccines[\"effectif\"] = df_drees_completement_vaccines[\"effectif\"].rolling(window=7).mean()\n",
    "\n",
    "df_drees_completement_vaccines_rappel = df_drees[df_drees[\"vac_statut\"].isin([\"Complet de moins de 3 mois - avec rappel\", \"Complet entre 3 mois et 6 mois - avec rappel\", \"Complet de 6 mois et plus - avec rappel\"])].groupby(\"date\").sum().reset_index()\n",
    "df_drees_completement_vaccines_rappel[\"effectif\"] = df_drees_completement_vaccines_rappel[\"effectif\"].rolling(window=7).mean()\n",
    "\n",
    "df_drees_partiellement_vaccines = df_drees[df_drees[\"vac_statut\"].isin([\"Primo dose récente\", \"Primo dose efficace\"])].groupby(\"date\").sum().reset_index()\n",
    "df_drees_partiellement_vaccines[\"effectif\"] = df_drees_partiellement_vaccines[\"effectif\"].rolling(window=7).mean()\n",
    "\n",
    "#df_drees_ensemble = df_drees[df_drees[\"vac_statut\"]==\"Ensemble\"]\n",
    "df_drees_ensemble = df_drees.groupby(\"date\").sum().reset_index()"
   ]
  },
  {
   "cell_type": "code",
   "execution_count": 28,
   "metadata": {},
   "outputs": [],
   "source": [
    "def get_df_by_vaccine_status(df):\n",
    "    df_drees_non_vaccines = df[df[\"vac_statut\"]==\"Non-vaccinés\"]\n",
    "    df_drees_non_vaccines[\"effectif\"] = df_drees_non_vaccines[\"effectif\"].rolling(window=7).mean()\n",
    "\n",
    "    df_drees_completement_vaccines = df[df[\"vac_statut\"].isin([\"Complet de moins de 3 mois - sans rappel\", \"Complet entre 3 mois et 6 mois - sans rappel\", \"Complet de 6 mois et plus - sans rappel\"])].groupby(\"date\").sum().reset_index()\n",
    "    df_drees_completement_vaccines[\"effectif\"] = df_drees_completement_vaccines[\"effectif\"].rolling(window=7).mean()\n",
    "\n",
    "    df_drees_completement_vaccines_rappel = df[df[\"vac_statut\"].isin([\"Complet de moins de 3 mois - avec rappel\", \"Complet entre 3 mois et 6 mois - avec rappel\", \"Complet de 6 mois et plus - avec rappel\"])].groupby(\"date\").sum().reset_index()\n",
    "    df_drees_completement_vaccines_rappel[\"effectif\"] = df_drees_completement_vaccines_rappel[\"effectif\"].rolling(window=7).mean()\n",
    "\n",
    "    df_drees_partiellement_vaccines = df[df[\"vac_statut\"].isin([\"Primo dose récente\", \"Primo dose efficace\"])].groupby(\"date\").sum().reset_index()\n",
    "    df_drees_partiellement_vaccines[\"effectif\"] = df_drees_partiellement_vaccines[\"effectif\"].rolling(window=7).mean()\n",
    "\n",
    "    #df_drees_ensemble = df_drees[df_drees[\"vac_statut\"]==\"Ensemble\"]\n",
    "    df_drees_ensemble = df.groupby(\"date\").sum().reset_index()\n",
    "    \n",
    "    return df_drees_non_vaccines, df_drees_completement_vaccines, df_drees_completement_vaccines_rappel, df_drees_partiellement_vaccines, df_drees_ensemble\n",
    "    "
   ]
  },
  {
   "cell_type": "code",
   "execution_count": 29,
   "metadata": {},
   "outputs": [
    {
     "name": "stderr",
     "output_type": "stream",
     "text": [
      "/Users/guillaumerozier/opt/anaconda3/lib/python3.7/site-packages/ipykernel_launcher.py:3: SettingWithCopyWarning:\n",
      "\n",
      "\n",
      "A value is trying to be set on a copy of a slice from a DataFrame.\n",
      "Try using .loc[row_indexer,col_indexer] = value instead\n",
      "\n",
      "See the caveats in the documentation: http://pandas.pydata.org/pandas-docs/stable/user_guide/indexing.html#returning-a-view-versus-a-copy\n",
      "\n"
     ]
    }
   ],
   "source": [
    "fig = go.Figure()\n",
    "ages=df_drees_age_lastday.age.sort_values().unique()\n",
    "ages = np.delete(ages, np.where(ages == '[0,19]'))\n",
    "\n",
    "ages_str = [\"20 à 39 ans\", \"40 à 59 ans\", \"60 à 79 ans\", \"plus 80 ans\"]\n",
    "    \n",
    "y=[]\n",
    "for age in ages:\n",
    "    data, _, _, _, _ = get_df_by_vaccine_status(df_drees_age[df_drees_age.age==age])\n",
    "    y+=[data[\"HC\"].rolling(window=7).mean().values[-1]/data[\"effectif\"].values[-1]*10000000]\n",
    "\n",
    "fig.add_trace(go.Bar(\n",
    "    x=ages_str,\n",
    "    y=y,\n",
    "    marker=dict(color=COULEUR_NON_VACCINES),\n",
    "    text=[int(round(val)) for val in y],\n",
    "    textposition='outside',\n",
    "    name=\"Non vaccinés\"\n",
    "))\n",
    "\n",
    "y=[]\n",
    "for age in ages:\n",
    "    #data=df_drees_age[df_drees_age.vac_statut.isin([\"Primo dose récente\", \"Primo dose efficace\"])].groupby([\"date\", \"age\"]).sum().reset_index()\n",
    "    _, _, _, data, _ = get_df_by_vaccine_status(df_drees_age[df_drees_age.age==age])\n",
    "    y+=[data[\"HC\"].rolling(window=7).mean().values[-1]/data[\"effectif\"].values[-1]*10000000]\n",
    "\n",
    "fig.add_trace(go.Bar(\n",
    "    x=ages_str,\n",
    "    y=y,\n",
    "    marker=dict(color=COULEUR_PARTIELLEMENT_VACCINES),\n",
    "    text=[int(round(val)) for val in y],\n",
    "    textposition='outside',\n",
    "    name=\"Partiellement vaccinés\")\n",
    "             )\n",
    "\n",
    "y=[]\n",
    "for age in ages:\n",
    "    _, data, _, _, _ = get_df_by_vaccine_status(df_drees_age[df_drees_age.age==age])\n",
    "    y+=[data[\"HC\"].rolling(window=7).mean().values[-1]/data[\"effectif\"].values[-1]*10000000]\n",
    "\n",
    "fig.add_trace(go.Bar(\n",
    "    x=ages_str,\n",
    "    y=y,\n",
    "    marker=dict(color=COULEUR_COMPLETEMENT_VACCINES),\n",
    "    text=[int(round(val)) for val in y],\n",
    "    textposition='outside',\n",
    "    name=\"Totalement vaccinés\"\n",
    "))\n",
    "\n",
    "y=[]\n",
    "for age in ages:\n",
    "    _, _, data, _, _ = get_df_by_vaccine_status(df_drees_age[df_drees_age.age==age])\n",
    "    y+=[data[\"HC\"].rolling(window=7).mean().values[-1]/data[\"effectif\"].values[-1]*10000000]\n",
    "\n",
    "fig.add_trace(go.Bar(\n",
    "    x=ages_str,\n",
    "    y=y,\n",
    "    marker=dict(color=COULEUR_COMPLETEMENT_VACCINES_RAPPEL),\n",
    "    text=[int(round(val)) for val in y],\n",
    "    textposition='outside',\n",
    "    name=\"Totalement vaccinés (avec rappel)\"\n",
    "))\n",
    "    \n",
    "fig.update_layout(\n",
    "    barmode=\"group\", bargroupgap=0,\n",
    "    title={\n",
    "                        'text': \"<b>Admissions à l'hôpital</b> pour Covid\",\n",
    "                        'y':0.97,\n",
    "                        'x':0.5,\n",
    "                        'xanchor': 'center',\n",
    "                        'yanchor': 'top'},\n",
    "    titlefont = dict(\n",
    "                    size=25),\n",
    "    annotations = [\n",
    "                        dict(\n",
    "                            x=0.5,\n",
    "                            y=1.12,\n",
    "                            xref='paper',\n",
    "                            yref='paper',\n",
    "                            font=dict(size=14),\n",
    "                            text=\"selon le statut vaccinal et l'âge, pour 10 Mio hab. de chaque groupe - {} (moyenne semaine)<br>Données DREES - @GuillaumeRozier - covidtracker.fr\".format(datetime.strptime(df_drees.date.max(), '%Y-%m-%d').strftime('%d %B %Y')),#'Date : {}. Source : Santé publique France. Auteur : GRZ - covidtracker.fr.'.format(),                    showarrow = False\n",
    "                            showarrow=False\n",
    "                        ),\n",
    "                        ]\n",
    "                 )\n",
    "\n",
    "fig.add_annotation(\n",
    "    x=0.5,\n",
    "    y=-0.225,\n",
    "    xref='paper',\n",
    "    yref='paper',\n",
    "    text=\"<i>Une personne est considérée comme vaccinée après avoir terminé son schéma vaccinal.</i>\",\n",
    "    font=dict(size=9),\n",
    "    showarrow=False,\n",
    "    yshift=30,\n",
    "    xshift=0\n",
    ")\n",
    "\n",
    "fig.update_yaxes(title=\"Admissions à l'hôpital pour 10 Mio\")\n",
    "fig.update_xaxes(title=\"Âge\")\n",
    "name_fig = \"hc_statut_vaccinal_age\"\n",
    "fig.write_image(PATH + \"images/charts/france/{}.jpeg\".format(name_fig), scale=2, width=900, height=600)"
   ]
  },
  {
   "cell_type": "code",
   "execution_count": 30,
   "metadata": {},
   "outputs": [
    {
     "name": "stderr",
     "output_type": "stream",
     "text": [
      "/Users/guillaumerozier/opt/anaconda3/lib/python3.7/site-packages/ipykernel_launcher.py:3: SettingWithCopyWarning:\n",
      "\n",
      "\n",
      "A value is trying to be set on a copy of a slice from a DataFrame.\n",
      "Try using .loc[row_indexer,col_indexer] = value instead\n",
      "\n",
      "See the caveats in the documentation: http://pandas.pydata.org/pandas-docs/stable/user_guide/indexing.html#returning-a-view-versus-a-copy\n",
      "\n"
     ]
    }
   ],
   "source": [
    "import numpy as np\n",
    "\n",
    "fig = go.Figure()\n",
    "ages=df_drees_age_lastday.age.sort_values().unique()\n",
    "ages_str = [\"0 à 19 ans\", \"20 à 39 ans\", \"40 à 59 ans\", \"60 à 79 ans\", \"plus 80 ans\"]\n",
    "\n",
    "y_non_vaccines=[]\n",
    "for age in ages:\n",
    "    data, _, _, _, _ = get_df_by_vaccine_status(df_drees_age[df_drees_age.age==age])\n",
    "    y_non_vaccines+=[data[\"HC\"].rolling(window=7).mean().values[-1]/data[\"effectif\"].values[-1]*10000000]\n",
    "\n",
    "y_partiellement_vaccines=[]\n",
    "for age in ages:\n",
    "    _, _, _, data, _ = get_df_by_vaccine_status(df_drees_age[df_drees_age.age==age])\n",
    "    y_partiellement_vaccines+=[data[\"HC\"].rolling(window=7).mean().values[-1]/data[\"effectif\"].values[-1]*10000000]\n",
    "\n",
    "y_completement_vaccines=[]\n",
    "for age in ages:\n",
    "    _, data, _, _, _ = get_df_by_vaccine_status(df_drees_age[df_drees_age.age==age])\n",
    "    y_completement_vaccines+=[data[\"HC\"].rolling(window=7).mean().values[-1]/data[\"effectif\"].values[-1]*10000000]\n",
    "\n",
    "y=(np.array(y_non_vaccines)-np.array(y_completement_vaccines))/np.array(y_non_vaccines)\n",
    "fig.add_trace(go.Bar(\n",
    "    x=ages_str,\n",
    "    y=y,\n",
    "    marker=dict(color=COULEUR_COMPLETEMENT_VACCINES),\n",
    "    text=[str(int(round(val*100)))+\" %\" for val in y],\n",
    "    textposition='inside',\n",
    "    textfont=dict(size=16),\n",
    "    name=\"Totalement vaccinés\",\n",
    "    showlegend=False\n",
    "))\n",
    "y=(np.array(y_non_vaccines)-np.array(y_completement_vaccines))/np.array(y_non_vaccines)\n",
    "fig.add_trace(go.Bar(\n",
    "    x=ages_str,\n",
    "    y=1-y,\n",
    "    marker=dict(color=\"grey\"),\n",
    "    showlegend=False\n",
    "   \n",
    "))\n",
    "    \n",
    "fig.update_layout(\n",
    "    barmode=\"stack\", bargroupgap=0,\n",
    "    title={\n",
    "                        'text': \"<b>Réduction du taux d'admissions à l'hôpital</b> pour Covid\",\n",
    "                        'y':0.97,\n",
    "                        'x':0.5,\n",
    "                        'xanchor': 'center',\n",
    "                        'yanchor': 'top'},\n",
    "    titlefont = dict(\n",
    "                    size=25),\n",
    "    annotations = [\n",
    "                        dict(\n",
    "                            x=0.5,\n",
    "                            y=1.12,\n",
    "                            xref='paper',\n",
    "                            yref='paper',\n",
    "                            font=dict(size=14),\n",
    "                            text=\"chez les vaccinés par rapport aux non vaccinés, selon l'âge - {} (moyenne semaine)<br>Données DREES - @GuillaumeRozier - covidtracker.fr\".format(datetime.strptime(df_drees.date.max(), '%Y-%m-%d').strftime('%d %B %Y')),#'Date : {}. Source : Santé publique France. Auteur : GRZ - covidtracker.fr.'.format(),                    showarrow = False\n",
    "                            showarrow=False\n",
    "                        ),\n",
    "                        ]\n",
    "                 )\n",
    "\n",
    "fig.add_annotation(\n",
    "    x=0.5,\n",
    "    y=-0.225,\n",
    "    xref='paper',\n",
    "    yref='paper',\n",
    "    text=\"<i>Une personne est considérée comme vaccinée après avoir terminé son schéma vaccinal.</i>\",\n",
    "    font=dict(size=9),\n",
    "    showarrow=False,\n",
    "    yshift=30,\n",
    "    xshift=0\n",
    ")\n",
    "\n",
    "fig.update_yaxes(title=\"Réduction du taux d'admissions à l'hôpital\", tickformat=\"%\", range=[0,1])\n",
    "fig.update_xaxes(title=\"Âge\", tickfont=dict(size=16))\n",
    "name_fig = \"hc_statut_vaccinal_age_diminution_risque\"\n",
    "fig.write_image(PATH + \"images/charts/france/{}.jpeg\".format(name_fig), scale=2, width=900, height=600)"
   ]
  },
  {
   "cell_type": "code",
   "execution_count": 31,
   "metadata": {},
   "outputs": [
    {
     "name": "stderr",
     "output_type": "stream",
     "text": [
      "/Users/guillaumerozier/opt/anaconda3/lib/python3.7/site-packages/ipykernel_launcher.py:3: SettingWithCopyWarning:\n",
      "\n",
      "\n",
      "A value is trying to be set on a copy of a slice from a DataFrame.\n",
      "Try using .loc[row_indexer,col_indexer] = value instead\n",
      "\n",
      "See the caveats in the documentation: http://pandas.pydata.org/pandas-docs/stable/user_guide/indexing.html#returning-a-view-versus-a-copy\n",
      "\n"
     ]
    }
   ],
   "source": [
    "import numpy as np\n",
    "\n",
    "fig = go.Figure()\n",
    "ages=df_drees_age_lastday.age.sort_values().unique()\n",
    "ages_str = [\"0 à 19 ans\", \"20 à 39 ans\", \"40 à 59 ans\", \"60 à 79 ans\", \"plus 80 ans\"]\n",
    "\n",
    "y_non_vaccines=[]\n",
    "for age in ages:\n",
    "    data, _, _, _, _ = get_df_by_vaccine_status(df_drees_age[df_drees_age.age==age])\n",
    "    y_non_vaccines+=[data[\"SC\"].rolling(window=7).mean().values[-1]/data[\"effectif\"].values[-1]*10000000]\n",
    "\n",
    "y_partiellement_vaccines=[]\n",
    "for age in ages:\n",
    "    _, _, _, data, _ = get_df_by_vaccine_status(df_drees_age[df_drees_age.age==age])\n",
    "    y_partiellement_vaccines+=[data[\"SC\"].rolling(window=7).mean().values[-1]/data[\"effectif\"].values[-1]*10000000]\n",
    "\n",
    "y_completement_vaccines=[]\n",
    "for age in ages:\n",
    "    _, data, _, _, _ = get_df_by_vaccine_status(df_drees_age[df_drees_age.age==age])\n",
    "    y_completement_vaccines+=[data[\"SC\"].rolling(window=7).mean().values[-1]/data[\"effectif\"].values[-1]*10000000]\n",
    "\n",
    "y=(np.array(y_non_vaccines)-np.array(y_completement_vaccines))/np.array(y_non_vaccines)\n",
    "fig.add_trace(go.Bar(\n",
    "    x=ages_str,\n",
    "    y=y,\n",
    "    marker=dict(color=COULEUR_COMPLETEMENT_VACCINES),\n",
    "    text=[str(int(round(val*100)))+\" %\" for val in y],\n",
    "    textposition='inside',\n",
    "    textfont=dict(size=16),\n",
    "    name=\"Totalement vaccinés\",\n",
    "    showlegend=False\n",
    "))\n",
    "y=(np.array(y_non_vaccines)-np.array(y_completement_vaccines))/np.array(y_non_vaccines)\n",
    "fig.add_trace(go.Bar(\n",
    "    x=ages_str,\n",
    "    y=1-y,\n",
    "    marker=dict(color=\"grey\"),\n",
    "    showlegend=False\n",
    "   \n",
    "))\n",
    "    \n",
    "fig.update_layout(\n",
    "    barmode=\"stack\", bargroupgap=0,\n",
    "    title={\n",
    "                        'text': \"<b>Réduction du taux d'admissions en soins critiques</b> pour Covid\",\n",
    "                        'y':0.97,\n",
    "                        'x':0.5,\n",
    "                        'xanchor': 'center',\n",
    "                        'yanchor': 'top'},\n",
    "    titlefont = dict(\n",
    "                    size=25),\n",
    "    annotations = [\n",
    "                        dict(\n",
    "                            x=0.5,\n",
    "                            y=1.12,\n",
    "                            xref='paper',\n",
    "                            yref='paper',\n",
    "                            font=dict(size=14),\n",
    "                            text=\"chez les vaccinés par rapport aux non vaccinés, selon l'âge - {} (moyenne semaine)<br>Données DREES - @GuillaumeRozier - covidtracker.fr\".format(datetime.strptime(df_drees.date.max(), '%Y-%m-%d').strftime('%d %B %Y')),#'Date : {}. Source : Santé publique France. Auteur : GRZ - covidtracker.fr.'.format(),                    showarrow = False\n",
    "                            showarrow=False\n",
    "                        ),\n",
    "                        ]\n",
    "                 )\n",
    "\n",
    "fig.add_annotation(\n",
    "    x=0.5,\n",
    "    y=-0.225,\n",
    "    xref='paper',\n",
    "    yref='paper',\n",
    "    text=\"<i>Une personne est considérée comme vaccinée après avoir terminé son schéma vaccinal.</i>\",\n",
    "    font=dict(size=9),\n",
    "    showarrow=False,\n",
    "    yshift=30,\n",
    "    xshift=0\n",
    ")\n",
    "\n",
    "fig.update_yaxes(title=\"Réduction du taux d'admissions en soins critiques\", tickformat=\"%\", range=[0,1])\n",
    "fig.update_xaxes(title=\"Âge\", tickfont=dict(size=16))\n",
    "name_fig = \"sc_statut_vaccinal_age_diminution_risque\"\n",
    "fig.write_image(PATH + \"images/charts/france/{}.jpeg\".format(name_fig), scale=2, width=900, height=600)"
   ]
  },
  {
   "cell_type": "code",
   "execution_count": 32,
   "metadata": {},
   "outputs": [
    {
     "name": "stderr",
     "output_type": "stream",
     "text": [
      "/Users/guillaumerozier/opt/anaconda3/lib/python3.7/site-packages/ipykernel_launcher.py:3: SettingWithCopyWarning:\n",
      "\n",
      "\n",
      "A value is trying to be set on a copy of a slice from a DataFrame.\n",
      "Try using .loc[row_indexer,col_indexer] = value instead\n",
      "\n",
      "See the caveats in the documentation: http://pandas.pydata.org/pandas-docs/stable/user_guide/indexing.html#returning-a-view-versus-a-copy\n",
      "\n"
     ]
    }
   ],
   "source": [
    "import ast \n",
    "\n",
    "fig = go.Figure()\n",
    "ages=df_drees_age_lastday.age.sort_values().unique()\n",
    "ages = np.delete(ages, np.where(ages == '[0,19]'))\n",
    "ages_str = [\"20 à 39 ans\", \"40 à 59 ans\", \"60 à 79 ans\", \"plus 80 ans\"]\n",
    "\n",
    "y=[]\n",
    "for age in ages:\n",
    "    data, _, _, _, _ = get_df_by_vaccine_status(df_drees_age[df_drees_age.age==age])\n",
    "    y+=[data[\"SC\"].rolling(window=7).mean().values[-1]/data[\"effectif\"].values[-1]*10000000]\n",
    "\n",
    "fig.add_trace(go.Bar(\n",
    "    x=ages_str,\n",
    "    y=y,\n",
    "    marker=dict(color=COULEUR_NON_VACCINES),\n",
    "    text=[int(round(val)) for val in y],\n",
    "    textposition='outside',\n",
    "    name=\"Non vaccinés\"\n",
    "))\n",
    "\n",
    "y=[]\n",
    "for age in ages:\n",
    "    _, _, _, data, _ = get_df_by_vaccine_status(df_drees_age[df_drees_age.age==age])\n",
    "    y+=[data[\"SC\"].rolling(window=7).mean().values[-1]/data[\"effectif\"].values[-1]*10000000]\n",
    "\n",
    "fig.add_trace(go.Bar(\n",
    "    x=ages_str,\n",
    "    y=y,\n",
    "    marker=dict(color=COULEUR_PARTIELLEMENT_VACCINES),\n",
    "    text=[int(round(val)) for val in y],\n",
    "    textposition='outside',\n",
    "    name=\"Partiellement vaccinés\")\n",
    "             )\n",
    "\n",
    "y=[]\n",
    "for age in ages:\n",
    "    _, data, _, _, _ = get_df_by_vaccine_status(df_drees_age[df_drees_age.age==age])\n",
    "    y+=[data[\"SC\"].rolling(window=7).mean().values[-1]/data[\"effectif\"].values[-1]*10000000]\n",
    "\n",
    "fig.add_trace(go.Bar(\n",
    "    x=ages_str,\n",
    "    y=y,\n",
    "    marker=dict(color=COULEUR_COMPLETEMENT_VACCINES),\n",
    "    text=[int(round(val)) for val in y],\n",
    "    textposition='outside',\n",
    "    name=\"Totalement vaccinés\"\n",
    "))\n",
    "\n",
    "y=[]\n",
    "for age in ages:\n",
    "    _, _, data, _, _ = get_df_by_vaccine_status(df_drees_age[df_drees_age.age==age])\n",
    "    y+=[data[\"SC\"].rolling(window=7).mean().values[-1]/data[\"effectif\"].values[-1]*10000000]\n",
    "\n",
    "fig.add_trace(go.Bar(\n",
    "    x=ages_str,\n",
    "    y=y,\n",
    "    marker=dict(color=COULEUR_COMPLETEMENT_VACCINES_RAPPEL),\n",
    "    text=[int(round(val)) for val in y],\n",
    "    textposition='outside',\n",
    "    name=\"Totalement vaccinés (avec rappel)\"\n",
    "))\n",
    "    \n",
    "fig.update_layout(\n",
    "    barmode=\"group\", bargroupgap=0,\n",
    "    title={\n",
    "                        'text': \"<b>Admissions en soins critiques</b> pour Covid\",\n",
    "                        'y':0.97,\n",
    "                        'x':0.5,\n",
    "                        'xanchor': 'center',\n",
    "                        'yanchor': 'top'},\n",
    "    titlefont = dict(\n",
    "                    size=25),\n",
    "    annotations = [\n",
    "                        dict(\n",
    "                            x=0.5,\n",
    "                            y=1.12,\n",
    "                            xref='paper',\n",
    "                            yref='paper',\n",
    "                            font=dict(size=14),\n",
    "                            text=\"selon le statut vaccinal et l'âge, pour 10 Mio hab. de chaque groupe - {} (moyenne semaine)<br>Données DREES - @GuillaumeRozier - covidtracker.fr\".format(datetime.strptime(df_drees.date.max(), '%Y-%m-%d').strftime('%d %B %Y')),#'Date : {}. Source : Santé publique France. Auteur : GRZ - covidtracker.fr.'.format(),                    showarrow = False\n",
    "                            showarrow=False\n",
    "                        ),\n",
    "                        ]\n",
    "                 )\n",
    "\n",
    "fig.add_annotation(\n",
    "    x=0.5,\n",
    "    y=-0.225,\n",
    "    xref='paper',\n",
    "    yref='paper',\n",
    "    text=\"<i>Une personne est considérée comme vaccinée après avoir terminé son schéma vaccinal.</i>\",\n",
    "    font=dict(size=9),\n",
    "    showarrow=False,\n",
    "    yshift=30,\n",
    "    xshift=0\n",
    ")\n",
    "\n",
    "fig.update_yaxes(title=\"Admissions en soins critiques pour 10 Mio\")\n",
    "fig.update_xaxes(title=\"Âge\")\n",
    "name_fig = \"sc_statut_vaccinal_age\"\n",
    "fig.write_image(PATH + \"images/charts/france/{}.jpeg\".format(name_fig), scale=2, width=900, height=600)\n",
    "#fig.show()"
   ]
  },
  {
   "cell_type": "code",
   "execution_count": 33,
   "metadata": {},
   "outputs": [],
   "source": [
    "locale.setlocale(locale.LC_TIME, 'fr_FR')\n",
    "fig = go.Figure()\n",
    "\n",
    "fig.add_trace(\n",
    "    go.Scatter(\n",
    "        x=df_drees_non_vaccines[\"date\"].values,\n",
    "        y=df_drees_non_vaccines[\"nb_PCR+_sympt\"].rolling(window=7).mean() / df_drees_non_vaccines[\"effectif\"] * 10000000,\n",
    "        name=\"Non vaccinés\",\n",
    "        line_color=\"#C65102\",\n",
    "        line_width=4\n",
    "    )\n",
    ")\n",
    "fig.add_trace(\n",
    "    go.Scatter(\n",
    "        x=[df_drees_non_vaccines[\"date\"].values[-1]],\n",
    "        y=[(df_drees_non_vaccines[\"nb_PCR+_sympt\"].rolling(window=7).mean() / df_drees_non_vaccines[\"effectif\"] * 10000000).values[-1]],\n",
    "        name=\"Non vaccinés\",\n",
    "        line_color=\"#C65102\",\n",
    "        marker_size=10,\n",
    "        showlegend=False\n",
    "    )\n",
    ")\n",
    "fig.add_trace(\n",
    "    go.Scatter(\n",
    "        x=df_drees_completement_vaccines[\"date\"].values,\n",
    "        y=df_drees_completement_vaccines[\"nb_PCR+_sympt\"].rolling(window=7).mean() / df_drees_completement_vaccines[\"effectif\"] * 10000000,\n",
    "        name=\"Vaccinés\",\n",
    "        line_color=\"#00308F\",\n",
    "        line_width=4\n",
    "    )\n",
    ")\n",
    "fig.add_trace(\n",
    "    go.Scatter(\n",
    "        x=[df_drees_completement_vaccines[\"date\"].values[-1]],\n",
    "        y=[(df_drees_completement_vaccines[\"nb_PCR+_sympt\"].rolling(window=7).mean() / df_drees_completement_vaccines[\"effectif\"] * 10000000).values[-1]],\n",
    "        name=\"Vaccinés\",\n",
    "        line_color=\"#00308F\",\n",
    "        marker_size=10,\n",
    "        showlegend=False\n",
    "    )\n",
    ")\n",
    "\n",
    "fig.add_trace(\n",
    "    go.Scatter(\n",
    "        x=df_drees_completement_vaccines_rappel[\"date\"].values,\n",
    "        y=df_drees_completement_vaccines_rappel[\"nb_PCR+_sympt\"].rolling(window=7).mean() / df_drees_completement_vaccines_rappel[\"effectif\"] * 10000000,\n",
    "        name=\"Vaccinés (rappel)\",\n",
    "        line_color=\"black\",\n",
    "        line_width=4\n",
    "    )\n",
    ")\n",
    "fig.add_trace(\n",
    "    go.Scatter(\n",
    "        x=[df_drees_completement_vaccines_rappel[\"date\"].values[-1]],\n",
    "        y=[(df_drees_completement_vaccines_rappel[\"nb_PCR+_sympt\"].rolling(window=7).mean() / df_drees_completement_vaccines_rappel[\"effectif\"] * 10000000).values[-1]],\n",
    "        name=\"Vaccinés (rappel)\",\n",
    "        line_color=\"black\",\n",
    "        marker_size=10,\n",
    "        showlegend=False\n",
    "    )\n",
    ")\n",
    "\n",
    "fig.add_trace(\n",
    "    go.Scatter(\n",
    "        x=df_drees_partiellement_vaccines[\"date\"].values,\n",
    "        y=df_drees_partiellement_vaccines[\"nb_PCR+_sympt\"].rolling(window=7).mean() / df_drees_partiellement_vaccines[\"effectif\"] * 10000000,\n",
    "        name=\"Partiellement vaccinés\",\n",
    "        line_color=\"#4777d6\",\n",
    "        line_width=4\n",
    "    )\n",
    ")\n",
    "fig.add_trace(\n",
    "    go.Scatter(\n",
    "        x=[df_drees_partiellement_vaccines[\"date\"].values[-1]],\n",
    "        y=[(df_drees_partiellement_vaccines[\"nb_PCR+_sympt\"].rolling(window=7).mean() / df_drees_partiellement_vaccines[\"effectif\"] * 10000000).values[-1]],\n",
    "        name=\"Partiellement vaccinés\",\n",
    "        line_color=\"#4777d6\",\n",
    "        marker_size=10,\n",
    "        showlegend=False\n",
    "    )\n",
    ")\n",
    "\n",
    "\n",
    "fig.update_layout(\n",
    "    legend=dict(\n",
    "        yanchor=\"top\",\n",
    "        y=0.99,\n",
    "        xanchor=\"left\",\n",
    "        x=0.01,\n",
    "        bgcolor=\"rgba(256,256,256,0.8)\"\n",
    "    ),\n",
    "     margin=dict(\n",
    "            r=160\n",
    "        ),\n",
    "    title={\n",
    "                    'text': \"<b>Cas positifs</b> Covid symptomatiques\",\n",
    "                    'y':0.97,\n",
    "                    'x':0.5,\n",
    "                    'xanchor': 'center',\n",
    "                    'yanchor': 'top'},\n",
    "    titlefont = dict(\n",
    "                    size=25),\n",
    "    annotations = [\n",
    "                        dict(\n",
    "                            x=0.55,\n",
    "                            y=1.12,\n",
    "                            xref='paper',\n",
    "                            yref='paper',\n",
    "                            font=dict(size=14),\n",
    "                            text=\"selon le statut vaccinal, pour 10 Mio hab. de chaque groupe - {} - Données DREES - @GuillaumeRozier - covidtracker.fr\".format(datetime.strptime(df_drees.date.max(), '%Y-%m-%d').strftime('%d %B %Y')),#'Date : {}. Source : Santé publique France. Auteur : GRZ - covidtracker.fr.'.format(),                    showarrow = False\n",
    "                            showarrow=False\n",
    "                        ),\n",
    "                        ]\n",
    ")\n",
    "y=df_drees_non_vaccines[\"nb_PCR+_sympt\"].rolling(window=7).mean().values[-1] / df_drees_non_vaccines[\"effectif\"].values[-1] * 10000000\n",
    "fig.add_annotation(\n",
    "    x=df_drees.date.max(),\n",
    "    y=y,\n",
    "    text=\"<b>\" + str(int(round(y))) + \" cas sympto.<br>non vaccinés</b><br>pour 10 Mio<br>de non vaccinés\",\n",
    "    font=dict(color=COULEUR_NON_VACCINES),\n",
    "    showarrow=False,\n",
    "    align=\"left\",\n",
    "    xshift=95,\n",
    "    yshift=100\n",
    ")\n",
    "y=df_drees_completement_vaccines[\"nb_PCR+_sympt\"].rolling(window=7).mean().values[-1] / df_drees_completement_vaccines[\"effectif\"].values[-1] * 10000000\n",
    "fig.add_annotation(\n",
    "    x=df_drees.date.max(),\n",
    "    y=y,\n",
    "    text=\"<b>\" + str(int(round(y))) + \" cas sympto.<br>vaccinés</b><br>pour 10 Mio<br>de vaccinés\",\n",
    "    font=dict(color=COULEUR_COMPLETEMENT_VACCINES),\n",
    "    showarrow=False,\n",
    "    align=\"left\",\n",
    "    yshift=50,\n",
    "    xshift=95\n",
    ")\n",
    "\n",
    "y=df_drees_completement_vaccines_rappel[\"nb_PCR+_sympt\"].rolling(window=7).mean().values[-1] / df_drees_completement_vaccines_rappel[\"effectif\"].values[-1] * 10000000\n",
    "fig.add_annotation(\n",
    "    x=df_drees.date.max(),\n",
    "    y=y,\n",
    "    text=\"<b>\" + str(int(round(y))) + \" cas sympto.<br>vaccinés (rappel)</b><br>pour 10 Mio<br>de vaccinés (rappel)\",\n",
    "    font=dict(color=COULEUR_COMPLETEMENT_VACCINES_RAPPEL),\n",
    "    showarrow=False,\n",
    "    align=\"left\",\n",
    "    yshift=0,\n",
    "    xshift=105\n",
    ")\n",
    "\n",
    "fig.add_annotation(\n",
    "    x=0.5,\n",
    "    y=-0.225,\n",
    "    xref='paper',\n",
    "    yref='paper',\n",
    "    text=\"<i>Une personne est considérée comme vaccinée après avoir terminé son schéma vaccinal.</i>\",\n",
    "    font=dict(size=9),\n",
    "    showarrow=False,\n",
    "    yshift=30,\n",
    "    xshift=0\n",
    ")\n",
    "\n",
    "fig.update_yaxes(title=\"Cas pos. sympt. / 10 Mio hab. de chaque groupe\")\n",
    "fig.update_xaxes(tickformat=\"%d/%m\", range=[datetime.strptime(df_drees.date.min(), '%Y-%m-%d') + timedelta(days=5), \n",
    "                                                datetime.strptime(df_drees.date.max(), '%Y-%m-%d') + timedelta(days=2)])\n",
    "name_fig = \"pcr_plus_sympt_proportion_selon_statut_vaccinal\"\n",
    "fig.write_image(PATH + \"images/charts/france/{}.jpeg\".format(name_fig), scale=2, width=900, height=600)"
   ]
  },
  {
   "cell_type": "code",
   "execution_count": 34,
   "metadata": {},
   "outputs": [],
   "source": [
    "locale.setlocale(locale.LC_TIME, 'fr_FR')\n",
    "fig = go.Figure()\n",
    "\n",
    "fig.add_trace(\n",
    "    go.Scatter(\n",
    "        x=df_drees_non_vaccines[\"date\"].values,\n",
    "        y=df_drees_non_vaccines[\"nb_PCR+\"].rolling(window=7).mean() / df_drees_non_vaccines[\"effectif\"] * 10000000,\n",
    "        name=\"Non vaccinés\",\n",
    "        line_color=\"#C65102\",\n",
    "        line_width=4\n",
    "    )\n",
    ")\n",
    "fig.add_trace(\n",
    "    go.Scatter(\n",
    "        x=[df_drees_non_vaccines[\"date\"].values[-1]],\n",
    "        y=[(df_drees_non_vaccines[\"nb_PCR+\"].rolling(window=7).mean() / df_drees_non_vaccines[\"effectif\"] * 10000000).values[-1]],\n",
    "        name=\"Non vaccinés\",\n",
    "        line_color=\"#C65102\",\n",
    "        marker_size=10,\n",
    "        showlegend=False\n",
    "    )\n",
    ")\n",
    "\n",
    "fig.add_trace(\n",
    "    go.Scatter(\n",
    "        x=df_drees_completement_vaccines[\"date\"].values,\n",
    "        y=df_drees_completement_vaccines[\"nb_PCR+\"].rolling(window=7).mean() / df_drees_completement_vaccines[\"effectif\"] * 10000000,\n",
    "        name=\"Vaccinés\",\n",
    "        line_color=\"#00308F\",\n",
    "        line_width=4\n",
    "    )\n",
    ")\n",
    "fig.add_trace(\n",
    "    go.Scatter(\n",
    "        x=[df_drees_completement_vaccines[\"date\"].values[-1]],\n",
    "        y=[(df_drees_completement_vaccines[\"nb_PCR+\"].rolling(window=7).mean() / df_drees_completement_vaccines[\"effectif\"] * 10000000).values[-1]],\n",
    "        name=\"Vaccinés\",\n",
    "        line_color=\"#00308F\",\n",
    "        marker_size=10,\n",
    "        showlegend=False\n",
    "    )\n",
    ")\n",
    "\n",
    "fig.add_trace(\n",
    "    go.Scatter(\n",
    "        x=df_drees_completement_vaccines_rappel[\"date\"].values,\n",
    "        y=df_drees_completement_vaccines_rappel[\"nb_PCR+\"].rolling(window=7).mean() / df_drees_completement_vaccines_rappel[\"effectif\"] * 10000000,\n",
    "        name=\"Vaccinés (rappel)\",\n",
    "        line_color=\"black\",\n",
    "        line_width=4\n",
    "    )\n",
    ")\n",
    "fig.add_trace(\n",
    "    go.Scatter(\n",
    "        x=[df_drees_completement_vaccines_rappel[\"date\"].values[-1]],\n",
    "        y=[(df_drees_completement_vaccines_rappel[\"nb_PCR+\"].rolling(window=7).mean() / df_drees_completement_vaccines_rappel[\"effectif\"] * 10000000).values[-1]],\n",
    "        name=\"Vaccinés (rappel)\",\n",
    "        line_color=\"black\",\n",
    "        marker_size=10,\n",
    "        showlegend=False\n",
    "    )\n",
    ")\n",
    "\n",
    "fig.add_trace(\n",
    "    go.Scatter(\n",
    "        x=df_drees_partiellement_vaccines[\"date\"].values,\n",
    "        y=df_drees_partiellement_vaccines[\"nb_PCR+\"].rolling(window=7).mean() / df_drees_partiellement_vaccines[\"effectif\"] * 10000000,\n",
    "        name=\"Partiellement vaccinés\",\n",
    "        line_color=\"#4777d6\",\n",
    "        line_width=4\n",
    "    )\n",
    ")\n",
    "fig.add_trace(\n",
    "    go.Scatter(\n",
    "        x=[df_drees_partiellement_vaccines[\"date\"].values[-1]],\n",
    "        y=[(df_drees_partiellement_vaccines[\"nb_PCR+\"].rolling(window=7).mean() / df_drees_partiellement_vaccines[\"effectif\"] * 10000000).values[-1]],\n",
    "        name=\"Partiellement vaccinés\",\n",
    "        line_color=\"#4777d6\",\n",
    "        marker_size=10,\n",
    "        showlegend=False\n",
    "    )\n",
    ")\n",
    "\n",
    "\n",
    "fig.update_layout(\n",
    "    legend=dict(\n",
    "        yanchor=\"top\",\n",
    "        y=0.99,\n",
    "        xanchor=\"left\",\n",
    "        x=0.01,\n",
    "        bgcolor=\"rgba(256,256,256,0.8)\"\n",
    "    ),\n",
    "     margin=dict(\n",
    "            r=160\n",
    "        ),\n",
    "    title={\n",
    "                    'text': \"<b>Cas positifs</b> Covid\",\n",
    "                    'y':0.97,\n",
    "                    'x':0.5,\n",
    "                    'xanchor': 'center',\n",
    "                    'yanchor': 'top'},\n",
    "    titlefont = dict(\n",
    "                    size=25),\n",
    "    annotations = [\n",
    "                        dict(\n",
    "                            x=0.55,\n",
    "                            y=1.12,\n",
    "                            xref='paper',\n",
    "                            yref='paper',\n",
    "                            font=dict(size=14),\n",
    "                            text=\"selon le statut vaccinal, pour 10 Mio hab. de chaque groupe - {} - Données DREES - @GuillaumeRozier - covidtracker.fr\".format(datetime.strptime(df_drees.date.max(), '%Y-%m-%d').strftime('%d %B %Y')),#'Date : {}. Source : Santé publique France. Auteur : GRZ - covidtracker.fr.'.format(),                    showarrow = False\n",
    "                            showarrow=False\n",
    "                        ),\n",
    "                        ]\n",
    ")\n",
    "y=df_drees_non_vaccines[\"nb_PCR+\"].rolling(window=7).mean().values[-1] / df_drees_non_vaccines[\"effectif\"].values[-1] * 10000000\n",
    "fig.add_annotation(\n",
    "    x=df_drees.date.max(),\n",
    "    y=y,\n",
    "    text=\"<b>\" + str(int(round(y))) + \" cas positifs<br>non vaccinés</b><br>pour 10 Mio<br>de non vaccinés\",\n",
    "    font=dict(color=COULEUR_NON_VACCINES),\n",
    "    showarrow=False,\n",
    "    align=\"left\",\n",
    "    xshift=100,\n",
    "    yshift=0\n",
    ")\n",
    "y=df_drees_completement_vaccines[\"nb_PCR+\"].rolling(window=7).mean().values[-1] / df_drees_completement_vaccines[\"effectif\"].values[-1] * 10000000\n",
    "fig.add_annotation(\n",
    "    x=df_drees.date.max(),\n",
    "    y=y,\n",
    "    text=\"<b>\" + str(int(round(y))) + \" cas positifs<br>vaccinés</b><br>pour 10 Mio<br>de vaccinés\",\n",
    "    font=dict(color=COULEUR_COMPLETEMENT_VACCINES),\n",
    "    showarrow=False,\n",
    "    align=\"left\",\n",
    "    yshift=0,\n",
    "    xshift=100\n",
    ")\n",
    "\n",
    "fig.add_annotation(\n",
    "    x=0.5,\n",
    "    y=-0.225,\n",
    "    xref='paper',\n",
    "    yref='paper',\n",
    "    text=\"<i>Une personne est considérée comme vaccinée après avoir terminé son schéma vaccinal.</i>\",\n",
    "    font=dict(size=9),\n",
    "    showarrow=False,\n",
    "    yshift=30,\n",
    "    xshift=0\n",
    ")\n",
    "\n",
    "fig.update_yaxes(title=\"Cas positifs / 10 Mio hab. de chaque groupe\")\n",
    "fig.update_xaxes(tickformat=\"%d/%m\", range=[datetime.strptime(df_drees.date.min(), '%Y-%m-%d') + timedelta(days=5), \n",
    "                                                datetime.strptime(df_drees.date.max(), '%Y-%m-%d') + timedelta(days=2)])\n",
    "name_fig = \"pcr_plus_proportion_selon_statut_vaccinal\"\n",
    "fig.write_image(PATH + \"images/charts/france/{}.jpeg\".format(name_fig), scale=2, width=900, height=600)"
   ]
  },
  {
   "cell_type": "code",
   "execution_count": 35,
   "metadata": {},
   "outputs": [
    {
     "name": "stderr",
     "output_type": "stream",
     "text": [
      "/Users/guillaumerozier/opt/anaconda3/lib/python3.7/site-packages/ipykernel_launcher.py:3: SettingWithCopyWarning:\n",
      "\n",
      "\n",
      "A value is trying to be set on a copy of a slice from a DataFrame.\n",
      "Try using .loc[row_indexer,col_indexer] = value instead\n",
      "\n",
      "See the caveats in the documentation: http://pandas.pydata.org/pandas-docs/stable/user_guide/indexing.html#returning-a-view-versus-a-copy\n",
      "\n"
     ]
    }
   ],
   "source": [
    "ages_str = [\"0 à 19 ans\", \"20 à 39 ans\", \"40 à 59 ans\", \"60 à 79 ans\", \"plus 80 ans\"]\n",
    "for idx, age in enumerate(ages):\n",
    "    data_non_vaccines, data_completement_vaccines, data_completement_vaccines_rappel, data_partiellement_vaccines, _  = get_df_by_vaccine_status(df_drees_age[(df_drees_age.age==age)])\n",
    "    \n",
    "    fig = go.Figure()\n",
    "\n",
    "    fig.add_trace(\n",
    "        go.Scatter(\n",
    "            x=data_non_vaccines[\"date\"].values,\n",
    "            y=data_non_vaccines[\"nb_PCR+\"].rolling(window=7).mean() / data_non_vaccines[\"effectif\"] * 10000000,\n",
    "            name=\"Non vaccinés\",\n",
    "            line_color=\"#C65102\",\n",
    "            line_width=4\n",
    "        )\n",
    "    )\n",
    "    fig.add_trace(\n",
    "        go.Scatter(\n",
    "            x=[data_non_vaccines[\"date\"].values[-1]],\n",
    "            y=[(data_non_vaccines[\"nb_PCR+\"].rolling(window=7).mean() / data_non_vaccines[\"effectif\"] * 10000000).values[-1]],\n",
    "            name=\"Non vaccinés\",\n",
    "            line_color=\"#C65102\",\n",
    "            marker_size=10,\n",
    "            showlegend=False\n",
    "        )\n",
    "    )\n",
    "\n",
    "    fig.add_trace(\n",
    "        go.Scatter(\n",
    "            x=data_partiellement_vaccines[\"date\"].values,\n",
    "            y=data_partiellement_vaccines[\"nb_PCR+\"].rolling(window=7).mean() / data_partiellement_vaccines[\"effectif\"] * 10000000,\n",
    "            name=\"Partiellement vaccinés\",\n",
    "            line_color=\"#4777d6\",\n",
    "            line_width=4\n",
    "        )\n",
    "    )\n",
    "    fig.add_trace(\n",
    "        go.Scatter(\n",
    "            x=[data_partiellement_vaccines[\"date\"].values[-1]],\n",
    "            y=[(data_partiellement_vaccines[\"nb_PCR+\"].rolling(window=7).mean() / data_partiellement_vaccines[\"effectif\"] * 10000000).values[-1]],\n",
    "            name=\"Partiellement vaccinés\",\n",
    "            line_color=\"#4777d6\",\n",
    "            marker_size=10,\n",
    "            showlegend=False\n",
    "        )\n",
    "    )\n",
    "\n",
    "    fig.add_trace(\n",
    "        go.Scatter(\n",
    "            x=data_completement_vaccines[\"date\"].values,\n",
    "            y=data_completement_vaccines[\"nb_PCR+\"].rolling(window=7).mean() / data_completement_vaccines[\"effectif\"] * 10000000,\n",
    "            name=\"Vaccinés\",\n",
    "            line_color=\"#00308F\",\n",
    "            line_width=4\n",
    "        )\n",
    "    )\n",
    "\n",
    "    fig.add_trace(\n",
    "        go.Scatter(\n",
    "            x=[data_completement_vaccines[\"date\"].values[-1]],\n",
    "            y=[(data_completement_vaccines[\"nb_PCR+\"].rolling(window=7).mean() / data_completement_vaccines[\"effectif\"] * 10000000).values[-1]],\n",
    "            name=\"Vaccinés\",\n",
    "            line_color=\"#00308F\",\n",
    "            marker_size=10,\n",
    "            showlegend=False\n",
    "        )\n",
    "    )\n",
    "    \n",
    "    fig.add_trace(\n",
    "        go.Scatter(\n",
    "            x=data_completement_vaccines_rappel[\"date\"].values,\n",
    "            y=data_completement_vaccines_rappel[\"nb_PCR+\"].rolling(window=7).mean() / data_completement_vaccines_rappel[\"effectif\"] * 10000000,\n",
    "            name=\"Vaccinés\",\n",
    "            line_color=\"black\",\n",
    "            line_width=4\n",
    "        )\n",
    "    )\n",
    "\n",
    "    fig.add_trace(\n",
    "        go.Scatter(\n",
    "            x=[data_completement_vaccines_rappel[\"date\"].values[-1]],\n",
    "            y=[(data_completement_vaccines_rappel[\"nb_PCR+\"].rolling(window=7).mean() / data_completement_vaccines_rappel[\"effectif\"] * 10000000).values[-1]],\n",
    "            name=\"Vaccinés\",\n",
    "            line_color=\"black\",\n",
    "            marker_size=10,\n",
    "            showlegend=False\n",
    "        )\n",
    "    )\n",
    "\n",
    "    fig.update_layout(\n",
    "        legend=dict(\n",
    "            yanchor=\"top\",\n",
    "            y=0.99,\n",
    "            xanchor=\"left\",\n",
    "            x=0.01,\n",
    "            bgcolor=\"rgba(256,256,256,0.8)\"\n",
    "        ),\n",
    "         margin=dict(\n",
    "            r=160\n",
    "        ),\n",
    "        title={\n",
    "                            'text': f\"<b>Cas positifs</b> Covid [{ages_str[idx]}]\",\n",
    "                            'y':0.97,\n",
    "                            'x':0.5,\n",
    "                            'xanchor': 'center',\n",
    "                            'yanchor': 'top'},\n",
    "        titlefont = dict(\n",
    "                        size=25),\n",
    "        annotations = [\n",
    "                            dict(\n",
    "                                x=0.55,\n",
    "                                y=1.12,\n",
    "                                xref='paper',\n",
    "                                yref='paper',\n",
    "                                font=dict(size=14),\n",
    "                                text=\"selon le statut vaccinal, pour 10 Mio hab. de chaque groupe - {}<br>Données DREES - @GuillaumeRozier - covidtracker.fr\".format(datetime.strptime(df_drees.date.max(), '%Y-%m-%d').strftime('%d %B %Y')),#'Date : {}. Source : Santé publique France. Auteur : GRZ - covidtracker.fr.'.format(),                    showarrow = False\n",
    "                                showarrow=False\n",
    "                            ),\n",
    "                            ]\n",
    "    )\n",
    "    y=data_non_vaccines[\"nb_PCR+\"].rolling(window=7).mean().values[-1] / data_non_vaccines[\"effectif\"].values[-1] * 10000000\n",
    "    fig.add_annotation(\n",
    "        x=df_drees.date.max(),\n",
    "        y=y,\n",
    "        text=\"<b>\" + str(int(round(y))) + \" cas positifs<br>non vaccinés</b><br>pour 10 Mio<br>de non vaccinés\",\n",
    "        font=dict(color=COULEUR_NON_VACCINES),\n",
    "        showarrow=False,\n",
    "        align=\"left\",\n",
    "        xshift=100,\n",
    "        yshift=0\n",
    "    )\n",
    "\n",
    "    y=data_completement_vaccines[\"nb_PCR+\"].rolling(window=7).mean().values[-1] / data_completement_vaccines[\"effectif\"].values[-1] * 10000000\n",
    "    fig.add_annotation(\n",
    "        x=df_drees.date.max(),\n",
    "        y=y,\n",
    "        text=\"<b>\" + str(int(round(y))) + \" cas positifs<br>vaccinés</b><br>pour 10 Mio<br>de vaccinés\",\n",
    "        font=dict(color=COULEUR_COMPLETEMENT_VACCINES),\n",
    "        showarrow=False,\n",
    "        align=\"left\",\n",
    "        yshift=0,\n",
    "        xshift=100,\n",
    "    )\n",
    "    \n",
    "    y=data_completement_vaccines_rappel[\"nb_PCR+\"].rolling(window=7).mean().values[-1] / data_completement_vaccines_rappel[\"effectif\"].values[-1] * 10000000\n",
    "    fig.add_annotation(\n",
    "        x=df_drees.date.max(),\n",
    "        y=y,\n",
    "        text=\"<b>\" + str(int(round(y))) + \" cas positifs<br>vaccinés (rappel)</b><br>pour 10 Mio<br>de vaccinés (rappel)\",\n",
    "        font=dict(color=COULEUR_COMPLETEMENT_VACCINES_RAPPEL),\n",
    "        showarrow=False,\n",
    "        align=\"left\",\n",
    "        yshift=0,\n",
    "        xshift=100,\n",
    "    )\n",
    "\n",
    "    fig.add_annotation(\n",
    "        x=0.5,\n",
    "        y=-0.225,\n",
    "        xref='paper',\n",
    "        yref='paper',\n",
    "        text=\"<i>Une personne est considérée comme vaccinée après avoir terminé son schéma vaccinal.<br>Hospitalisations pour suspicion Covid19.</i>\",\n",
    "        font=dict(size=9),\n",
    "        showarrow=False,\n",
    "        xshift=0,\n",
    "        yshift=30\n",
    "    )\n",
    "    fig.update_yaxes(title=\"Admissions quot. / 10 Mio hab. de chaque groupe\")\n",
    "    fig.update_xaxes(tickformat=\"%d/%m\", range=[datetime.strptime(df_drees.date.min(), '%Y-%m-%d') + timedelta(days=5), \n",
    "                                                datetime.strptime(df_drees.date.max(), '%Y-%m-%d') + timedelta(days=2)])\n",
    "    name_fig = f\"pcr_plus_proportion_selon_statut_vaccinal_{age}\"\n",
    "    fig.write_image(PATH + \"images/charts/france/{}.jpeg\".format(name_fig), scale=2, width=900, height=600)"
   ]
  },
  {
   "cell_type": "code",
   "execution_count": 36,
   "metadata": {},
   "outputs": [],
   "source": [
    "fig = go.Figure()\n",
    "\n",
    "fig.add_trace(\n",
    "    go.Scatter(\n",
    "        x=df_drees_non_vaccines[\"date\"].values,\n",
    "        y=df_drees_non_vaccines[\"HC\"].rolling(window=7).mean() / df_drees_non_vaccines[\"effectif\"] * 10000000,\n",
    "        name=\"Non vaccinés\",\n",
    "        line_color=\"#C65102\",\n",
    "        line_width=4\n",
    "    )\n",
    ")\n",
    "fig.add_trace(\n",
    "    go.Scatter(\n",
    "        x=[df_drees_non_vaccines[\"date\"].values[-1]],\n",
    "        y=[(df_drees_non_vaccines[\"HC\"].rolling(window=7).mean() / df_drees_non_vaccines[\"effectif\"] * 10000000).values[-1]],\n",
    "        name=\"Non vaccinés\",\n",
    "        line_color=\"#C65102\",\n",
    "        marker_size=10,\n",
    "        showlegend=False\n",
    "    )\n",
    ")\n",
    "\n",
    "fig.add_trace(\n",
    "    go.Scatter(\n",
    "        x=df_drees_partiellement_vaccines[\"date\"].values,\n",
    "        y=df_drees_partiellement_vaccines[\"HC\"].rolling(window=7).mean() / df_drees_partiellement_vaccines[\"effectif\"] * 10000000,\n",
    "        name=\"Partiellement vaccinés\",\n",
    "        line_color=\"#4777d6\",\n",
    "        line_width=4\n",
    "    )\n",
    ")\n",
    "fig.add_trace(\n",
    "    go.Scatter(\n",
    "        x=[df_drees_partiellement_vaccines[\"date\"].values[-1]],\n",
    "        y=[(df_drees_partiellement_vaccines[\"HC\"].rolling(window=7).mean() / df_drees_partiellement_vaccines[\"effectif\"] * 10000000).values[-1]],\n",
    "        name=\"Partiellement vaccinés\",\n",
    "        line_color=\"#4777d6\",\n",
    "        marker_size=10,\n",
    "        showlegend=False\n",
    "    )\n",
    ")\n",
    "\n",
    "fig.add_trace(\n",
    "    go.Scatter(\n",
    "        x=df_drees_completement_vaccines[\"date\"].values,\n",
    "        y=df_drees_completement_vaccines[\"HC\"].rolling(window=7).mean() / df_drees_completement_vaccines[\"effectif\"] * 10000000,\n",
    "        name=\"Vaccinés\",\n",
    "        line_color=\"#00308F\",\n",
    "        line_width=4\n",
    "    )\n",
    ")\n",
    "\n",
    "fig.add_trace(\n",
    "    go.Scatter(\n",
    "        x=[df_drees_completement_vaccines[\"date\"].values[-1]],\n",
    "        y=[(df_drees_completement_vaccines[\"HC\"].rolling(window=7).mean() / df_drees_completement_vaccines[\"effectif\"] * 10000000).values[-1]],\n",
    "        name=\"Vaccinés\",\n",
    "        line_color=\"#00308F\",\n",
    "        marker_size=10,\n",
    "        showlegend=False\n",
    "    )\n",
    ")\n",
    "\n",
    "fig.add_trace(\n",
    "    go.Scatter(\n",
    "        x=df_drees_completement_vaccines_rappel[\"date\"].values,\n",
    "        y=df_drees_completement_vaccines_rappel[\"HC\"].rolling(window=7).mean() / df_drees_completement_vaccines_rappel[\"effectif\"] * 10000000,\n",
    "        name=\"Vaccinés (rappel)\",\n",
    "        line_color=\"black\",\n",
    "        line_width=4\n",
    "    )\n",
    ")\n",
    "\n",
    "fig.add_trace(\n",
    "    go.Scatter(\n",
    "        x=[df_drees_completement_vaccines_rappel[\"date\"].values[-1]],\n",
    "        y=[(df_drees_completement_vaccines_rappel[\"HC\"].rolling(window=7).mean() / df_drees_completement_vaccines_rappel[\"effectif\"] * 10000000).values[-1]],\n",
    "        name=\"Vaccinés (rappel)\",\n",
    "        line_color=\"black\",\n",
    "        marker_size=10,\n",
    "        showlegend=False\n",
    "    )\n",
    ")\n",
    "\n",
    "\n",
    "fig.update_layout(\n",
    "    legend=dict(\n",
    "        yanchor=\"top\",\n",
    "        y=0.99,\n",
    "        xanchor=\"left\",\n",
    "        x=0.01,\n",
    "        bgcolor=\"rgba(256,256,256,0.8)\"\n",
    "    ),\n",
    "    margin=dict(\n",
    "            r=160\n",
    "        ),\n",
    "    title={\n",
    "                        'text': \"<b>Admissions à l'hôpital</b> pour Covid\",\n",
    "                        'y':0.97,\n",
    "                        'x':0.5,\n",
    "                        'xanchor': 'center',\n",
    "                        'yanchor': 'top'},\n",
    "    titlefont = dict(\n",
    "                    size=25),\n",
    "    annotations = [\n",
    "                        dict(\n",
    "                            x=0.55,\n",
    "                            y=1.12,\n",
    "                            xref='paper',\n",
    "                            yref='paper',\n",
    "                            font=dict(size=14),\n",
    "                            text=\"selon le statut vaccinal, pour 10 Mio hab. de chaque groupe - {}<br>Données DREES - @GuillaumeRozier - covidtracker.fr\".format(datetime.strptime(df_drees.date.max(), '%Y-%m-%d').strftime('%d %B %Y')),#'Date : {}. Source : Santé publique France. Auteur : GRZ - covidtracker.fr.'.format(),                    showarrow = False\n",
    "                            showarrow=False\n",
    "                        ),\n",
    "                        ]\n",
    ")\n",
    "\n",
    "y_non_vaccines=df_drees_non_vaccines[\"HC\"].rolling(window=7).mean().values[-1] / df_drees_non_vaccines[\"effectif\"].values[-1] * 10000000\n",
    "y_vaccines=df_drees_completement_vaccines[\"HC\"].rolling(window=7).mean().values[-1] / df_drees_completement_vaccines[\"effectif\"].values[-1] * 10000000\n",
    "y_vaccines_rappel=df_drees_completement_vaccines_rappel[\"HC\"].rolling(window=7).mean().values[-1] / df_drees_completement_vaccines_rappel[\"effectif\"].values[-1] * 10000000\n",
    "\n",
    "text = f\"<span style='color: {COULEUR_NON_VACCINES};'><b>{str(int(round(y_non_vaccines)))} admissions<br>non vaccinées</b><br>pour 10 Mio<br>de non vaccinés<br><br></span>\"\n",
    "text += f\"<span style='color: {COULEUR_COMPLETEMENT_VACCINES};'><b>{str(int(round(y_vaccines)))} admissions<br>vaccinées</b><br>pour 10 Mio<br>de vaccinés<br><br></span>\"\n",
    "text += f\"<span style='color: {COULEUR_COMPLETEMENT_VACCINES_RAPPEL};'><b>{str(int(round(y_vaccines_rappel)))} admissions<br>vaccinées (rappel)</b><br>pour 10 Mio<br>de vaccinés (rappel)</span>\"\n",
    "\n",
    "fig.add_annotation(\n",
    "    x=df_drees.date.max(),\n",
    "    y=y_vaccines_rappel,\n",
    "    text=text,\n",
    "    font=dict(color=COULEUR_COMPLETEMENT_VACCINES),\n",
    "    showarrow=False,\n",
    "    align=\"left\",\n",
    "    yshift=0,\n",
    "    xshift=100,\n",
    ")\n",
    "\n",
    "fig.add_annotation(\n",
    "    x=0.5,\n",
    "    y=-0.225,\n",
    "    xref='paper',\n",
    "    yref='paper',\n",
    "    text=\"<i>Une personne est considérée comme vaccinée après avoir terminé son schéma vaccinal.<br>Hospitalisations pour suspicion Covid19.</i>\",\n",
    "    font=dict(size=9),\n",
    "    showarrow=False,\n",
    "    yshift=30\n",
    ")\n",
    "fig.update_yaxes(title=\"Admissions quot. / 10 Mio hab. de chaque groupe\")\n",
    "fig.update_xaxes(tickformat=\"%d/%m\", range=[datetime.strptime(df_drees.date.min(), '%Y-%m-%d') + timedelta(days=5), \n",
    "                                                datetime.strptime(df_drees.date.max(), '%Y-%m-%d') + timedelta(days=2)])\n",
    "name_fig = \"hc_proportion_selon_statut_vaccinal\"\n",
    "fig.write_image(PATH + \"images/charts/france/{}.jpeg\".format(name_fig), scale=2, width=900, height=600)"
   ]
  },
  {
   "cell_type": "code",
   "execution_count": 37,
   "metadata": {},
   "outputs": [
    {
     "name": "stderr",
     "output_type": "stream",
     "text": [
      "/Users/guillaumerozier/opt/anaconda3/lib/python3.7/site-packages/ipykernel_launcher.py:3: SettingWithCopyWarning:\n",
      "\n",
      "\n",
      "A value is trying to be set on a copy of a slice from a DataFrame.\n",
      "Try using .loc[row_indexer,col_indexer] = value instead\n",
      "\n",
      "See the caveats in the documentation: http://pandas.pydata.org/pandas-docs/stable/user_guide/indexing.html#returning-a-view-versus-a-copy\n",
      "\n"
     ]
    }
   ],
   "source": [
    "ages=df_drees_age_lastday.age.sort_values().unique()\n",
    "ages_str = [\"0 à 19 ans\", \"20 à 39 ans\", \"40 à 59 ans\", \"60 à 79 ans\", \"plus 80 ans\"]\n",
    "\n",
    "for idx, age in enumerate(ages):\n",
    "    data_non_vaccines, data_completement_vaccines, data_completement_vaccines_rappel, data_partiellement_vaccines, _  = get_df_by_vaccine_status(df_drees_age[(df_drees_age.age==age)])\n",
    "    \n",
    "    fig = go.Figure()\n",
    "\n",
    "    fig.add_trace(\n",
    "        go.Scatter(\n",
    "            x=data_non_vaccines[\"date\"].values,\n",
    "            y=data_non_vaccines[\"HC\"].rolling(window=7).mean() / data_non_vaccines[\"effectif\"] * 10000000,\n",
    "            name=\"Non vaccinés\",\n",
    "            line_color=\"#C65102\",\n",
    "            line_width=4\n",
    "        )\n",
    "    )\n",
    "    fig.add_trace(\n",
    "        go.Scatter(\n",
    "            x=[data_non_vaccines[\"date\"].values[-1]],\n",
    "            y=[(data_non_vaccines[\"HC\"].rolling(window=7).mean() / data_non_vaccines[\"effectif\"] * 10000000).values[-1]],\n",
    "            name=\"Non vaccinés\",\n",
    "            line_color=\"#C65102\",\n",
    "            marker_size=10,\n",
    "            showlegend=False\n",
    "        )\n",
    "    )\n",
    "\n",
    "    fig.add_trace(\n",
    "        go.Scatter(\n",
    "            x=data_partiellement_vaccines[\"date\"].values,\n",
    "            y=data_partiellement_vaccines[\"HC\"].rolling(window=7).mean() / data_partiellement_vaccines[\"effectif\"] * 10000000,\n",
    "            name=\"Partiellement vaccinés\",\n",
    "            line_color=\"#4777d6\",\n",
    "            line_width=4\n",
    "        )\n",
    "    )\n",
    "    fig.add_trace(\n",
    "        go.Scatter(\n",
    "            x=[data_partiellement_vaccines[\"date\"].values[-1]],\n",
    "            y=[(data_partiellement_vaccines[\"HC\"].rolling(window=7).mean() / data_partiellement_vaccines[\"effectif\"] * 10000000).values[-1]],\n",
    "            name=\"Partiellement vaccinés\",\n",
    "            line_color=\"#4777d6\",\n",
    "            marker_size=10,\n",
    "            showlegend=False\n",
    "        )\n",
    "    )\n",
    "\n",
    "    fig.add_trace(\n",
    "        go.Scatter(\n",
    "            x=data_completement_vaccines[\"date\"].values,\n",
    "            y=data_completement_vaccines[\"HC\"].rolling(window=7).mean() / data_completement_vaccines[\"effectif\"] * 10000000,\n",
    "            name=\"Vaccinés\",\n",
    "            line_color=\"#00308F\",\n",
    "            line_width=4\n",
    "        )\n",
    "    )\n",
    "\n",
    "    fig.add_trace(\n",
    "        go.Scatter(\n",
    "            x=[data_completement_vaccines[\"date\"].values[-1]],\n",
    "            y=[(data_completement_vaccines[\"HC\"].rolling(window=7).mean() / data_completement_vaccines[\"effectif\"] * 10000000).values[-1]],\n",
    "            name=\"Vaccinés\",\n",
    "            line_color=\"#00308F\",\n",
    "            marker_size=10,\n",
    "            showlegend=False\n",
    "        )\n",
    "    )\n",
    "    \n",
    "    fig.add_trace(\n",
    "        go.Scatter(\n",
    "            x=data_completement_vaccines_rappel[\"date\"].values,\n",
    "            y=data_completement_vaccines_rappel[\"HC\"].rolling(window=7).mean() / data_completement_vaccines_rappel[\"effectif\"] * 10000000,\n",
    "            name=\"Vaccinés (rappel)\",\n",
    "            line_color=\"black\",\n",
    "            line_width=4\n",
    "        )\n",
    "    )\n",
    "\n",
    "    fig.add_trace(\n",
    "        go.Scatter(\n",
    "            x=[data_completement_vaccines_rappel[\"date\"].values[-1]],\n",
    "            y=[(data_completement_vaccines_rappel[\"HC\"].rolling(window=7).mean() / data_completement_vaccines_rappel[\"effectif\"] * 10000000).values[-1]],\n",
    "            name=\"Vaccinés (rappel)\",\n",
    "            line_color=\"black\",\n",
    "            marker_size=10,\n",
    "            showlegend=False\n",
    "        )\n",
    "    )\n",
    "\n",
    "\n",
    "    fig.update_layout(\n",
    "        legend=dict(\n",
    "            yanchor=\"top\",\n",
    "            y=0.99,\n",
    "            xanchor=\"left\",\n",
    "            x=0.01,\n",
    "            bgcolor=\"rgba(256,256,256,0.8)\"\n",
    "        ),\n",
    "         margin=dict(\n",
    "            r=160\n",
    "        ),\n",
    "        title={\n",
    "                            'text': f\"<b>Admissions à l'hôpital</b> pour Covid [{ages_str[idx]}]\",\n",
    "                            'y':0.97,\n",
    "                            'x':0.5,\n",
    "                            'xanchor': 'center',\n",
    "                            'yanchor': 'top'},\n",
    "        titlefont = dict(\n",
    "                        size=25),\n",
    "        annotations = [\n",
    "                            dict(\n",
    "                                x=0.55,\n",
    "                                y=1.12,\n",
    "                                xref='paper',\n",
    "                                yref='paper',\n",
    "                                font=dict(size=14),\n",
    "                                text=\"selon le statut vaccinal, pour 10 Mio hab. de chaque groupe - {}<br>Données DREES - @GuillaumeRozier - covidtracker.fr\".format(datetime.strptime(df_drees.date.max(), '%Y-%m-%d').strftime('%d %B %Y')),#'Date : {}. Source : Santé publique France. Auteur : GRZ - covidtracker.fr.'.format(),                    showarrow = False\n",
    "                                showarrow=False\n",
    "                            ),\n",
    "                            ]\n",
    "    )\n",
    "    \n",
    "    y_non_vaccines=data_non_vaccines[\"HC\"].rolling(window=7).mean().values[-1] / data_non_vaccines[\"effectif\"].values[-1] * 10000000\n",
    "    y_vaccines=data_completement_vaccines[\"HC\"].rolling(window=7).mean().values[-1] / data_completement_vaccines[\"effectif\"].values[-1] * 10000000\n",
    "    y_vaccines_rappel=data_completement_vaccines_rappel[\"HC\"].rolling(window=7).mean().values[-1] / data_completement_vaccines_rappel[\"effectif\"].values[-1] * 10000000\n",
    "\n",
    "    text = f\"<span style='color: {COULEUR_NON_VACCINES};'><b>{str(int(round(y_non_vaccines)))} admissions<br>non vaccinées</b><br>pour 10 Mio<br>de non vaccinés<br><br></span>\"\n",
    "    text += f\"<span style='color: {COULEUR_COMPLETEMENT_VACCINES};'><b>{str(int(round(y_vaccines)))} admissions<br>vaccinées</b><br>pour 10 Mio<br>de vaccinés<br><br></span>\"\n",
    "    text += f\"<span style='color: {COULEUR_COMPLETEMENT_VACCINES_RAPPEL};'><b>{str(int(round(y_vaccines_rappel)))} admissions<br>vaccinées (rappel)</b><br>pour 10 Mio<br>de vaccinés (rappel)</span>\"\n",
    "\n",
    "    fig.add_annotation(\n",
    "        x=data_completement_vaccines_rappel.date.max(),\n",
    "        y=y_vaccines_rappel,\n",
    "        text=text,\n",
    "        yanchor=\"bottom\",\n",
    "        showarrow=False,\n",
    "        align=\"left\",\n",
    "        yshift=0,\n",
    "        xshift=100,\n",
    "    )\n",
    "\n",
    "    fig.add_annotation(\n",
    "        x=0.5,\n",
    "        y=-0.225,\n",
    "        xref='paper',\n",
    "        yref='paper',\n",
    "        text=\"<i>Une personne est considérée comme vaccinée après avoir terminé son schéma vaccinal.<br>Hospitalisations pour suspicion Covid19.</i>\",\n",
    "        font=dict(size=9),\n",
    "        showarrow=False,\n",
    "        xshift=0,\n",
    "        yshift=30\n",
    "    )\n",
    "    \n",
    "    if age=='[0,19]':\n",
    "        fig.add_annotation(\n",
    "            x=0.5,\n",
    "            y=0.5,\n",
    "            xref='paper',\n",
    "            yref='paper',\n",
    "            text=\"⚠️ Données trop faibles, graphique non interprétable\",\n",
    "            font=dict(size=30, color=\"red\"),\n",
    "            bgcolor=\"rgba(255, 255, 255, 0.5)\",\n",
    "            showarrow=False,\n",
    "            xshift=0,\n",
    "            yshift=30\n",
    "        )\n",
    "        \n",
    "    fig.update_yaxes(title=\"Admissions quot. / 10 Mio hab. de chaque groupe\")\n",
    "    fig.update_xaxes(tickformat=\"%d/%m\", range=[datetime.strptime(df_drees.date.min(), '%Y-%m-%d') + timedelta(days=5), \n",
    "                                                datetime.strptime(df_drees.date.max(), '%Y-%m-%d') + timedelta(days=2)])\n",
    "    name_fig = f\"hc_proportion_selon_statut_vaccinal_{age}\"\n",
    "    fig.write_image(PATH + \"images/charts/france/{}.jpeg\".format(name_fig), scale=2, width=900, height=600)\n",
    "    plotly.offline.plot(fig, filename = PATH + 'images/html_exports/france/{}.html'.format(name_fig), auto_open=False)"
   ]
  },
  {
   "cell_type": "code",
   "execution_count": 38,
   "metadata": {},
   "outputs": [
    {
     "name": "stderr",
     "output_type": "stream",
     "text": [
      "/Users/guillaumerozier/opt/anaconda3/lib/python3.7/site-packages/ipykernel_launcher.py:3: SettingWithCopyWarning:\n",
      "\n",
      "\n",
      "A value is trying to be set on a copy of a slice from a DataFrame.\n",
      "Try using .loc[row_indexer,col_indexer] = value instead\n",
      "\n",
      "See the caveats in the documentation: http://pandas.pydata.org/pandas-docs/stable/user_guide/indexing.html#returning-a-view-versus-a-copy\n",
      "\n"
     ]
    }
   ],
   "source": [
    "ages_str = [\"0 à 19 ans\", \"20 à 39 ans\", \"40 à 59 ans\", \"60 à 79 ans\", \"plus 80 ans\"]\n",
    "for idx, age in enumerate(ages):\n",
    "    data_non_vaccines, data_completement_vaccines, data_completement_vaccines_rappel, _, _ = get_df_by_vaccine_status(df_drees_age[df_drees_age.age==age])\n",
    "    \n",
    "    fig = go.Figure()\n",
    "    \n",
    "    y_non_vaccines=(data_non_vaccines[\"HC\"].rolling(window=7).mean() / data_non_vaccines[\"effectif\"] * 10000000).values\n",
    "    y_completement_vaccines=(data_completement_vaccines[\"HC\"].rolling(window=7).mean() / data_completement_vaccines[\"effectif\"] * 10000000).values\n",
    "    y=y_non_vaccines / y_completement_vaccines\n",
    "    \n",
    "    fig.add_trace(\n",
    "        go.Scatter(\n",
    "            x=data_non_vaccines[\"date\"].values,\n",
    "            y=y,\n",
    "            name=\"Ratio\",\n",
    "            line_color=\"black\",\n",
    "            line_width=4,\n",
    "            yaxis=\"y2\",\n",
    "        )\n",
    "    )\n",
    "    \n",
    "    fig.add_trace(\n",
    "        go.Scatter(\n",
    "            x=data_non_vaccines[\"date\"].values,\n",
    "            y=y_non_vaccines,\n",
    "            name=\"Taux adm. non vaccinées\",\n",
    "            marker_color=\"rgba(198, 81, 2, 0.2)\",\n",
    "            #fill=\"tozeroy\",\n",
    "            fillcolor=\"rgba(198, 81, 2, 0.2)\",\n",
    "            yaxis=\"y\"\n",
    "        )\n",
    "    )\n",
    "    \n",
    "    fig.add_trace(\n",
    "        go.Scatter(\n",
    "            x=data_non_vaccines[\"date\"].values,\n",
    "            y=y_completement_vaccines,\n",
    "            name=\"Taux adm. complètement vaccinées\",\n",
    "            marker_color=\"rgba(0, 48, 143, 0.2)\",\n",
    "            #fill=\"tozeroy\",\n",
    "            fillcolor=\"rgba(0, 48, 143, 0.2)\",\n",
    "            yaxis=\"y\"\n",
    "        )\n",
    "    )\n",
    "    \n",
    "\n",
    "    fig.update_layout(\n",
    "        yaxis=dict(\n",
    "            title=\"Admissions / jour / 100k hab.<br>\",\n",
    "            titlefont=dict(\n",
    "                color=\"#ff7f0e\"\n",
    "            ),\n",
    "            tickfont=dict(\n",
    "                color=\"#ff7f0e\"\n",
    "            ),\n",
    "            showgrid=False\n",
    "        ),\n",
    "        yaxis2=dict(\n",
    "            title=\"Ratio : adm. non vaccinées / adm. complètement vaccinées\",\n",
    "            titlefont=dict(\n",
    "                color=\"black\"\n",
    "            ),\n",
    "            tickfont=dict(\n",
    "                color=\"black\"\n",
    "            ),\n",
    "            anchor=\"free\",\n",
    "            overlaying=\"y\",\n",
    "            side=\"left\",\n",
    "            position=0,\n",
    "            showgrid=False\n",
    "        ),\n",
    "        legend=dict(\n",
    "            yanchor=\"top\",\n",
    "            y=0.99,\n",
    "            xanchor=\"left\",\n",
    "            x=0.01,\n",
    "            bgcolor=\"rgba(256,256,256,0.8)\"\n",
    "        ),\n",
    "         margin=dict(\n",
    "            r=160,\n",
    "            l=20\n",
    "        ),\n",
    "        title={\n",
    "                            'text': f\"Vaccin : réduction du risque d'admission à l'hôpital [{ages_str[idx]}]\",\n",
    "                            'y':0.97,\n",
    "                            'x':0.5,\n",
    "                            'xanchor': 'center',\n",
    "                            'yanchor': 'top'},\n",
    "        titlefont = dict(\n",
    "                        size=25),\n",
    "        annotations = [\n",
    "                            dict(\n",
    "                                x=0.55,\n",
    "                                y=1.12,\n",
    "                                xref='paper',\n",
    "                                yref='paper',\n",
    "                                font=dict(size=14),\n",
    "                                text=\"et admissions selon le statut vaccinal pour 10 Mio hab. de chaque groupe - {}<br>Données DREES - @GuillaumeRozier - covidtracker.fr\".format(datetime.strptime(df_drees.date.max(), '%Y-%m-%d').strftime('%d %B %Y')),#'Date : {}. Source : Santé publique France. Auteur : GRZ - covidtracker.fr.'.format(),                    showarrow = False\n",
    "                                showarrow=False\n",
    "                            ),\n",
    "                            ]\n",
    "    )\n",
    "    \n",
    "    fig.add_annotation(\n",
    "        x=df_drees.date.max(),\n",
    "        y=y[-1],\n",
    "        text=\"<b>\" + str(int(round(y[-1]))) + \" x plus d'admissions<br>chez les non vaccinés<br></b>par rapport aux<br>vaccinés complètement\",\n",
    "        font=dict(color=\"black\"),\n",
    "        showarrow=False,\n",
    "        align=\"left\",\n",
    "        xshift=90,\n",
    "        yshift=0,\n",
    "        yref=\"y2\"\n",
    "    )\n",
    "\n",
    "    fig.add_annotation(\n",
    "        x=0.5,\n",
    "        y=-0.225,\n",
    "        xref='paper',\n",
    "        yref='paper',\n",
    "        text=\"<i>Une personne est considérée comme vaccinée après avoir terminé son schéma vaccinal.<br>Hospitalisations pour suspicion Covid19.</i>\",\n",
    "        font=dict(size=9),\n",
    "        showarrow=False,\n",
    "        xshift=0,\n",
    "        yshift=30\n",
    "    )\n",
    "    fig.update_xaxes(tickformat=\"%d/%m\", range=[datetime.strptime(df_drees.date.min(), '%Y-%m-%d') + timedelta(days=5), \n",
    "                                                datetime.strptime(df_drees.date.max(), '%Y-%m-%d') + timedelta(days=2)])\n",
    "    name_fig = f\"hc_rapport_selon_statut_vaccinal_{age}\"\n",
    "    fig.write_image(PATH + \"images/charts/france/{}.jpeg\".format(name_fig), scale=2, width=900, height=600)\n",
    "    plotly.offline.plot(fig, filename = PATH + 'images/html_exports/france/{}.html'.format(name_fig), auto_open=False)"
   ]
  },
  {
   "cell_type": "code",
   "execution_count": 39,
   "metadata": {},
   "outputs": [],
   "source": [
    "fig = go.Figure()\n",
    "\n",
    "fig.add_trace(\n",
    "    go.Scatter(\n",
    "        x=df_drees_non_vaccines[\"date\"].values,\n",
    "        y=df_drees_non_vaccines[\"SC\"].rolling(window=7).mean() / df_drees_non_vaccines[\"effectif\"] * 10000000,\n",
    "        name=\"Non vaccinés\",\n",
    "        line_color=\"#C65102\",\n",
    "        line_width=4\n",
    "    )\n",
    ")\n",
    "fig.add_trace(\n",
    "    go.Scatter(\n",
    "        x=[df_drees_non_vaccines[\"date\"].values[-1]],\n",
    "        y=[(df_drees_non_vaccines[\"SC\"].rolling(window=7).mean() / df_drees_non_vaccines[\"effectif\"] * 10000000).values[-1]],\n",
    "        name=\"Non vaccinés\",\n",
    "        line_color=\"#C65102\",\n",
    "        mode=\"markers\",\n",
    "        marker_size=10,\n",
    "        showlegend=False\n",
    "    )\n",
    ")\n",
    "\n",
    "fig.add_trace(\n",
    "    go.Scatter(\n",
    "        x=df_drees_completement_vaccines[\"date\"].values,\n",
    "        y=df_drees_completement_vaccines[\"SC\"].rolling(window=7).mean() / df_drees_completement_vaccines[\"effectif\"] * 10000000,\n",
    "        name=\"Vaccinés\",\n",
    "        line_color=\"#00308F\",\n",
    "        line_width=4\n",
    "    )\n",
    ")\n",
    "fig.add_trace(\n",
    "    go.Scatter(\n",
    "        x=[df_drees_completement_vaccines[\"date\"].values[-1]],\n",
    "        y=[(df_drees_completement_vaccines[\"SC\"].rolling(window=7).mean() / df_drees_completement_vaccines[\"effectif\"] * 10000000).values[-1]],\n",
    "        name=\"Vaccinés\",\n",
    "        line_color=\"#00308F\",\n",
    "        mode=\"markers\",\n",
    "        marker_size=10,\n",
    "        showlegend=False\n",
    "    )\n",
    ")\n",
    "\n",
    "fig.add_trace(\n",
    "    go.Scatter(\n",
    "        x=df_drees_completement_vaccines_rappel[\"date\"].values,\n",
    "        y=df_drees_completement_vaccines_rappel[\"SC\"].rolling(window=7).mean() / df_drees_completement_vaccines_rappel[\"effectif\"] * 10000000,\n",
    "        name=\"Vaccinés (rappel)\",\n",
    "        line_color=\"black\",\n",
    "        line_width=4\n",
    "    )\n",
    ")\n",
    "fig.add_trace(\n",
    "    go.Scatter(\n",
    "        x=[df_drees_completement_vaccines_rappel[\"date\"].values[-1]],\n",
    "        y=[(df_drees_completement_vaccines_rappel[\"SC\"].rolling(window=7).mean() / df_drees_completement_vaccines_rappel[\"effectif\"] * 10000000).values[-1]],\n",
    "        name=\"Vaccinés (rappel)\",\n",
    "        line_color=\"black\",\n",
    "        mode=\"markers\",\n",
    "        marker_size=10,\n",
    "        showlegend=False\n",
    "    )\n",
    ")\n",
    "\n",
    "fig.add_trace(\n",
    "    go.Scatter(\n",
    "        x=df_drees_partiellement_vaccines[\"date\"].values,\n",
    "        y=df_drees_partiellement_vaccines[\"SC\"].rolling(window=7).mean() / df_drees_partiellement_vaccines[\"effectif\"] * 10000000,\n",
    "        name=\"Partiellement vaccinés\",\n",
    "        line_color=\"#4777d6\",\n",
    "        line_width=4\n",
    "    )\n",
    ")\n",
    "fig.add_trace(\n",
    "    go.Scatter(\n",
    "        x=[df_drees_partiellement_vaccines[\"date\"].values[-1]],\n",
    "        y=[(df_drees_partiellement_vaccines[\"SC\"].rolling(window=7).mean() / df_drees_partiellement_vaccines[\"effectif\"] * 10000000).values[-1]],\n",
    "        name=\"Partiellement vaccinés\",\n",
    "        line_color=\"#4777d6\",\n",
    "        marker_size=10,\n",
    "        showlegend=False\n",
    "    )\n",
    ")\n",
    "\n",
    "\n",
    "fig.update_layout(\n",
    "    legend=dict(\n",
    "        yanchor=\"top\",\n",
    "        y=0.99,\n",
    "        xanchor=\"left\",\n",
    "        x=0.01,\n",
    "        bgcolor=\"rgba(256,256,256,0.8)\"\n",
    "    ),\n",
    "     margin=dict(\n",
    "            r=160\n",
    "        ),\n",
    "    title={\n",
    "                    'text': \"<b>Admissions</b> <b>en soins critiques</b> Covid\",\n",
    "                    'y':0.97,\n",
    "                    'x':0.5,\n",
    "                    'xanchor': 'center',\n",
    "                    'yanchor': 'top'},\n",
    "    titlefont = dict(\n",
    "                    size=25),\n",
    "    annotations = [\n",
    "                        dict(\n",
    "                            x=0.55,\n",
    "                            y=1.12,\n",
    "                            xref='paper',\n",
    "                            yref='paper',\n",
    "                            font=dict(size=14),\n",
    "                            text=\"selon le statut vaccinal, pour 10 Mio hab. de chaque groupe - {} - Données DREES - @GuillaumeRozier - covidtracker.fr\".format(datetime.strptime(df_drees.date.max(), '%Y-%m-%d').strftime('%d %B %Y')),#'Date : {}. Source : Santé publique France. Auteur : GRZ - covidtracker.fr.'.format(),                    showarrow = False\n",
    "                            showarrow=False\n",
    "                        ),\n",
    "                        ]\n",
    ")\n",
    "\n",
    "y_non_vaccines=df_drees_non_vaccines[\"SC\"].rolling(window=7).mean().values[-1] / df_drees_non_vaccines[\"effectif\"].values[-1] * 10000000\n",
    "y_vaccines=df_drees_completement_vaccines[\"SC\"].rolling(window=7).mean().values[-1] / df_drees_completement_vaccines[\"effectif\"].values[-1] * 10000000\n",
    "y_vaccines_rappel=df_drees_completement_vaccines_rappel[\"SC\"].rolling(window=7).mean().values[-1] / df_drees_completement_vaccines_rappel[\"effectif\"].values[-1] * 10000000\n",
    "\n",
    "text = f\"<span style='color: {COULEUR_NON_VACCINES};'><b>{str(int(round(y_non_vaccines)))} admissions<br>non vaccinées</b><br>pour 10 Mio<br>de non vaccinés<br><br></span>\"\n",
    "text += f\"<span style='color: {COULEUR_COMPLETEMENT_VACCINES};'><b>{str(int(round(y_vaccines)))} admissions<br>vaccinées</b><br>pour 10 Mio<br>de vaccinés<br><br></span>\"\n",
    "text += f\"<span style='color: {COULEUR_COMPLETEMENT_VACCINES_RAPPEL};'><b>{str(int(round(y_vaccines_rappel)))} admissions<br>vaccinées (rappel)</b><br>pour 10 Mio<br>de vaccinés (rappel)</span>\"\n",
    "\n",
    "fig.add_annotation(\n",
    "    x=df_drees.date.max(),\n",
    "    y=y_vaccines_rappel,\n",
    "    text=text,\n",
    "    font=dict(color=COULEUR_COMPLETEMENT_VACCINES),\n",
    "    showarrow=False,\n",
    "    yanchor=\"bottom\",\n",
    "    align=\"left\",\n",
    "    yshift=0,\n",
    "    xshift=100,\n",
    ")\n",
    "\n",
    "fig.add_annotation(\n",
    "    x=0.5,\n",
    "    y=-0.225,\n",
    "    xref='paper',\n",
    "    yref='paper',\n",
    "    text=\"<i>Une personne est considérée comme vaccinée après avoir terminé son schéma vaccinal.</i>\",\n",
    "    font=dict(size=9),\n",
    "    showarrow=False,\n",
    "    xshift=0,\n",
    "    yshift=30\n",
    ")\n",
    "fig.update_yaxes(title=\"Admissions quot. / 10 Mio hab. de chaque groupe\")\n",
    "fig.update_xaxes(tickformat=\"%d/%m\", range=[datetime.strptime(df_drees.date.min(), '%Y-%m-%d') + timedelta(days=5), \n",
    "                                                datetime.strptime(df_drees.date.max(), '%Y-%m-%d') + timedelta(days=2)])\n",
    "name_fig = \"sc_proportion_selon_statut_vaccinal\"\n",
    "fig.write_image(PATH + \"images/charts/france/{}.jpeg\".format(name_fig), scale=2, width=900, height=600)"
   ]
  },
  {
   "cell_type": "code",
   "execution_count": 40,
   "metadata": {},
   "outputs": [
    {
     "name": "stderr",
     "output_type": "stream",
     "text": [
      "/Users/guillaumerozier/opt/anaconda3/lib/python3.7/site-packages/ipykernel_launcher.py:3: SettingWithCopyWarning:\n",
      "\n",
      "\n",
      "A value is trying to be set on a copy of a slice from a DataFrame.\n",
      "Try using .loc[row_indexer,col_indexer] = value instead\n",
      "\n",
      "See the caveats in the documentation: http://pandas.pydata.org/pandas-docs/stable/user_guide/indexing.html#returning-a-view-versus-a-copy\n",
      "\n"
     ]
    }
   ],
   "source": [
    "ages=df_drees_age_lastday.age.sort_values().unique()\n",
    "ages_str = [\"0 à 19 ans\", \"20 à 39 ans\", \"40 à 59 ans\", \"60 à 79 ans\", \"plus 80 ans\"]\n",
    "\n",
    "for idx, age in enumerate(ages):\n",
    "    data_non_vaccines, data_completement_vaccines, data_completement_vaccines_rappel, data_partiellement_vaccines, _  = get_df_by_vaccine_status(df_drees_age[(df_drees_age.age==age)])\n",
    "\n",
    "    fig = go.Figure()\n",
    "\n",
    "    fig.add_trace(\n",
    "        go.Scatter(\n",
    "            x=data_non_vaccines[\"date\"].values,\n",
    "            y=data_non_vaccines[\"SC\"].rolling(window=7).mean() / data_non_vaccines[\"effectif\"] * 10000000,\n",
    "            name=\"Non vaccinés\",\n",
    "            line_color=\"#C65102\",\n",
    "            line_width=4\n",
    "        )\n",
    "    )\n",
    "    fig.add_trace(\n",
    "        go.Scatter(\n",
    "            x=[data_non_vaccines[\"date\"].values[-1]],\n",
    "            y=[(data_non_vaccines[\"SC\"].rolling(window=7).mean() / data_non_vaccines[\"effectif\"] * 10000000).values[-1]],\n",
    "            name=\"Non vaccinés\",\n",
    "            line_color=\"#C65102\",\n",
    "            marker_size=10,\n",
    "            showlegend=False\n",
    "        )\n",
    "    )\n",
    "\n",
    "    fig.add_trace(\n",
    "        go.Scatter(\n",
    "            x=data_partiellement_vaccines[\"date\"].values,\n",
    "            y=data_partiellement_vaccines[\"SC\"].rolling(window=7).mean() / data_partiellement_vaccines[\"effectif\"] * 10000000,\n",
    "            name=\"Partiellement vaccinés\",\n",
    "            line_color=\"#4777d6\",\n",
    "            line_width=4\n",
    "        )\n",
    "    )\n",
    "    fig.add_trace(\n",
    "        go.Scatter(\n",
    "            x=[data_partiellement_vaccines[\"date\"].values[-1]],\n",
    "            y=[(data_partiellement_vaccines[\"SC\"].rolling(window=7).mean() / data_partiellement_vaccines[\"effectif\"] * 10000000).values[-1]],\n",
    "            name=\"Partiellement vaccinés\",\n",
    "            line_color=\"#4777d6\",\n",
    "            marker_size=10,\n",
    "            showlegend=False\n",
    "        )\n",
    "    )\n",
    "\n",
    "    fig.add_trace(\n",
    "        go.Scatter(\n",
    "            x=data_completement_vaccines[\"date\"].values,\n",
    "            y=data_completement_vaccines[\"SC\"].rolling(window=7).mean() / data_completement_vaccines[\"effectif\"] * 10000000,\n",
    "            name=\"Vaccinés\",\n",
    "            line_color=\"#00308F\",\n",
    "            line_width=4\n",
    "        )\n",
    "    )\n",
    "\n",
    "    fig.add_trace(\n",
    "        go.Scatter(\n",
    "            x=[data_completement_vaccines[\"date\"].values[-1]],\n",
    "            y=[(data_completement_vaccines[\"SC\"].rolling(window=7).mean() / data_completement_vaccines[\"effectif\"] * 10000000).values[-1]],\n",
    "            name=\"Vaccinés\",\n",
    "            line_color=\"#00308F\",\n",
    "            marker_size=10,\n",
    "            showlegend=False\n",
    "        )\n",
    "    )\n",
    "    \n",
    "    fig.add_trace(\n",
    "        go.Scatter(\n",
    "            x=data_completement_vaccines_rappel[\"date\"].values,\n",
    "            y=data_completement_vaccines_rappel[\"SC\"].rolling(window=7).mean() / data_completement_vaccines_rappel[\"effectif\"] * 10000000,\n",
    "            name=\"Vaccinés (rappel)\",\n",
    "            line_color=\"black\",\n",
    "            line_width=4\n",
    "        )\n",
    "    )\n",
    "\n",
    "    fig.add_trace(\n",
    "        go.Scatter(\n",
    "            x=[data_completement_vaccines_rappel[\"date\"].values[-1]],\n",
    "            y=[(data_completement_vaccines_rappel[\"SC\"].rolling(window=7).mean() / data_completement_vaccines_rappel[\"effectif\"] * 10000000).values[-1]],\n",
    "            name=\"Vaccinés (rappel)\",\n",
    "            line_color=\"black\",\n",
    "            marker_size=10,\n",
    "            showlegend=False\n",
    "        )\n",
    "    )\n",
    "\n",
    "\n",
    "    fig.update_layout(\n",
    "        legend=dict(\n",
    "            yanchor=\"top\",\n",
    "            y=0.99,\n",
    "            xanchor=\"left\",\n",
    "            x=0.01,\n",
    "            bgcolor=\"rgba(256,256,256,0.8)\"\n",
    "        ),\n",
    "         margin=dict(\n",
    "            r=160\n",
    "        ),\n",
    "        title={\n",
    "                            'text': f\"<b>Admissions en soins critiques</b> pour Covid [{ages_str[idx]}]\",\n",
    "                            'y':0.97,\n",
    "                            'x':0.5,\n",
    "                            'xanchor': 'center',\n",
    "                            'yanchor': 'top'},\n",
    "        titlefont = dict(\n",
    "                        size=25),\n",
    "        annotations = [\n",
    "                            dict(\n",
    "                                x=0.55,\n",
    "                                y=1.12,\n",
    "                                xref='paper',\n",
    "                                yref='paper',\n",
    "                                font=dict(size=14),\n",
    "                                text=\"selon le statut vaccinal, pour 10 Mio hab. de chaque groupe - {}<br>Données DREES - @GuillaumeRozier - covidtracker.fr\".format(datetime.strptime(df_drees.date.max(), '%Y-%m-%d').strftime('%d %B %Y')),#'Date : {}. Source : Santé publique France. Auteur : GRZ - covidtracker.fr.'.format(),                    showarrow = False\n",
    "                                showarrow=False\n",
    "                            ),\n",
    "                            ]\n",
    "    )\n",
    "    \n",
    "    y_non_vaccines=data_non_vaccines[\"SC\"].rolling(window=7).mean().values[-1] / data_non_vaccines[\"effectif\"].values[-1] * 10000000\n",
    "    y_vaccines=data_completement_vaccines[\"SC\"].rolling(window=7).mean().values[-1] / data_completement_vaccines[\"effectif\"].values[-1] * 10000000\n",
    "    y_vaccines_rappel=data_completement_vaccines_rappel[\"SC\"].rolling(window=7).mean().values[-1] / data_completement_vaccines_rappel[\"effectif\"].values[-1] * 10000000\n",
    "\n",
    "    text = f\"<span style='color: {COULEUR_NON_VACCINES};'><b>{str(int(round(y_non_vaccines)))} admissions<br>non vaccinées</b><br>pour 10 Mio<br>de non vaccinés<br><br></span>\"\n",
    "    text += f\"<span style='color: {COULEUR_COMPLETEMENT_VACCINES};'><b>{str(int(round(y_vaccines)))} admissions<br>vaccinées</b><br>pour 10 Mio<br>de vaccinés<br><br></span>\"\n",
    "    text += f\"<span style='color: {COULEUR_COMPLETEMENT_VACCINES_RAPPEL};'><b>{str(int(round(y_vaccines_rappel)))} admissions<br>vaccinées (rappel)</b><br>pour 10 Mio<br>de vaccinés (rappel)</span>\"\n",
    "\n",
    "    fig.add_annotation(\n",
    "        x=df_drees.date.max(),\n",
    "        y=y_vaccines_rappel,\n",
    "        text=text,\n",
    "        font=dict(color=COULEUR_COMPLETEMENT_VACCINES),\n",
    "        showarrow=False,\n",
    "        yanchor=\"bottom\",\n",
    "        align=\"left\",\n",
    "        yshift=0,\n",
    "        xshift=100,\n",
    "    )\n",
    "    \n",
    "\n",
    "    fig.add_annotation(\n",
    "        x=0.5,\n",
    "        y=-0.225,\n",
    "        xref='paper',\n",
    "        yref='paper',\n",
    "        text=\"<i>Une personne est considérée comme vaccinée après avoir terminé son schéma vaccinal.<br>Hospitalisations pour suspicion Covid19.</i>\",\n",
    "        font=dict(size=9),\n",
    "        showarrow=False,\n",
    "        xshift=0,\n",
    "        yshift=30\n",
    "    )\n",
    "    \n",
    "    if age=='[0,19]':\n",
    "        fig.add_annotation(\n",
    "            x=0.5,\n",
    "            y=0.5,\n",
    "            xref='paper',\n",
    "            yref='paper',\n",
    "            text=\"⚠️ Données trop faibles, graphique non interprétable\",\n",
    "            font=dict(size=30, color=\"red\"),\n",
    "            bgcolor=\"rgba(255, 255, 255, 0.5)\",\n",
    "            showarrow=False,\n",
    "            xshift=0,\n",
    "            yshift=30\n",
    "        )\n",
    "    \n",
    "    fig.update_yaxes(title=\"Admissions quot. / 10 Mio hab. de chaque groupe\")\n",
    "    fig.update_xaxes(tickformat=\"%d/%m\", range=[datetime.strptime(df_drees.date.min(), '%Y-%m-%d') + timedelta(days=5), \n",
    "                                                datetime.strptime(df_drees.date.max(), '%Y-%m-%d') + timedelta(days=2)])\n",
    "    name_fig = f\"sc_proportion_selon_statut_vaccinal_{age}\"\n",
    "    fig.write_image(PATH + \"images/charts/france/{}.jpeg\".format(name_fig), scale=2, width=900, height=600)"
   ]
  },
  {
   "cell_type": "code",
   "execution_count": 41,
   "metadata": {},
   "outputs": [],
   "source": [
    "fig = go.Figure()\n",
    "\n",
    "fig.add_trace(\n",
    "    go.Scatter(\n",
    "        x=df_drees_non_vaccines[\"date\"].values,\n",
    "        y=df_drees_non_vaccines[\"DC\"].rolling(window=7).mean() / df_drees_non_vaccines[\"effectif\"] * 10000000,\n",
    "        name=\"Non vaccinés\",\n",
    "        line_color=COULEUR_NON_VACCINES,\n",
    "        line_width=4\n",
    "    )\n",
    ")\n",
    "fig.add_trace(\n",
    "    go.Scatter(\n",
    "        x=[df_drees_non_vaccines[\"date\"].values[-1]],\n",
    "        y=[(df_drees_non_vaccines[\"DC\"].rolling(window=7).mean() / df_drees_non_vaccines[\"effectif\"] * 10000000).values[-1]],\n",
    "        name=\"Non vaccinés\",\n",
    "        line_color=COULEUR_NON_VACCINES,\n",
    "        marker_size=10,\n",
    "        showlegend=False\n",
    "    )\n",
    ")\n",
    "\n",
    "fig.add_trace(\n",
    "    go.Scatter(\n",
    "        x=df_drees_completement_vaccines[\"date\"].values,\n",
    "        y=df_drees_completement_vaccines[\"DC\"].rolling(window=7).mean() / df_drees_completement_vaccines[\"effectif\"] * 10000000,\n",
    "        name=\"Vaccinés\",\n",
    "        line_color=\"#00308F\",\n",
    "        line_width=4\n",
    "    )\n",
    ")\n",
    "fig.add_trace(\n",
    "    go.Scatter(\n",
    "        x=[df_drees_completement_vaccines[\"date\"].values[-1]],\n",
    "        y=[(df_drees_completement_vaccines[\"DC\"].rolling(window=7).mean() / df_drees_completement_vaccines[\"effectif\"] * 10000000).values[-1]],\n",
    "        name=\"Vaccinés\",\n",
    "        line_color=\"#00308F\",\n",
    "        marker_size=10,\n",
    "        showlegend=False\n",
    "    )\n",
    ")\n",
    "\n",
    "fig.add_trace(\n",
    "    go.Scatter(\n",
    "        x=df_drees_completement_vaccines_rappel[\"date\"].values,\n",
    "        y=df_drees_completement_vaccines_rappel[\"DC\"].rolling(window=7).mean() / df_drees_completement_vaccines_rappel[\"effectif\"] * 10000000,\n",
    "        name=\"Vaccinés (rappel)\",\n",
    "        line_color=\"black\",\n",
    "        line_width=4\n",
    "    )\n",
    ")\n",
    "fig.add_trace(\n",
    "    go.Scatter(\n",
    "        x=[df_drees_completement_vaccines_rappel[\"date\"].values[-1]],\n",
    "        y=[(df_drees_completement_vaccines_rappel[\"DC\"].rolling(window=7).mean() / df_drees_completement_vaccines_rappel[\"effectif\"] * 10000000).values[-1]],\n",
    "        name=\"Vaccinés (rappel)\",\n",
    "        line_color=\"black\",\n",
    "        marker_size=10,\n",
    "        showlegend=False\n",
    "    )\n",
    ")\n",
    "\n",
    "fig.add_trace(\n",
    "    go.Scatter(\n",
    "        x=df_drees_partiellement_vaccines[\"date\"].values,\n",
    "        y=df_drees_partiellement_vaccines[\"DC\"].rolling(window=7).mean() / df_drees_partiellement_vaccines[\"effectif\"] * 10000000,\n",
    "        name=\"Partiellement vaccinés\",\n",
    "        line_color=\"#4777d6\",\n",
    "        line_width=4\n",
    "    )\n",
    ")\n",
    "fig.add_trace(\n",
    "    go.Scatter(\n",
    "        x=[df_drees_partiellement_vaccines[\"date\"].values[-1]],\n",
    "        y=[(df_drees_partiellement_vaccines[\"DC\"].rolling(window=7).mean() / df_drees_partiellement_vaccines[\"effectif\"] * 10000000).values[-1]],\n",
    "        name=\"Partiellement vaccinés\",\n",
    "        line_color=\"#4777d6\",\n",
    "        marker_size=10,\n",
    "        showlegend=False\n",
    "    )\n",
    ")\n",
    "\n",
    "\n",
    "fig.update_layout(\n",
    "    legend=dict(\n",
    "        yanchor=\"top\",\n",
    "        y=0.99,\n",
    "        xanchor=\"left\",\n",
    "        x=0.01,\n",
    "        bgcolor=\"rgba(256,256,256,0.8)\"\n",
    "    ),\n",
    "     margin=dict(\n",
    "            r=160\n",
    "        ),\n",
    "    title={\n",
    "                        'text': \"<b>Décès</b> Covid à l'hôpital\",\n",
    "                        'y':0.97,\n",
    "                        'x':0.5,\n",
    "                        'xanchor': 'center',\n",
    "                        'yanchor': 'top'},\n",
    "    titlefont = dict(\n",
    "                    size=25),\n",
    "    annotations = [\n",
    "                        dict(\n",
    "                            x=0.5,\n",
    "                            y=1.12,\n",
    "                            xref='paper',\n",
    "                            yref='paper',\n",
    "                            font=dict(size=14),\n",
    "                            text=\"selon le statut vaccinal, pour 10 Mio hab. de chaque groupe - {}<br>Données DREES - @GuillaumeRozier - covidtracker.fr\".format(datetime.strptime(df_drees.date.max(), '%Y-%m-%d').strftime('%d %B %Y')),#'Date : {}. Source : Santé publique France. Auteur : GRZ - covidtracker.fr.'.format(),                    showarrow = False\n",
    "                            showarrow=False\n",
    "                        ),\n",
    "                        ]\n",
    ")\n",
    "y=df_drees_non_vaccines[\"DC\"].rolling(window=7).mean().values[-1] / df_drees_non_vaccines[\"effectif\"].values[-1] * 10000000\n",
    "fig.add_annotation(\n",
    "    x=df_drees.date.max(),\n",
    "    y=y,\n",
    "    text=\"<b>\" + str(int(round(y))) + \" décès<br>non vaccinés</b><br>pour 10 Mio<br>de non vaccinés\",\n",
    "    font=dict(color=COULEUR_NON_VACCINES),\n",
    "    showarrow=False,\n",
    "    align=\"left\",\n",
    "    xshift=80,\n",
    "    yshift=50\n",
    ")\n",
    "y=df_drees_completement_vaccines[\"DC\"].rolling(window=7).mean().values[-1] / df_drees_completement_vaccines[\"effectif\"].values[-1] * 10000000\n",
    "fig.add_annotation(\n",
    "    x=df_drees.date.max(),\n",
    "    y=y,\n",
    "    text=\"<b>\" + str(int(round(y))) + \" décès<br>vaccinés</b><br>pour 10 Mio de vaccinés\",\n",
    "    font=dict(color=COULEUR_COMPLETEMENT_VACCINES),\n",
    "    showarrow=False,\n",
    "    align=\"left\",\n",
    "    xshift=100,\n",
    "    yshift=0\n",
    ")\n",
    "\n",
    "fig.add_annotation(\n",
    "    x=0.5,\n",
    "    y=-0.225,\n",
    "    xref='paper',\n",
    "    yref='paper',\n",
    "    text=\"<i>Une personne est considérée comme vaccinée après avoir terminé son schéma vaccinal.<br>Décès à l'hôpital pour suspicion Covid19.</i>\",\n",
    "    font=dict(size=9),\n",
    "    showarrow=False,\n",
    "    yshift=30\n",
    ")\n",
    "fig.update_yaxes(title=\"Décès hosp. quot. / 10 Mio hab. de chaque groupe\")\n",
    "fig.update_xaxes(tickformat=\"%d/%m\", range=[datetime.strptime(df_drees.date.min(), '%Y-%m-%d') + timedelta(days=5), \n",
    "                                                datetime.strptime(df_drees.date.max(), '%Y-%m-%d') + timedelta(days=2)])\n",
    "name_fig = \"dc_proportion_selon_statut_vaccinal\"\n",
    "fig.write_image(PATH + \"images/charts/france/{}.jpeg\".format(name_fig), scale=2, width=900, height=600)"
   ]
  },
  {
   "cell_type": "code",
   "execution_count": 42,
   "metadata": {},
   "outputs": [
    {
     "data": {
      "application/vnd.plotly.v1+json": {
       "config": {
        "plotlyServerURL": "https://plot.ly"
       },
       "data": [
        {
         "hovertemplate": "État vaccinal=Complètement vacciné (%)<br>stage=%{x}<br>number=%{y}<extra></extra>",
         "legendgroup": "Complètement vacciné (%)",
         "marker": {
          "color": "#636efa"
         },
         "name": "Complètement vacciné (%)",
         "orientation": "v",
         "showlegend": true,
         "type": "funnel",
         "x": [
          "<b>Population générale</b>",
          "<b>Cas positifs symptomatiques</b>"
         ],
         "xaxis": "x",
         "y": [
          67,
          65
         ],
         "yaxis": "y"
        },
        {
         "hovertemplate": "État vaccinal=Non vacciné (%)<br>stage=%{x}<br>number=%{y}<extra></extra>",
         "legendgroup": "Non vacciné (%)",
         "marker": {
          "color": "#EF553B"
         },
         "name": "Non vacciné (%)",
         "orientation": "v",
         "showlegend": true,
         "type": "funnel",
         "x": [
          "<b>Population générale</b>",
          "<b>Cas positifs symptomatiques</b>"
         ],
         "xaxis": "x",
         "y": [
          33,
          35
         ],
         "yaxis": "y"
        }
       ],
       "layout": {
        "height": 700,
        "legend": {
         "title": {
          "text": "État vaccinal"
         },
         "tracegroupgap": 0
        },
        "template": {
         "data": {
          "bar": [
           {
            "error_x": {
             "color": "#2a3f5f"
            },
            "error_y": {
             "color": "#2a3f5f"
            },
            "marker": {
             "line": {
              "color": "#E5ECF6",
              "width": 0.5
             },
             "pattern": {
              "fillmode": "overlay",
              "size": 10,
              "solidity": 0.2
             }
            },
            "type": "bar"
           }
          ],
          "barpolar": [
           {
            "marker": {
             "line": {
              "color": "#E5ECF6",
              "width": 0.5
             },
             "pattern": {
              "fillmode": "overlay",
              "size": 10,
              "solidity": 0.2
             }
            },
            "type": "barpolar"
           }
          ],
          "carpet": [
           {
            "aaxis": {
             "endlinecolor": "#2a3f5f",
             "gridcolor": "white",
             "linecolor": "white",
             "minorgridcolor": "white",
             "startlinecolor": "#2a3f5f"
            },
            "baxis": {
             "endlinecolor": "#2a3f5f",
             "gridcolor": "white",
             "linecolor": "white",
             "minorgridcolor": "white",
             "startlinecolor": "#2a3f5f"
            },
            "type": "carpet"
           }
          ],
          "choropleth": [
           {
            "colorbar": {
             "outlinewidth": 0,
             "ticks": ""
            },
            "type": "choropleth"
           }
          ],
          "contour": [
           {
            "colorbar": {
             "outlinewidth": 0,
             "ticks": ""
            },
            "colorscale": [
             [
              0,
              "#0d0887"
             ],
             [
              0.1111111111111111,
              "#46039f"
             ],
             [
              0.2222222222222222,
              "#7201a8"
             ],
             [
              0.3333333333333333,
              "#9c179e"
             ],
             [
              0.4444444444444444,
              "#bd3786"
             ],
             [
              0.5555555555555556,
              "#d8576b"
             ],
             [
              0.6666666666666666,
              "#ed7953"
             ],
             [
              0.7777777777777778,
              "#fb9f3a"
             ],
             [
              0.8888888888888888,
              "#fdca26"
             ],
             [
              1,
              "#f0f921"
             ]
            ],
            "type": "contour"
           }
          ],
          "contourcarpet": [
           {
            "colorbar": {
             "outlinewidth": 0,
             "ticks": ""
            },
            "type": "contourcarpet"
           }
          ],
          "heatmap": [
           {
            "colorbar": {
             "outlinewidth": 0,
             "ticks": ""
            },
            "colorscale": [
             [
              0,
              "#0d0887"
             ],
             [
              0.1111111111111111,
              "#46039f"
             ],
             [
              0.2222222222222222,
              "#7201a8"
             ],
             [
              0.3333333333333333,
              "#9c179e"
             ],
             [
              0.4444444444444444,
              "#bd3786"
             ],
             [
              0.5555555555555556,
              "#d8576b"
             ],
             [
              0.6666666666666666,
              "#ed7953"
             ],
             [
              0.7777777777777778,
              "#fb9f3a"
             ],
             [
              0.8888888888888888,
              "#fdca26"
             ],
             [
              1,
              "#f0f921"
             ]
            ],
            "type": "heatmap"
           }
          ],
          "heatmapgl": [
           {
            "colorbar": {
             "outlinewidth": 0,
             "ticks": ""
            },
            "colorscale": [
             [
              0,
              "#0d0887"
             ],
             [
              0.1111111111111111,
              "#46039f"
             ],
             [
              0.2222222222222222,
              "#7201a8"
             ],
             [
              0.3333333333333333,
              "#9c179e"
             ],
             [
              0.4444444444444444,
              "#bd3786"
             ],
             [
              0.5555555555555556,
              "#d8576b"
             ],
             [
              0.6666666666666666,
              "#ed7953"
             ],
             [
              0.7777777777777778,
              "#fb9f3a"
             ],
             [
              0.8888888888888888,
              "#fdca26"
             ],
             [
              1,
              "#f0f921"
             ]
            ],
            "type": "heatmapgl"
           }
          ],
          "histogram": [
           {
            "marker": {
             "pattern": {
              "fillmode": "overlay",
              "size": 10,
              "solidity": 0.2
             }
            },
            "type": "histogram"
           }
          ],
          "histogram2d": [
           {
            "colorbar": {
             "outlinewidth": 0,
             "ticks": ""
            },
            "colorscale": [
             [
              0,
              "#0d0887"
             ],
             [
              0.1111111111111111,
              "#46039f"
             ],
             [
              0.2222222222222222,
              "#7201a8"
             ],
             [
              0.3333333333333333,
              "#9c179e"
             ],
             [
              0.4444444444444444,
              "#bd3786"
             ],
             [
              0.5555555555555556,
              "#d8576b"
             ],
             [
              0.6666666666666666,
              "#ed7953"
             ],
             [
              0.7777777777777778,
              "#fb9f3a"
             ],
             [
              0.8888888888888888,
              "#fdca26"
             ],
             [
              1,
              "#f0f921"
             ]
            ],
            "type": "histogram2d"
           }
          ],
          "histogram2dcontour": [
           {
            "colorbar": {
             "outlinewidth": 0,
             "ticks": ""
            },
            "colorscale": [
             [
              0,
              "#0d0887"
             ],
             [
              0.1111111111111111,
              "#46039f"
             ],
             [
              0.2222222222222222,
              "#7201a8"
             ],
             [
              0.3333333333333333,
              "#9c179e"
             ],
             [
              0.4444444444444444,
              "#bd3786"
             ],
             [
              0.5555555555555556,
              "#d8576b"
             ],
             [
              0.6666666666666666,
              "#ed7953"
             ],
             [
              0.7777777777777778,
              "#fb9f3a"
             ],
             [
              0.8888888888888888,
              "#fdca26"
             ],
             [
              1,
              "#f0f921"
             ]
            ],
            "type": "histogram2dcontour"
           }
          ],
          "mesh3d": [
           {
            "colorbar": {
             "outlinewidth": 0,
             "ticks": ""
            },
            "type": "mesh3d"
           }
          ],
          "parcoords": [
           {
            "line": {
             "colorbar": {
              "outlinewidth": 0,
              "ticks": ""
             }
            },
            "type": "parcoords"
           }
          ],
          "pie": [
           {
            "automargin": true,
            "type": "pie"
           }
          ],
          "scatter": [
           {
            "marker": {
             "colorbar": {
              "outlinewidth": 0,
              "ticks": ""
             }
            },
            "type": "scatter"
           }
          ],
          "scatter3d": [
           {
            "line": {
             "colorbar": {
              "outlinewidth": 0,
              "ticks": ""
             }
            },
            "marker": {
             "colorbar": {
              "outlinewidth": 0,
              "ticks": ""
             }
            },
            "type": "scatter3d"
           }
          ],
          "scattercarpet": [
           {
            "marker": {
             "colorbar": {
              "outlinewidth": 0,
              "ticks": ""
             }
            },
            "type": "scattercarpet"
           }
          ],
          "scattergeo": [
           {
            "marker": {
             "colorbar": {
              "outlinewidth": 0,
              "ticks": ""
             }
            },
            "type": "scattergeo"
           }
          ],
          "scattergl": [
           {
            "marker": {
             "colorbar": {
              "outlinewidth": 0,
              "ticks": ""
             }
            },
            "type": "scattergl"
           }
          ],
          "scattermapbox": [
           {
            "marker": {
             "colorbar": {
              "outlinewidth": 0,
              "ticks": ""
             }
            },
            "type": "scattermapbox"
           }
          ],
          "scatterpolar": [
           {
            "marker": {
             "colorbar": {
              "outlinewidth": 0,
              "ticks": ""
             }
            },
            "type": "scatterpolar"
           }
          ],
          "scatterpolargl": [
           {
            "marker": {
             "colorbar": {
              "outlinewidth": 0,
              "ticks": ""
             }
            },
            "type": "scatterpolargl"
           }
          ],
          "scatterternary": [
           {
            "marker": {
             "colorbar": {
              "outlinewidth": 0,
              "ticks": ""
             }
            },
            "type": "scatterternary"
           }
          ],
          "surface": [
           {
            "colorbar": {
             "outlinewidth": 0,
             "ticks": ""
            },
            "colorscale": [
             [
              0,
              "#0d0887"
             ],
             [
              0.1111111111111111,
              "#46039f"
             ],
             [
              0.2222222222222222,
              "#7201a8"
             ],
             [
              0.3333333333333333,
              "#9c179e"
             ],
             [
              0.4444444444444444,
              "#bd3786"
             ],
             [
              0.5555555555555556,
              "#d8576b"
             ],
             [
              0.6666666666666666,
              "#ed7953"
             ],
             [
              0.7777777777777778,
              "#fb9f3a"
             ],
             [
              0.8888888888888888,
              "#fdca26"
             ],
             [
              1,
              "#f0f921"
             ]
            ],
            "type": "surface"
           }
          ],
          "table": [
           {
            "cells": {
             "fill": {
              "color": "#EBF0F8"
             },
             "line": {
              "color": "white"
             }
            },
            "header": {
             "fill": {
              "color": "#C8D4E3"
             },
             "line": {
              "color": "white"
             }
            },
            "type": "table"
           }
          ]
         },
         "layout": {
          "annotationdefaults": {
           "arrowcolor": "#2a3f5f",
           "arrowhead": 0,
           "arrowwidth": 1
          },
          "autotypenumbers": "strict",
          "coloraxis": {
           "colorbar": {
            "outlinewidth": 0,
            "ticks": ""
           }
          },
          "colorscale": {
           "diverging": [
            [
             0,
             "#8e0152"
            ],
            [
             0.1,
             "#c51b7d"
            ],
            [
             0.2,
             "#de77ae"
            ],
            [
             0.3,
             "#f1b6da"
            ],
            [
             0.4,
             "#fde0ef"
            ],
            [
             0.5,
             "#f7f7f7"
            ],
            [
             0.6,
             "#e6f5d0"
            ],
            [
             0.7,
             "#b8e186"
            ],
            [
             0.8,
             "#7fbc41"
            ],
            [
             0.9,
             "#4d9221"
            ],
            [
             1,
             "#276419"
            ]
           ],
           "sequential": [
            [
             0,
             "#0d0887"
            ],
            [
             0.1111111111111111,
             "#46039f"
            ],
            [
             0.2222222222222222,
             "#7201a8"
            ],
            [
             0.3333333333333333,
             "#9c179e"
            ],
            [
             0.4444444444444444,
             "#bd3786"
            ],
            [
             0.5555555555555556,
             "#d8576b"
            ],
            [
             0.6666666666666666,
             "#ed7953"
            ],
            [
             0.7777777777777778,
             "#fb9f3a"
            ],
            [
             0.8888888888888888,
             "#fdca26"
            ],
            [
             1,
             "#f0f921"
            ]
           ],
           "sequentialminus": [
            [
             0,
             "#0d0887"
            ],
            [
             0.1111111111111111,
             "#46039f"
            ],
            [
             0.2222222222222222,
             "#7201a8"
            ],
            [
             0.3333333333333333,
             "#9c179e"
            ],
            [
             0.4444444444444444,
             "#bd3786"
            ],
            [
             0.5555555555555556,
             "#d8576b"
            ],
            [
             0.6666666666666666,
             "#ed7953"
            ],
            [
             0.7777777777777778,
             "#fb9f3a"
            ],
            [
             0.8888888888888888,
             "#fdca26"
            ],
            [
             1,
             "#f0f921"
            ]
           ]
          },
          "colorway": [
           "#636efa",
           "#EF553B",
           "#00cc96",
           "#ab63fa",
           "#FFA15A",
           "#19d3f3",
           "#FF6692",
           "#B6E880",
           "#FF97FF",
           "#FECB52"
          ],
          "font": {
           "color": "#2a3f5f"
          },
          "geo": {
           "bgcolor": "white",
           "lakecolor": "white",
           "landcolor": "#E5ECF6",
           "showlakes": true,
           "showland": true,
           "subunitcolor": "white"
          },
          "hoverlabel": {
           "align": "left"
          },
          "hovermode": "closest",
          "mapbox": {
           "style": "light"
          },
          "paper_bgcolor": "white",
          "plot_bgcolor": "#E5ECF6",
          "polar": {
           "angularaxis": {
            "gridcolor": "white",
            "linecolor": "white",
            "ticks": ""
           },
           "bgcolor": "#E5ECF6",
           "radialaxis": {
            "gridcolor": "white",
            "linecolor": "white",
            "ticks": ""
           }
          },
          "scene": {
           "xaxis": {
            "backgroundcolor": "#E5ECF6",
            "gridcolor": "white",
            "gridwidth": 2,
            "linecolor": "white",
            "showbackground": true,
            "ticks": "",
            "zerolinecolor": "white"
           },
           "yaxis": {
            "backgroundcolor": "#E5ECF6",
            "gridcolor": "white",
            "gridwidth": 2,
            "linecolor": "white",
            "showbackground": true,
            "ticks": "",
            "zerolinecolor": "white"
           },
           "zaxis": {
            "backgroundcolor": "#E5ECF6",
            "gridcolor": "white",
            "gridwidth": 2,
            "linecolor": "white",
            "showbackground": true,
            "ticks": "",
            "zerolinecolor": "white"
           }
          },
          "shapedefaults": {
           "line": {
            "color": "#2a3f5f"
           }
          },
          "ternary": {
           "aaxis": {
            "gridcolor": "white",
            "linecolor": "white",
            "ticks": ""
           },
           "baxis": {
            "gridcolor": "white",
            "linecolor": "white",
            "ticks": ""
           },
           "bgcolor": "#E5ECF6",
           "caxis": {
            "gridcolor": "white",
            "linecolor": "white",
            "ticks": ""
           }
          },
          "title": {
           "x": 0.05
          },
          "xaxis": {
           "automargin": true,
           "gridcolor": "white",
           "linecolor": "white",
           "ticks": "",
           "title": {
            "standoff": 15
           },
           "zerolinecolor": "white",
           "zerolinewidth": 2
          },
          "yaxis": {
           "automargin": true,
           "gridcolor": "white",
           "linecolor": "white",
           "ticks": "",
           "title": {
            "standoff": 15
           },
           "zerolinecolor": "white",
           "zerolinewidth": 2
          }
         }
        },
        "title": {
         "text": "<b>Statut vaccinal des cas symptomatiques</b><br><span style='font-size: 10px;'>Données DREES au 01/08/21 - Guillaume Rozier</span>"
        },
        "width": 700,
        "xaxis": {
         "anchor": "y",
         "domain": [
          0,
          1
         ],
         "title": {
          "text": "stage"
         }
        },
        "yaxis": {
         "anchor": "x",
         "domain": [
          0,
          1
         ],
         "title": {
          "text": "number"
         }
        }
       }
      },
      "text/html": [
       "<div>                            <div id=\"6f5ca140-8c18-461d-8066-536c8b1d9e3c\" class=\"plotly-graph-div\" style=\"height:700px; width:700px;\"></div>            <script type=\"text/javascript\">                require([\"plotly\"], function(Plotly) {                    window.PLOTLYENV=window.PLOTLYENV || {};                                    if (document.getElementById(\"6f5ca140-8c18-461d-8066-536c8b1d9e3c\")) {                    Plotly.newPlot(                        \"6f5ca140-8c18-461d-8066-536c8b1d9e3c\",                        [{\"hovertemplate\":\"\\u00c9tat vaccinal=Compl\\u00e8tement vaccin\\u00e9 (%)<br>stage=%{x}<br>number=%{y}<extra></extra>\",\"legendgroup\":\"Compl\\u00e8tement vaccin\\u00e9 (%)\",\"marker\":{\"color\":\"#636efa\"},\"name\":\"Compl\\u00e8tement vaccin\\u00e9 (%)\",\"orientation\":\"v\",\"showlegend\":true,\"x\":[\"<b>Population g\\u00e9n\\u00e9rale</b>\",\"<b>Cas positifs symptomatiques</b>\"],\"xaxis\":\"x\",\"y\":[67,65],\"yaxis\":\"y\",\"type\":\"funnel\"},{\"hovertemplate\":\"\\u00c9tat vaccinal=Non vaccin\\u00e9 (%)<br>stage=%{x}<br>number=%{y}<extra></extra>\",\"legendgroup\":\"Non vaccin\\u00e9 (%)\",\"marker\":{\"color\":\"#EF553B\"},\"name\":\"Non vaccin\\u00e9 (%)\",\"orientation\":\"v\",\"showlegend\":true,\"x\":[\"<b>Population g\\u00e9n\\u00e9rale</b>\",\"<b>Cas positifs symptomatiques</b>\"],\"xaxis\":\"x\",\"y\":[33,35],\"yaxis\":\"y\",\"type\":\"funnel\"}],                        {\"template\":{\"data\":{\"bar\":[{\"error_x\":{\"color\":\"#2a3f5f\"},\"error_y\":{\"color\":\"#2a3f5f\"},\"marker\":{\"line\":{\"color\":\"#E5ECF6\",\"width\":0.5},\"pattern\":{\"fillmode\":\"overlay\",\"size\":10,\"solidity\":0.2}},\"type\":\"bar\"}],\"barpolar\":[{\"marker\":{\"line\":{\"color\":\"#E5ECF6\",\"width\":0.5},\"pattern\":{\"fillmode\":\"overlay\",\"size\":10,\"solidity\":0.2}},\"type\":\"barpolar\"}],\"carpet\":[{\"aaxis\":{\"endlinecolor\":\"#2a3f5f\",\"gridcolor\":\"white\",\"linecolor\":\"white\",\"minorgridcolor\":\"white\",\"startlinecolor\":\"#2a3f5f\"},\"baxis\":{\"endlinecolor\":\"#2a3f5f\",\"gridcolor\":\"white\",\"linecolor\":\"white\",\"minorgridcolor\":\"white\",\"startlinecolor\":\"#2a3f5f\"},\"type\":\"carpet\"}],\"choropleth\":[{\"colorbar\":{\"outlinewidth\":0,\"ticks\":\"\"},\"type\":\"choropleth\"}],\"contour\":[{\"colorbar\":{\"outlinewidth\":0,\"ticks\":\"\"},\"colorscale\":[[0.0,\"#0d0887\"],[0.1111111111111111,\"#46039f\"],[0.2222222222222222,\"#7201a8\"],[0.3333333333333333,\"#9c179e\"],[0.4444444444444444,\"#bd3786\"],[0.5555555555555556,\"#d8576b\"],[0.6666666666666666,\"#ed7953\"],[0.7777777777777778,\"#fb9f3a\"],[0.8888888888888888,\"#fdca26\"],[1.0,\"#f0f921\"]],\"type\":\"contour\"}],\"contourcarpet\":[{\"colorbar\":{\"outlinewidth\":0,\"ticks\":\"\"},\"type\":\"contourcarpet\"}],\"heatmap\":[{\"colorbar\":{\"outlinewidth\":0,\"ticks\":\"\"},\"colorscale\":[[0.0,\"#0d0887\"],[0.1111111111111111,\"#46039f\"],[0.2222222222222222,\"#7201a8\"],[0.3333333333333333,\"#9c179e\"],[0.4444444444444444,\"#bd3786\"],[0.5555555555555556,\"#d8576b\"],[0.6666666666666666,\"#ed7953\"],[0.7777777777777778,\"#fb9f3a\"],[0.8888888888888888,\"#fdca26\"],[1.0,\"#f0f921\"]],\"type\":\"heatmap\"}],\"heatmapgl\":[{\"colorbar\":{\"outlinewidth\":0,\"ticks\":\"\"},\"colorscale\":[[0.0,\"#0d0887\"],[0.1111111111111111,\"#46039f\"],[0.2222222222222222,\"#7201a8\"],[0.3333333333333333,\"#9c179e\"],[0.4444444444444444,\"#bd3786\"],[0.5555555555555556,\"#d8576b\"],[0.6666666666666666,\"#ed7953\"],[0.7777777777777778,\"#fb9f3a\"],[0.8888888888888888,\"#fdca26\"],[1.0,\"#f0f921\"]],\"type\":\"heatmapgl\"}],\"histogram\":[{\"marker\":{\"pattern\":{\"fillmode\":\"overlay\",\"size\":10,\"solidity\":0.2}},\"type\":\"histogram\"}],\"histogram2d\":[{\"colorbar\":{\"outlinewidth\":0,\"ticks\":\"\"},\"colorscale\":[[0.0,\"#0d0887\"],[0.1111111111111111,\"#46039f\"],[0.2222222222222222,\"#7201a8\"],[0.3333333333333333,\"#9c179e\"],[0.4444444444444444,\"#bd3786\"],[0.5555555555555556,\"#d8576b\"],[0.6666666666666666,\"#ed7953\"],[0.7777777777777778,\"#fb9f3a\"],[0.8888888888888888,\"#fdca26\"],[1.0,\"#f0f921\"]],\"type\":\"histogram2d\"}],\"histogram2dcontour\":[{\"colorbar\":{\"outlinewidth\":0,\"ticks\":\"\"},\"colorscale\":[[0.0,\"#0d0887\"],[0.1111111111111111,\"#46039f\"],[0.2222222222222222,\"#7201a8\"],[0.3333333333333333,\"#9c179e\"],[0.4444444444444444,\"#bd3786\"],[0.5555555555555556,\"#d8576b\"],[0.6666666666666666,\"#ed7953\"],[0.7777777777777778,\"#fb9f3a\"],[0.8888888888888888,\"#fdca26\"],[1.0,\"#f0f921\"]],\"type\":\"histogram2dcontour\"}],\"mesh3d\":[{\"colorbar\":{\"outlinewidth\":0,\"ticks\":\"\"},\"type\":\"mesh3d\"}],\"parcoords\":[{\"line\":{\"colorbar\":{\"outlinewidth\":0,\"ticks\":\"\"}},\"type\":\"parcoords\"}],\"pie\":[{\"automargin\":true,\"type\":\"pie\"}],\"scatter\":[{\"marker\":{\"colorbar\":{\"outlinewidth\":0,\"ticks\":\"\"}},\"type\":\"scatter\"}],\"scatter3d\":[{\"line\":{\"colorbar\":{\"outlinewidth\":0,\"ticks\":\"\"}},\"marker\":{\"colorbar\":{\"outlinewidth\":0,\"ticks\":\"\"}},\"type\":\"scatter3d\"}],\"scattercarpet\":[{\"marker\":{\"colorbar\":{\"outlinewidth\":0,\"ticks\":\"\"}},\"type\":\"scattercarpet\"}],\"scattergeo\":[{\"marker\":{\"colorbar\":{\"outlinewidth\":0,\"ticks\":\"\"}},\"type\":\"scattergeo\"}],\"scattergl\":[{\"marker\":{\"colorbar\":{\"outlinewidth\":0,\"ticks\":\"\"}},\"type\":\"scattergl\"}],\"scattermapbox\":[{\"marker\":{\"colorbar\":{\"outlinewidth\":0,\"ticks\":\"\"}},\"type\":\"scattermapbox\"}],\"scatterpolar\":[{\"marker\":{\"colorbar\":{\"outlinewidth\":0,\"ticks\":\"\"}},\"type\":\"scatterpolar\"}],\"scatterpolargl\":[{\"marker\":{\"colorbar\":{\"outlinewidth\":0,\"ticks\":\"\"}},\"type\":\"scatterpolargl\"}],\"scatterternary\":[{\"marker\":{\"colorbar\":{\"outlinewidth\":0,\"ticks\":\"\"}},\"type\":\"scatterternary\"}],\"surface\":[{\"colorbar\":{\"outlinewidth\":0,\"ticks\":\"\"},\"colorscale\":[[0.0,\"#0d0887\"],[0.1111111111111111,\"#46039f\"],[0.2222222222222222,\"#7201a8\"],[0.3333333333333333,\"#9c179e\"],[0.4444444444444444,\"#bd3786\"],[0.5555555555555556,\"#d8576b\"],[0.6666666666666666,\"#ed7953\"],[0.7777777777777778,\"#fb9f3a\"],[0.8888888888888888,\"#fdca26\"],[1.0,\"#f0f921\"]],\"type\":\"surface\"}],\"table\":[{\"cells\":{\"fill\":{\"color\":\"#EBF0F8\"},\"line\":{\"color\":\"white\"}},\"header\":{\"fill\":{\"color\":\"#C8D4E3\"},\"line\":{\"color\":\"white\"}},\"type\":\"table\"}]},\"layout\":{\"annotationdefaults\":{\"arrowcolor\":\"#2a3f5f\",\"arrowhead\":0,\"arrowwidth\":1},\"autotypenumbers\":\"strict\",\"coloraxis\":{\"colorbar\":{\"outlinewidth\":0,\"ticks\":\"\"}},\"colorscale\":{\"diverging\":[[0,\"#8e0152\"],[0.1,\"#c51b7d\"],[0.2,\"#de77ae\"],[0.3,\"#f1b6da\"],[0.4,\"#fde0ef\"],[0.5,\"#f7f7f7\"],[0.6,\"#e6f5d0\"],[0.7,\"#b8e186\"],[0.8,\"#7fbc41\"],[0.9,\"#4d9221\"],[1,\"#276419\"]],\"sequential\":[[0.0,\"#0d0887\"],[0.1111111111111111,\"#46039f\"],[0.2222222222222222,\"#7201a8\"],[0.3333333333333333,\"#9c179e\"],[0.4444444444444444,\"#bd3786\"],[0.5555555555555556,\"#d8576b\"],[0.6666666666666666,\"#ed7953\"],[0.7777777777777778,\"#fb9f3a\"],[0.8888888888888888,\"#fdca26\"],[1.0,\"#f0f921\"]],\"sequentialminus\":[[0.0,\"#0d0887\"],[0.1111111111111111,\"#46039f\"],[0.2222222222222222,\"#7201a8\"],[0.3333333333333333,\"#9c179e\"],[0.4444444444444444,\"#bd3786\"],[0.5555555555555556,\"#d8576b\"],[0.6666666666666666,\"#ed7953\"],[0.7777777777777778,\"#fb9f3a\"],[0.8888888888888888,\"#fdca26\"],[1.0,\"#f0f921\"]]},\"colorway\":[\"#636efa\",\"#EF553B\",\"#00cc96\",\"#ab63fa\",\"#FFA15A\",\"#19d3f3\",\"#FF6692\",\"#B6E880\",\"#FF97FF\",\"#FECB52\"],\"font\":{\"color\":\"#2a3f5f\"},\"geo\":{\"bgcolor\":\"white\",\"lakecolor\":\"white\",\"landcolor\":\"#E5ECF6\",\"showlakes\":true,\"showland\":true,\"subunitcolor\":\"white\"},\"hoverlabel\":{\"align\":\"left\"},\"hovermode\":\"closest\",\"mapbox\":{\"style\":\"light\"},\"paper_bgcolor\":\"white\",\"plot_bgcolor\":\"#E5ECF6\",\"polar\":{\"angularaxis\":{\"gridcolor\":\"white\",\"linecolor\":\"white\",\"ticks\":\"\"},\"bgcolor\":\"#E5ECF6\",\"radialaxis\":{\"gridcolor\":\"white\",\"linecolor\":\"white\",\"ticks\":\"\"}},\"scene\":{\"xaxis\":{\"backgroundcolor\":\"#E5ECF6\",\"gridcolor\":\"white\",\"gridwidth\":2,\"linecolor\":\"white\",\"showbackground\":true,\"ticks\":\"\",\"zerolinecolor\":\"white\"},\"yaxis\":{\"backgroundcolor\":\"#E5ECF6\",\"gridcolor\":\"white\",\"gridwidth\":2,\"linecolor\":\"white\",\"showbackground\":true,\"ticks\":\"\",\"zerolinecolor\":\"white\"},\"zaxis\":{\"backgroundcolor\":\"#E5ECF6\",\"gridcolor\":\"white\",\"gridwidth\":2,\"linecolor\":\"white\",\"showbackground\":true,\"ticks\":\"\",\"zerolinecolor\":\"white\"}},\"shapedefaults\":{\"line\":{\"color\":\"#2a3f5f\"}},\"ternary\":{\"aaxis\":{\"gridcolor\":\"white\",\"linecolor\":\"white\",\"ticks\":\"\"},\"baxis\":{\"gridcolor\":\"white\",\"linecolor\":\"white\",\"ticks\":\"\"},\"bgcolor\":\"#E5ECF6\",\"caxis\":{\"gridcolor\":\"white\",\"linecolor\":\"white\",\"ticks\":\"\"}},\"title\":{\"x\":0.05},\"xaxis\":{\"automargin\":true,\"gridcolor\":\"white\",\"linecolor\":\"white\",\"ticks\":\"\",\"title\":{\"standoff\":15},\"zerolinecolor\":\"white\",\"zerolinewidth\":2},\"yaxis\":{\"automargin\":true,\"gridcolor\":\"white\",\"linecolor\":\"white\",\"ticks\":\"\",\"title\":{\"standoff\":15},\"zerolinecolor\":\"white\",\"zerolinewidth\":2}}},\"xaxis\":{\"anchor\":\"y\",\"domain\":[0.0,1.0],\"title\":{\"text\":\"stage\"}},\"yaxis\":{\"anchor\":\"x\",\"domain\":[0.0,1.0],\"title\":{\"text\":\"number\"}},\"legend\":{\"title\":{\"text\":\"\\u00c9tat vaccinal\"},\"tracegroupgap\":0},\"title\":{\"text\":\"<b>Statut vaccinal des cas symptomatiques</b><br><span style='font-size: 10px;'>Donn\\u00e9es DREES au 01/08/21 - Guillaume Rozier</span>\"},\"height\":700,\"width\":700},                        {\"responsive\": true}                    ).then(function(){\n",
       "                            \n",
       "var gd = document.getElementById('6f5ca140-8c18-461d-8066-536c8b1d9e3c');\n",
       "var x = new MutationObserver(function (mutations, observer) {{\n",
       "        var display = window.getComputedStyle(gd).display;\n",
       "        if (!display || display === 'none') {{\n",
       "            console.log([gd, 'removed!']);\n",
       "            Plotly.purge(gd);\n",
       "            observer.disconnect();\n",
       "        }}\n",
       "}});\n",
       "\n",
       "// Listen for the removal of the full notebook cells\n",
       "var notebookContainer = gd.closest('#notebook-container');\n",
       "if (notebookContainer) {{\n",
       "    x.observe(notebookContainer, {childList: true});\n",
       "}}\n",
       "\n",
       "// Listen for the clearing of the current output cell\n",
       "var outputEl = gd.closest('.output');\n",
       "if (outputEl) {{\n",
       "    x.observe(outputEl, {childList: true});\n",
       "}}\n",
       "\n",
       "                        })                };                });            </script>        </div>"
      ]
     },
     "metadata": {},
     "output_type": "display_data"
    }
   ],
   "source": [
    "positif_vax = round((df_drees_completement_vaccines[\"nb_PCR+_sympt\"].values[-1]/df_drees_ensemble[\"nb_PCR+_sympt\"].values[-1])*100)\n",
    "pop_vax = round((df_drees_completement_vaccines[\"effectif\"].values[-1]/df_drees_ensemble[\"effectif\"].values[-1])*100)\n",
    "\n",
    "stages = [\"<b>Population générale</b>\", \"<b>Cas positifs symptomatiques</b>\"]\n",
    "df_mtl = pd.DataFrame(dict(number=[pop_vax, positif_vax], stage=stages))\n",
    "df_mtl['État vaccinal'] = 'Complètement vacciné (%)'\n",
    "\n",
    "df_toronto = pd.DataFrame(dict(number=[100-pop_vax, 100-positif_vax], stage=stages))\n",
    "df_toronto['État vaccinal'] = 'Non vacciné (%)'\n",
    "\n",
    "df = pd.concat([df_mtl, df_toronto], axis=0)\n",
    "fig = px.funnel(df, y='number', x='stage', color='État vaccinal', height=700, width=700, orientation=\"v\", title=\"<b>Statut vaccinal des cas symptomatiques</b><br><span style='font-size: 10px;'>Données DREES au 01/08/21 - Guillaume Rozier</span>\")\n",
    "fig.show()\n"
   ]
  }
 ],
 "metadata": {
  "kernelspec": {
   "display_name": "Python 3",
   "language": "python",
   "name": "python3"
  },
  "language_info": {
   "codemirror_mode": {
    "name": "ipython",
    "version": 3
   },
   "file_extension": ".py",
   "mimetype": "text/x-python",
   "name": "python",
   "nbconvert_exporter": "python",
   "pygments_lexer": "ipython3",
   "version": "3.7.4"
  }
 },
 "nbformat": 4,
 "nbformat_minor": 2
}
