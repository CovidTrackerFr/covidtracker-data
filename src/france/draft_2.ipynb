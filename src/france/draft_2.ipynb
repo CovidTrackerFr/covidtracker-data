{
 "cells": [
  {
   "cell_type": "code",
   "execution_count": 29,
   "metadata": {},
   "outputs": [
    {
     "data": {
      "text/plain": [
       "44.494843216961335"
      ]
     },
     "execution_count": 29,
     "metadata": {},
     "output_type": "execute_result"
    }
   ],
   "source": [
    "import math\n",
    "\n",
    "T = 10\n",
    "RH = 50\n",
    "\n",
    "AH_num = 6.112 * math.exp(17.67 * T / (T+243.5)) * RH * 2.1674 \n",
    "AH_den = 273.15 + T\n",
    "AH = AH_num / AH_den\n",
    "\n",
    "contenu_exp = (T-7.5)**2/196 + (RH-75)**2/625 + (AH-6)**2/2.89\n",
    "IPTCC = 100 * math.exp(-0.5 * contenu_exp)\n",
    "\n",
    "IPTCC"
   ]
  },
  {
   "cell_type": "code",
   "execution_count": 9,
   "metadata": {},
   "outputs": [
    {
     "data": {
      "text/plain": [
       "0.0"
      ]
     },
     "execution_count": 9,
     "metadata": {},
     "output_type": "execute_result"
    }
   ],
   "source": [
    "math.exp(-0.5 * contenu_exp)"
   ]
  }
 ],
 "metadata": {
  "kernelspec": {
   "display_name": "Python 3",
   "language": "python",
   "name": "python3"
  },
  "language_info": {
   "codemirror_mode": {
    "name": "ipython",
    "version": 3
   },
   "file_extension": ".py",
   "mimetype": "text/x-python",
   "name": "python",
   "nbconvert_exporter": "python",
   "pygments_lexer": "ipython3",
   "version": "3.7.4"
  }
 },
 "nbformat": 4,
 "nbformat_minor": 2
}
