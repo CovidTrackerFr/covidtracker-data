{
 "cells": [
  {
   "cell_type": "code",
   "execution_count": 1,
   "metadata": {},
   "outputs": [
    {
     "data": {
      "text/plain": [
       "\"\\n\\nLICENSE MIT\\n2020\\nGuillaume Rozier\\nWebsite : http://www.guillaumerozier.fr\\nMail : guillaume.rozier@telecomnancy.net\\n\\nREADME:s\\nThis file contains script that generate France maps and GIFs. \\nSingle images are exported to folders in 'charts/image/france'. GIFs are exported to 'charts/image/france'.\\nI'm currently cleaning this file, please ask me is something is not clear enough!\\nRequirements: please see the imports below (use pip3 to install them).\\n\\n\""
      ]
     },
     "execution_count": 1,
     "metadata": {},
     "output_type": "execute_result"
    }
   ],
   "source": [
    "\"\"\"\n",
    "\n",
    "LICENSE MIT\n",
    "2020\n",
    "Guillaume Rozier\n",
    "Website : http://www.guillaumerozier.fr\n",
    "Mail : guillaume.rozier@telecomnancy.net\n",
    "\n",
    "README:s\n",
    "This file contains script that generate France maps and GIFs. \n",
    "Single images are exported to folders in 'charts/image/france'. GIFs are exported to 'charts/image/france'.\n",
    "I'm currently cleaning this file, please ask me is something is not clear enough!\n",
    "Requirements: please see the imports below (use pip3 to install them).\n",
    "\n",
    "\"\"\""
   ]
  },
  {
   "cell_type": "code",
   "execution_count": 11,
   "metadata": {},
   "outputs": [],
   "source": [
    "import france_data_management as data\n",
    "import pandas as pd\n",
    "from tqdm import tqdm\n",
    "import json\n",
    "import plotly.express as px\n",
    "from datetime import datetime\n",
    "import imageio\n",
    "import multiprocessing\n",
    "import locale\n",
    "import shutil\n",
    "import subprocess\n",
    "import os\n",
    "locale.setlocale(locale.LC_ALL, 'fr_FR.UTF-8')\n",
    "PATH = \"../../\""
   ]
  },
  {
   "cell_type": "code",
   "execution_count": 3,
   "metadata": {},
   "outputs": [
    {
     "name": "stderr",
     "output_type": "stream",
     "text": [
      "  0%|          | 0/8 [00:00<?, ?it/s]/Users/guillaumerozier/opt/anaconda3/lib/python3.7/site-packages/IPython/core/interactiveshell.py:3249: DtypeWarning:\n",
      "\n",
      "Columns (0) have mixed types. Specify dtype option on import or set low_memory=False.\n",
      "\n",
      "36it [02:27,  4.55s/it]                      /Users/guillaumerozier/opt/anaconda3/lib/python3.7/site-packages/IPython/core/interactiveshell.py:3326: DtypeWarning:\n",
      "\n",
      "Columns (17,18) have mixed types. Specify dtype option on import or set low_memory=False.\n",
      "\n"
     ]
    }
   ],
   "source": [
    "# Import data from Santé publique France\n",
    "_, _, _, _, _, _, _, df_incid, _ = data.import_data()\n",
    "df_incid = df_incid[df_incid[\"cl_age90\"] == 0]\n",
    "\n",
    "with open(PATH+'data/france/dep.geojson') as response:\n",
    "    depa = json.load(response)"
   ]
  },
  {
   "cell_type": "code",
   "execution_count": 22,
   "metadata": {},
   "outputs": [],
   "source": [
    "def build_map(data_df, img_folder, date_val, date_str = \"date\", dep_str = \"departement\", color_str = 'indic_synthese', legend_title=\"legend_title\", title=\"title\", subtitle=\"\", subsubtitle=\"{}<br>{} (données du {})\", color_descrete_map={\"Risque Faible\":\"#DAF7A6\", \"Alerte\":\"#b8002a\", \"Alerte Renforcée\":\"#7c0030\", \"Alerte Maximale\":\"#460d37\"}):\n",
    "    for date in date_val:\n",
    "        data_df_temp = data_df[data_df[date_str] == date]\n",
    "        \n",
    "        files = os.listdir(img_folder)\n",
    "        if \"{}.jpeg\".format(date) in files:\n",
    "            print(\"map already generated\", (img_folder+\"/{}.jpeg\").format(date))\n",
    "            continue\n",
    "        \n",
    "        if len(data_df_temp) > 0:\n",
    "            fig = px.choropleth(geojson = depa, \n",
    "                                locations = data_df_temp[dep_str], \n",
    "                                featureidkey=\"properties.code\",\n",
    "                                color = data_df_temp[color_str],\n",
    "                                scope='europe',\n",
    "                                #labels={color_str:\"Couleur\"},\n",
    "                                #color_discrete_sequence = [\"green\", \"orange\", \"red\"],\n",
    "                                #labels={'red':\"Couleur\", 'orange':'bla', 'green':'lol'},\n",
    "                                color_discrete_map = color_descrete_map\n",
    "                                #color_discrete_map = ,\n",
    "                                #category_orders = {color_str :[\"Risque Faible\", \"Alerte\", \"Alerte Renforcée\", \"Alerte Maximale\"]}\n",
    "                                      )\n",
    "            date_title = datetime.strptime(date, '%Y-%m-%d').strftime('%d %B')\n",
    "            date_now = datetime.now().strftime('%d %B')\n",
    "\n",
    "            fig.update_geos(fitbounds=\"locations\", visible=False)\n",
    "\n",
    "            fig.update_layout(\n",
    "                legend_title_text = \"Couleur\",\n",
    "                margin={\"r\":0,\"t\":0,\"l\":0,\"b\":0},\n",
    "                title={\n",
    "                    'text': title,\n",
    "                    'y':0.98,\n",
    "                    'x':0.5,\n",
    "                    'font': {'size': 30},\n",
    "                    'xanchor': 'center',\n",
    "                    'yanchor': 'top'},\n",
    "\n",
    "                titlefont = dict(\n",
    "                    size=30),\n",
    "\n",
    "                annotations = [\n",
    "                    dict(\n",
    "                        x=0.54,\n",
    "                        y=0.03,\n",
    "                        xref='paper',\n",
    "                        yref='paper',\n",
    "                        xanchor = 'center',\n",
    "                        text='Source : Santé publique France. Auteur : @guillaumerozier - covidtracker.fr',\n",
    "                        showarrow = False\n",
    "                    ),\n",
    "\n",
    "                    dict(\n",
    "                        x=0.55,\n",
    "                        y=0.94,\n",
    "                        xref='paper',\n",
    "                        yref='paper', \n",
    "                        text= subsubtitle.format(subtitle, date_now, date_title),\n",
    "                        showarrow = False,\n",
    "                        font=dict(\n",
    "                            size=15\n",
    "                                )\n",
    "                    )]\n",
    "                 ) \n",
    "\n",
    "            fig.update_geos(\n",
    "                #center=dict(lon=-30, lat=-30),\n",
    "                projection_rotation=dict(lon=12, lat=32, roll=8),\n",
    "                #lataxis_range=[-50,20], lonaxis_range=[0, 200]\n",
    "            )\n",
    "\n",
    "            if date == dates_deconf[-1]:\n",
    "                fig.write_image((img_folder+\"/{}.jpeg\").format(\"latest\"), scale=2, width=1200, height=700)\n",
    "            fig.write_image((img_folder+\"/{}.jpeg\").format(date), scale=1, width=1200, height=700)\n",
    "        else:\n",
    "            print(\"no data\")"
   ]
  },
  {
   "cell_type": "code",
   "execution_count": 14,
   "metadata": {},
   "outputs": [],
   "source": [
    "def build_gif(file_gif, imgs_folder, dates):\n",
    "    i=0\n",
    "    with imageio.get_writer(file_gif, mode='I', duration=0.3) as writer: \n",
    "        for date in tqdm(dates):\n",
    "            try:\n",
    "                print((imgs_folder+\"/{}.jpeg\").format(date))\n",
    "                image = imageio.imread((imgs_folder+\"/{}.jpeg\").format(date))\n",
    "                writer.append_data(image)\n",
    "                i+=1\n",
    "                if (i==len(dates)-1) or (i==0):\n",
    "                    for k in range(8):\n",
    "                        writer.append_data(image)\n",
    "            except:\n",
    "                print(\"no image for \"+str(date))\n",
    "    subprocess.run([\"gifsicle\", \"-i\", file_gif, \"--optimize=1\", \"--scale=0.8\", \"--colors=180\", \"-o\", file_gif[:-4]+\"_opti.gif\"])\n",
    "    os.remove(file_gif)"
   ]
  },
  {
   "cell_type": "code",
   "execution_count": 24,
   "metadata": {},
   "outputs": [
    {
     "name": "stdout",
     "output_type": "stream",
     "text": [
      "map already generated ../../images/charts/france/dep-map-incid-cat/2021-06-21.jpeg\n",
      "map already generated ../../images/charts/france/dep-map-incid-cat/2021-06-22.jpeg\n",
      "map already generated ../../images/charts/france/dep-map-incid-cat/2021-06-23.jpeg\n",
      "map already generated ../../images/charts/france/dep-map-incid-cat/2021-06-24.jpeg\n",
      "map already generated ../../images/charts/france/dep-map-incid-cat/2021-06-25.jpeg\n",
      "map already generated ../../images/charts/france/dep-map-incid-cat/2021-06-26.jpeg\n",
      "map already generated ../../images/charts/france/dep-map-incid-cat/2021-06-28.jpeg\n",
      "map already generated ../../images/charts/france/dep-map-incid-cat/2021-06-29.jpeg\n",
      "map already generated ../../images/charts/france/dep-map-incid-cat/2021-06-30.jpeg\n",
      "map already generated ../../images/charts/france/dep-map-incid-cat/2021-07-01.jpeg\n",
      "map already generated ../../images/charts/france/dep-map-incid-cat/2021-07-02.jpeg\n",
      "map already generated ../../images/charts/france/dep-map-incid-cat/2021-07-03.jpeg\n",
      "map already generated ../../images/charts/france/dep-map-incid-cat/2021-07-04.jpeg\n",
      "map already generated ../../images/charts/france/dep-map-incid-cat/2021-07-05.jpeg\n",
      "map already generated ../../images/charts/france/dep-map-incid-cat/2021-07-06.jpeg\n",
      "map already generated ../../images/charts/france/dep-map-incid-cat/2021-07-07.jpeg\n",
      "map already generated ../../images/charts/france/dep-map-incid-cat/2021-07-08.jpeg\n",
      "map already generated ../../images/charts/france/dep-map-incid-cat/2021-07-09.jpeg\n",
      "map already generated ../../images/charts/france/dep-map-incid-cat/2021-07-10.jpeg\n",
      "map already generated ../../images/charts/france/dep-map-incid-cat/2021-07-11.jpeg\n",
      "map already generated ../../images/charts/france/dep-map-incid-cat/2021-07-14.jpeg\n",
      "map already generated ../../images/charts/france/dep-map-incid-cat/2021-07-15.jpeg\n",
      "map already generated ../../images/charts/france/dep-map-incid-cat/2021-07-16.jpeg\n",
      "map already generated ../../images/charts/france/dep-map-incid-cat/2021-07-17.jpeg\n",
      "map already generated ../../images/charts/france/dep-map-incid-cat/2021-07-18.jpeg\n",
      "map already generated ../../images/charts/france/dep-map-incid-cat/2021-07-19.jpeg\n",
      "map already generated ../../images/charts/france/dep-map-incid-cat/2021-07-20.jpeg\n",
      "map already generated ../../images/charts/france/dep-map-incid-cat/2021-07-21.jpeg\n",
      "map already generated ../../images/charts/france/dep-map-incid-cat/2021-07-22.jpeg\n",
      "map already generated ../../images/charts/france/dep-map-incid-cat/2021-07-23.jpeg\n"
     ]
    }
   ],
   "source": [
    "dates_deconf = list(dict.fromkeys(list(df_incid[\"jour\"].values)))\n",
    "\n",
    "date = dates_deconf[-33:]\n",
    "build_map(df_incid.sort_values(by=['incidence']), PATH+\"images/charts/france/dep-map-incid-cat\", date_val=date, date_str = \"jour\", dep_str = \"dep\", color_str = 'incidence_color', legend_title=\"\", title=\"Incidence\", subtitle=\"Nombre de cas hebdomadaires pour 100 000 habitants\")"
   ]
  },
  {
   "cell_type": "code",
   "execution_count": 7,
   "metadata": {},
   "outputs": [
    {
     "data": {
      "text/plain": [
       "'df_incid #df_incid.loc[:,\"color_couvre_feu\"] = \\ndeps_couvre_feu = [\"01\", \"05\", \"06\", \"07\", \"08\", \"09\", \"10\", \"12\", \"13\", \"14\", \"67\", \"2A\", \"2B\", \"21\", \"26\", \"30\", \"31\", \"34\", \"35\", \"37\", \"38\", \"39\", \"42\", \"43\", \"45\", \"48\", \"49\", \"51\", \"54\", \"59\", \"60\",\"62\", \"63\", \"64\", \"65\", \"66\",\"67\", \"69\", \"71\", \"73\",\"74\", \"75\", \"76\", \"77\", \"78\", \"81\", \"82\", \"83\", \"84\", \"87\", \"91\", \"92\", \"93\", \"94\", \"95\"]\\ndf_incid.loc[:,\"color_couvre_feu\"] = [\\'Couvre-feu\\' if dep in deps_couvre_feu else \\'Pas de couvre-feu\\' for dep in df_incid[\\'dep\\']]\\n\\ndates_deconf = list(dict.fromkeys(list(df_incid[\"jour\"].values)))\\ndate = [dates_deconf[-1]]\\nbuild_map(df_incid.sort_values(by=[\\'incidence\\']), \"images/charts/france/dep-map-couvre-feu\", date_val=date, date_str = \"jour\", dep_str = \"dep\", color_str = \\'color_couvre_feu\\', legend_title=\"\", title=\"Départements possiblement en couvre feu samedi\", subsubtitle=\"\", color_descrete_map={\"Pas de couvre-feu\":\"#a4bda8\", \"Couvre-feu\":\"#bd2828\"})'"
      ]
     },
     "execution_count": 7,
     "metadata": {},
     "output_type": "execute_result"
    }
   ],
   "source": [
    "\"\"\"df_incid #df_incid.loc[:,\"color_couvre_feu\"] = \n",
    "deps_couvre_feu = [\"01\", \"05\", \"06\", \"07\", \"08\", \"09\", \"10\", \"12\", \"13\", \"14\", \"67\", \"2A\", \"2B\", \"21\", \"26\", \"30\", \"31\", \"34\", \"35\", \"37\", \"38\", \"39\", \"42\", \"43\", \"45\", \"48\", \"49\", \"51\", \"54\", \"59\", \"60\",\"62\", \"63\", \"64\", \"65\", \"66\",\"67\", \"69\", \"71\", \"73\",\"74\", \"75\", \"76\", \"77\", \"78\", \"81\", \"82\", \"83\", \"84\", \"87\", \"91\", \"92\", \"93\", \"94\", \"95\"]\n",
    "df_incid.loc[:,\"color_couvre_feu\"] = ['Couvre-feu' if dep in deps_couvre_feu else 'Pas de couvre-feu' for dep in df_incid['dep']]\n",
    "\n",
    "dates_deconf = list(dict.fromkeys(list(df_incid[\"jour\"].values)))\n",
    "date = [dates_deconf[-1]]\n",
    "build_map(df_incid.sort_values(by=['incidence']), \"images/charts/france/dep-map-couvre-feu\", date_val=date, date_str = \"jour\", dep_str = \"dep\", color_str = 'color_couvre_feu', legend_title=\"\", title=\"Départements possiblement en couvre feu samedi\", subsubtitle=\"\", color_descrete_map={\"Pas de couvre-feu\":\"#a4bda8\", \"Couvre-feu\":\"#bd2828\"})\"\"\""
   ]
  },
  {
   "cell_type": "code",
   "execution_count": 8,
   "metadata": {},
   "outputs": [
    {
     "data": {
      "text/plain": [
       "'deps_strings=[]\\nfor dep in deps_couvre_feu:\\n    deps_strings += [df_incid[df_incid[\"dep\"] == dep][\"departmentName\"].values[0]]\\n    \\nto_disp=\"\"\\nfor val in deps_strings:\\n    to_disp += val+\", \"\\nto_disp'"
      ]
     },
     "execution_count": 8,
     "metadata": {},
     "output_type": "execute_result"
    }
   ],
   "source": [
    "\"\"\"deps_strings=[]\n",
    "for dep in deps_couvre_feu:\n",
    "    deps_strings += [df_incid[df_incid[\"dep\"] == dep][\"departmentName\"].values[0]]\n",
    "    \n",
    "to_disp=\"\"\n",
    "for val in deps_strings:\n",
    "    to_disp += val+\", \"\n",
    "to_disp\"\"\""
   ]
  },
  {
   "cell_type": "code",
   "execution_count": 25,
   "metadata": {},
   "outputs": [
    {
     "name": "stderr",
     "output_type": "stream",
     "text": [
      "\n",
      "  0%|          | 0/33 [00:00<?, ?it/s]\u001b[A"
     ]
    },
    {
     "name": "stdout",
     "output_type": "stream",
     "text": [
      "../../images/charts/france/dep-map-incid-cat/2021-06-21.jpeg\n"
     ]
    },
    {
     "name": "stderr",
     "output_type": "stream",
     "text": [
      "\n",
      "  3%|▎         | 1/33 [00:00<00:16,  1.93it/s]\u001b[A"
     ]
    },
    {
     "name": "stdout",
     "output_type": "stream",
     "text": [
      "../../images/charts/france/dep-map-incid-cat/2021-06-22.jpeg\n"
     ]
    },
    {
     "name": "stderr",
     "output_type": "stream",
     "text": [
      "\n",
      "  6%|▌         | 2/33 [00:01<00:17,  1.72it/s]\u001b[A"
     ]
    },
    {
     "name": "stdout",
     "output_type": "stream",
     "text": [
      "../../images/charts/france/dep-map-incid-cat/2021-06-23.jpeg\n"
     ]
    },
    {
     "name": "stderr",
     "output_type": "stream",
     "text": [
      "\n",
      "  9%|▉         | 3/33 [00:01<00:16,  1.77it/s]\u001b[A"
     ]
    },
    {
     "name": "stdout",
     "output_type": "stream",
     "text": [
      "../../images/charts/france/dep-map-incid-cat/2021-06-24.jpeg\n"
     ]
    },
    {
     "name": "stderr",
     "output_type": "stream",
     "text": [
      "\n",
      " 12%|█▏        | 4/33 [00:02<00:13,  2.08it/s]\u001b[A"
     ]
    },
    {
     "name": "stdout",
     "output_type": "stream",
     "text": [
      "../../images/charts/france/dep-map-incid-cat/2021-06-25.jpeg\n"
     ]
    },
    {
     "name": "stderr",
     "output_type": "stream",
     "text": [
      "\n",
      " 15%|█▌        | 5/33 [00:02<00:12,  2.33it/s]\u001b[A"
     ]
    },
    {
     "name": "stdout",
     "output_type": "stream",
     "text": [
      "../../images/charts/france/dep-map-incid-cat/2021-06-26.jpeg\n"
     ]
    },
    {
     "name": "stderr",
     "output_type": "stream",
     "text": [
      "\n",
      " 18%|█▊        | 6/33 [00:02<00:10,  2.50it/s]\u001b[A"
     ]
    },
    {
     "name": "stdout",
     "output_type": "stream",
     "text": [
      "../../images/charts/france/dep-map-incid-cat/2021-06-27.jpeg\n"
     ]
    },
    {
     "name": "stderr",
     "output_type": "stream",
     "text": [
      "\n",
      " 21%|██        | 7/33 [00:03<00:11,  2.28it/s]\u001b[A"
     ]
    },
    {
     "name": "stdout",
     "output_type": "stream",
     "text": [
      "../../images/charts/france/dep-map-incid-cat/2021-06-28.jpeg\n"
     ]
    },
    {
     "name": "stderr",
     "output_type": "stream",
     "text": [
      "\n",
      " 24%|██▍       | 8/33 [00:03<00:10,  2.30it/s]\u001b[A"
     ]
    },
    {
     "name": "stdout",
     "output_type": "stream",
     "text": [
      "../../images/charts/france/dep-map-incid-cat/2021-06-29.jpeg\n"
     ]
    },
    {
     "name": "stderr",
     "output_type": "stream",
     "text": [
      "\n",
      " 27%|██▋       | 9/33 [00:04<00:10,  2.20it/s]\u001b[A"
     ]
    },
    {
     "name": "stdout",
     "output_type": "stream",
     "text": [
      "../../images/charts/france/dep-map-incid-cat/2021-06-30.jpeg\n"
     ]
    },
    {
     "name": "stderr",
     "output_type": "stream",
     "text": [
      "\n",
      " 30%|███       | 10/33 [00:04<00:10,  2.28it/s]\u001b[A"
     ]
    },
    {
     "name": "stdout",
     "output_type": "stream",
     "text": [
      "../../images/charts/france/dep-map-incid-cat/2021-07-01.jpeg\n"
     ]
    },
    {
     "name": "stderr",
     "output_type": "stream",
     "text": [
      "\n",
      " 33%|███▎      | 11/33 [00:04<00:08,  2.59it/s]\u001b[A"
     ]
    },
    {
     "name": "stdout",
     "output_type": "stream",
     "text": [
      "../../images/charts/france/dep-map-incid-cat/2021-07-02.jpeg\n"
     ]
    },
    {
     "name": "stderr",
     "output_type": "stream",
     "text": [
      "\n",
      " 36%|███▋      | 12/33 [00:05<00:08,  2.57it/s]\u001b[A"
     ]
    },
    {
     "name": "stdout",
     "output_type": "stream",
     "text": [
      "../../images/charts/france/dep-map-incid-cat/2021-07-03.jpeg\n"
     ]
    },
    {
     "name": "stderr",
     "output_type": "stream",
     "text": [
      "\n",
      " 39%|███▉      | 13/33 [00:05<00:07,  2.62it/s]\u001b[A"
     ]
    },
    {
     "name": "stdout",
     "output_type": "stream",
     "text": [
      "../../images/charts/france/dep-map-incid-cat/2021-07-04.jpeg\n"
     ]
    },
    {
     "name": "stderr",
     "output_type": "stream",
     "text": [
      "\n",
      " 42%|████▏     | 14/33 [00:05<00:06,  2.80it/s]\u001b[A"
     ]
    },
    {
     "name": "stdout",
     "output_type": "stream",
     "text": [
      "../../images/charts/france/dep-map-incid-cat/2021-07-05.jpeg\n"
     ]
    },
    {
     "name": "stderr",
     "output_type": "stream",
     "text": [
      "\n",
      " 45%|████▌     | 15/33 [00:06<00:05,  3.06it/s]\u001b[A"
     ]
    },
    {
     "name": "stdout",
     "output_type": "stream",
     "text": [
      "../../images/charts/france/dep-map-incid-cat/2021-07-06.jpeg\n"
     ]
    },
    {
     "name": "stderr",
     "output_type": "stream",
     "text": [
      "\n",
      " 48%|████▊     | 16/33 [00:06<00:05,  3.14it/s]\u001b[A"
     ]
    },
    {
     "name": "stdout",
     "output_type": "stream",
     "text": [
      "../../images/charts/france/dep-map-incid-cat/2021-07-07.jpeg\n"
     ]
    },
    {
     "name": "stderr",
     "output_type": "stream",
     "text": [
      "\n",
      " 52%|█████▏    | 17/33 [00:06<00:05,  2.82it/s]\u001b[A"
     ]
    },
    {
     "name": "stdout",
     "output_type": "stream",
     "text": [
      "../../images/charts/france/dep-map-incid-cat/2021-07-08.jpeg\n"
     ]
    },
    {
     "name": "stderr",
     "output_type": "stream",
     "text": [
      "\n",
      " 55%|█████▍    | 18/33 [00:07<00:04,  3.05it/s]\u001b[A"
     ]
    },
    {
     "name": "stdout",
     "output_type": "stream",
     "text": [
      "../../images/charts/france/dep-map-incid-cat/2021-07-09.jpeg\n"
     ]
    },
    {
     "name": "stderr",
     "output_type": "stream",
     "text": [
      "\n",
      " 58%|█████▊    | 19/33 [00:07<00:04,  3.42it/s]\u001b[A"
     ]
    },
    {
     "name": "stdout",
     "output_type": "stream",
     "text": [
      "../../images/charts/france/dep-map-incid-cat/2021-07-10.jpeg\n"
     ]
    },
    {
     "name": "stderr",
     "output_type": "stream",
     "text": [
      "\n",
      " 61%|██████    | 20/33 [00:07<00:03,  3.41it/s]\u001b[A"
     ]
    },
    {
     "name": "stdout",
     "output_type": "stream",
     "text": [
      "../../images/charts/france/dep-map-incid-cat/2021-07-11.jpeg\n"
     ]
    },
    {
     "name": "stderr",
     "output_type": "stream",
     "text": [
      "\n",
      " 64%|██████▎   | 21/33 [00:07<00:03,  3.54it/s]\u001b[A"
     ]
    },
    {
     "name": "stdout",
     "output_type": "stream",
     "text": [
      "../../images/charts/france/dep-map-incid-cat/2021-07-12.jpeg\n"
     ]
    },
    {
     "name": "stderr",
     "output_type": "stream",
     "text": [
      "\n",
      " 67%|██████▋   | 22/33 [00:08<00:02,  3.72it/s]\u001b[A"
     ]
    },
    {
     "name": "stdout",
     "output_type": "stream",
     "text": [
      "../../images/charts/france/dep-map-incid-cat/2021-07-13.jpeg\n"
     ]
    },
    {
     "name": "stderr",
     "output_type": "stream",
     "text": [
      "\n",
      " 70%|██████▉   | 23/33 [00:08<00:02,  3.67it/s]\u001b[A"
     ]
    },
    {
     "name": "stdout",
     "output_type": "stream",
     "text": [
      "../../images/charts/france/dep-map-incid-cat/2021-07-14.jpeg\n"
     ]
    },
    {
     "name": "stderr",
     "output_type": "stream",
     "text": [
      "\n",
      " 73%|███████▎  | 24/33 [00:08<00:02,  3.59it/s]\u001b[A"
     ]
    },
    {
     "name": "stdout",
     "output_type": "stream",
     "text": [
      "../../images/charts/france/dep-map-incid-cat/2021-07-15.jpeg\n"
     ]
    },
    {
     "name": "stderr",
     "output_type": "stream",
     "text": [
      "\n",
      " 76%|███████▌  | 25/33 [00:09<00:02,  3.20it/s]\u001b[A"
     ]
    },
    {
     "name": "stdout",
     "output_type": "stream",
     "text": [
      "../../images/charts/france/dep-map-incid-cat/2021-07-16.jpeg\n"
     ]
    },
    {
     "name": "stderr",
     "output_type": "stream",
     "text": [
      "\n",
      " 79%|███████▉  | 26/33 [00:09<00:02,  3.11it/s]\u001b[A"
     ]
    },
    {
     "name": "stdout",
     "output_type": "stream",
     "text": [
      "../../images/charts/france/dep-map-incid-cat/2021-07-17.jpeg\n"
     ]
    },
    {
     "name": "stderr",
     "output_type": "stream",
     "text": [
      "\n",
      " 82%|████████▏ | 27/33 [00:10<00:02,  2.29it/s]\u001b[A"
     ]
    },
    {
     "name": "stdout",
     "output_type": "stream",
     "text": [
      "../../images/charts/france/dep-map-incid-cat/2021-07-18.jpeg\n"
     ]
    },
    {
     "name": "stderr",
     "output_type": "stream",
     "text": [
      "\n",
      " 85%|████████▍ | 28/33 [00:10<00:02,  2.49it/s]\u001b[A"
     ]
    },
    {
     "name": "stdout",
     "output_type": "stream",
     "text": [
      "../../images/charts/france/dep-map-incid-cat/2021-07-19.jpeg\n"
     ]
    },
    {
     "name": "stderr",
     "output_type": "stream",
     "text": [
      "\n",
      " 88%|████████▊ | 29/33 [00:10<00:01,  2.65it/s]\u001b[A"
     ]
    },
    {
     "name": "stdout",
     "output_type": "stream",
     "text": [
      "../../images/charts/france/dep-map-incid-cat/2021-07-20.jpeg\n"
     ]
    },
    {
     "name": "stderr",
     "output_type": "stream",
     "text": [
      "\n",
      " 91%|█████████ | 30/33 [00:11<00:01,  2.82it/s]\u001b[A"
     ]
    },
    {
     "name": "stdout",
     "output_type": "stream",
     "text": [
      "../../images/charts/france/dep-map-incid-cat/2021-07-21.jpeg\n"
     ]
    },
    {
     "name": "stderr",
     "output_type": "stream",
     "text": [
      "\n",
      " 94%|█████████▍| 31/33 [00:11<00:00,  2.90it/s]\u001b[A"
     ]
    },
    {
     "name": "stdout",
     "output_type": "stream",
     "text": [
      "../../images/charts/france/dep-map-incid-cat/2021-07-22.jpeg\n"
     ]
    },
    {
     "name": "stderr",
     "output_type": "stream",
     "text": [
      "\n",
      " 97%|█████████▋| 32/33 [00:13<00:00,  1.01it/s]\u001b[A"
     ]
    },
    {
     "name": "stdout",
     "output_type": "stream",
     "text": [
      "../../images/charts/france/dep-map-incid-cat/2021-07-23.jpeg\n"
     ]
    },
    {
     "name": "stderr",
     "output_type": "stream",
     "text": [
      "\n",
      "100%|██████████| 33/33 [00:14<00:00,  2.31it/s]\u001b[A\n"
     ]
    }
   ],
   "source": [
    "build_gif(PATH+\"images/charts/france/incid-cat.gif\", PATH+\"images/charts/france/dep-map-incid-cat\", dates_deconf[-33:])"
   ]
  }
 ],
 "metadata": {
  "kernelspec": {
   "display_name": "Python 3",
   "language": "python",
   "name": "python3"
  }
 },
 "nbformat": 4,
 "nbformat_minor": 2
}
