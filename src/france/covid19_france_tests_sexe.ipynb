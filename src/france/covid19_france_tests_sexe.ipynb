{
 "cells": [
  {
   "cell_type": "code",
   "execution_count": 48,
   "metadata": {},
   "outputs": [
    {
     "data": {
      "text/plain": [
       "\"\\n\\nLICENSE MIT\\n2020\\nGuillaume Rozier\\nWebsite : http://www.covidtracker.fr\\nMail : guillaume.rozier@telecomnancy.net\\n\\nREADME:\\nThis file contains scripts that download data from data.gouv.fr and then process it to build many graphes.\\nI'm currently cleaning the code, please ask me if something is not clear enough.\\n\\nThe charts are exported to 'charts/images/france'.\\nData is download to/imported from 'data/france'.\\nRequirements: please see the imports below (use pip3 to install them).\\n\\n\""
      ]
     },
     "execution_count": 48,
     "metadata": {},
     "output_type": "execute_result"
    }
   ],
   "source": [
    "\"\"\"\n",
    "\n",
    "LICENSE MIT\n",
    "2020\n",
    "Guillaume Rozier\n",
    "Website : http://www.covidtracker.fr\n",
    "Mail : guillaume.rozier@telecomnancy.net\n",
    "\n",
    "README:\n",
    "This file contains scripts that download data from data.gouv.fr and then process it to build many graphes.\n",
    "I'm currently cleaning the code, please ask me if something is not clear enough.\n",
    "\n",
    "The charts are exported to 'charts/images/france'.\n",
    "Data is download to/imported from 'data/france'.\n",
    "Requirements: please see the imports below (use pip3 to install them).\n",
    "\n",
    "\"\"\""
   ]
  },
  {
   "cell_type": "code",
   "execution_count": 49,
   "metadata": {},
   "outputs": [],
   "source": [
    "from multiprocessing import Pool\n",
    "import requests\n",
    "import pandas as pd\n",
    "import math\n",
    "import plotly.graph_objects as go\n",
    "import plotly.express as px\n",
    "import plotly\n",
    "from plotly.subplots import make_subplots\n",
    "from datetime import datetime\n",
    "from datetime import timedelta\n",
    "from tqdm import tqdm\n",
    "import imageio\n",
    "import json\n",
    "import locale\n",
    "import france_data_management as data\n",
    "import numpy as np\n",
    "import cv2\n",
    "\n",
    "locale.setlocale(locale.LC_ALL, 'fr_FR.UTF-8')\n",
    "colors = px.colors.qualitative.D3 + plotly.colors.DEFAULT_PLOTLY_COLORS + px.colors.qualitative.Plotly + px.colors.qualitative.Dark24 + px.colors.qualitative.Alphabet\n",
    "show_charts = False\n",
    "PATH = \"data/france/stats/\"\n",
    "now = datetime.now()"
   ]
  },
  {
   "cell_type": "code",
   "execution_count": 50,
   "metadata": {},
   "outputs": [
    {
     "name": "stderr",
     "output_type": "stream",
     "text": [
      "36it [00:04,  7.65it/s]                      \n"
     ]
    }
   ],
   "source": [
    "data.download_data()"
   ]
  },
  {
   "cell_type": "code",
   "execution_count": 56,
   "metadata": {},
   "outputs": [],
   "source": [
    "df = data.import_data_tests_sexe()"
   ]
  },
  {
   "cell_type": "code",
   "execution_count": 58,
   "metadata": {},
   "outputs": [],
   "source": [
    "for (val, valname, title) in [('p', 'positifs', ' cas positifs '), ('t', 'tests', ' tests réalisés ')]:\n",
    "    fig = go.Figure()\n",
    "    df_hommes = df[val+\"_h\"].rolling(window=14).mean()\n",
    "    df_femmes = df[val+\"_f\"].rolling(window=14).mean()\n",
    "\n",
    "    fig.add_trace(go.Scatter(\n",
    "        x=df['jour'] , y=df_femmes,\n",
    "        mode='lines',\n",
    "        line=dict(width=0.5, color=px.colors.qualitative.Plotly[0]),\n",
    "        stackgroup='one',\n",
    "        fillcolor=\"rgba(227, 136, 225, 0.7)\",\n",
    "        groupnorm='percent', # sets the normalization for the sum of the stackgroup,\n",
    "        name=\"Femmes<br>\" + str(round(df_femmes.values[-1]/(df_femmes.values[-1]+df_hommes.values[-1])*100, 1)) + \" %\"\n",
    "    ))\n",
    "    fig.add_trace(go.Scatter(\n",
    "        x=df['jour'] , y=df_hommes,\n",
    "        mode='lines',\n",
    "        line=dict(width=0.5, color=px.colors.qualitative.Plotly[1]),\n",
    "        fillcolor=\"rgba(66, 135, 245, 0.7)\",\n",
    "        stackgroup='one',\n",
    "        name=\"Hommes<br>\" + str(round(df_hommes.values[-1]/(df_femmes.values[-1]+df_hommes.values[-1])*100, 1)) + \" %\"\n",
    "    ))\n",
    "\n",
    "    fig.add_shape(\n",
    "                type=\"line\",\n",
    "                x0=df[\"jour\"].min(),\n",
    "                y0=50,\n",
    "                x1=df[\"jour\"].max(),\n",
    "                y1=50,\n",
    "                opacity=1,\n",
    "                fillcolor=\"black\",\n",
    "                line=dict(\n",
    "                    dash=\"dot\",\n",
    "                    color=\"black\",\n",
    "                    width=1,\n",
    "                )\n",
    "            )\n",
    "\n",
    "\n",
    "    fig.update_layout(\n",
    "        annotations = [\n",
    "                    dict(\n",
    "                        x=0,\n",
    "                        y=1.05,\n",
    "                        xref='paper',\n",
    "                        yref='paper',\n",
    "                        text='Date : {}. Source : Santé publique France. Auteur : GRZ - covidtracker.fr.'.format(\"\"), #datetime.strptime(max(dates), '%Y-%m-%d').strftime('%d %B %Y')\n",
    "                        showarrow = False\n",
    "                    )],\n",
    "        margin=dict(\n",
    "                    l=20,\n",
    "                    r=100,\n",
    "                    b=20,\n",
    "                    t=65,\n",
    "                    pad=0\n",
    "                ),\n",
    "        showlegend=True,\n",
    "         title={\n",
    "                'text': \"Répartition des{}en fonction du sexe\".format(title),\n",
    "                'y':0.98,\n",
    "                'x':0.5,\n",
    "                'xanchor': 'center',\n",
    "                'yanchor': 'top'},\n",
    "        titlefont = dict(\n",
    "                size=20),\n",
    "        xaxis=dict(\n",
    "            tickformat='%d/%m',\n",
    "            nticks=25),\n",
    "        yaxis=dict(\n",
    "            type='linear',\n",
    "            range=[1, 100],\n",
    "            ticksuffix='%'))\n",
    "\n",
    "    #fig.show()\n",
    "    name_fig = \"repartition_age_sexe{}\".format(valname)\n",
    "    fig.write_image(\"images/charts/france/{}.jpeg\".format(name_fig), scale=3, width=900, height=550)\n",
    "    #fig.show()\n",
    "    plotly.offline.plot(fig, filename = 'images/html_exports/france/{}.html'.format(name_fig), auto_open=False)"
   ]
  }
 ],
 "metadata": {
  "kernelspec": {
   "display_name": "Python 3",
   "language": "python",
   "name": "python3"
  }
 },
 "nbformat": 4,
 "nbformat_minor": 2
}
