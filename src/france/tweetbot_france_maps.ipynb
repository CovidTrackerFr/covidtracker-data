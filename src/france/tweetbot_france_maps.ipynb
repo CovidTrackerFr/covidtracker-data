{
 "cells": [
  {
   "cell_type": "code",
   "execution_count": 37,
   "metadata": {},
   "outputs": [
    {
     "name": "stderr",
     "output_type": "stream",
     "text": [
      "/Users/guillaumerozier/opt/anaconda3/lib/python3.7/site-packages/ipykernel_launcher.py:42: SettingWithCopyWarning: \n",
      "A value is trying to be set on a copy of a slice from a DataFrame.\n",
      "Try using .loc[row_indexer,col_indexer] = value instead\n",
      "\n",
      "See the caveats in the documentation: http://pandas.pydata.org/pandas-docs/stable/user_guide/indexing.html#returning-a-view-versus-a-copy\n"
     ]
    }
   ],
   "source": [
    "# Guillaume Rozier - 2020 - MIT License\n",
    "# This script will automatically tweet new data and graphes on the account @covidtracker_fr\n",
    "\n",
    "# importing the module \n",
    "\n",
    "import france_data_management as data\n",
    "import math\n",
    "from datetime import datetime\n",
    "import locale\n",
    "import tweepy\n",
    "import pandas as pd\n",
    "import secrets as s\n",
    "from datetime import timedelta\n",
    "PATH = \"../../\"\n",
    "\n",
    "locale.setlocale(locale.LC_ALL, 'fr_FR.UTF-8')\n",
    "\n",
    "\"\"\"\n",
    "Secrets :\n",
    "    consumer_key =\"xxxxxxxxxxxxxxxx\"\n",
    "    consumer_secret =\"xxxxxxxxxxxxxxxx\"\n",
    "    access_token =\"xxxxxxxxxxxxxxxx\"\n",
    "    access_token_secret =\"xxxxxxxxxxxxxxxx\"\n",
    "\"\"\"\n",
    "\n",
    "# authentication \n",
    "auth = tweepy.OAuthHandler(s.consumer_key, s.consumer_secret) \n",
    "auth.set_access_token(s.access_token, s.access_token_secret) \n",
    "\n",
    "api = tweepy.API(auth) \n",
    "    \n",
    "def tweet_france_maps():\n",
    "    #_, _, dates, _, _, _, _, df_incid, _ = data.import_data()\n",
    "    #df_incid = df_incid[df_incid[\"cl_age90\"] == 0]\n",
    "    \n",
    "    df_incid_fra_clage = data.import_data_tests_viros()\n",
    "    df_incid = df_incid_fra_clage[df_incid_fra_clage[\"cl_age90\"]==0]\n",
    "    \n",
    "    lastday_df_incid = datetime.strptime(df_incid['jour'].max(), '%Y-%m-%d')\n",
    "    \n",
    "    ## TWEET2\n",
    "    df_incid[\"incidence\"] = df_incid[\"P\"].rolling(window=7).sum() / df_incid[\"pop\"] * 100000\n",
    "    df_incid_lastday = df_incid.loc[df_incid['jour']==df_incid['jour'].max(), :]\n",
    "    filter_departement_alerte = df_incid_lastday[df_incid_lastday[\"incidence\"] >= 50]\n",
    "    nb_dep = len(filter_departement_alerte)\n",
    "    departements_alerte = filter_departement_alerte.departmentName.values\n",
    "    departements_alerte_valeurs = filter_departement_alerte.incidence.values\n",
    "    \n",
    "    images_path2 =[PATH+\"images/charts/france/dep-map-incid-cat/latest.jpeg\"]\n",
    "    media_ids2 = []\n",
    "    \n",
    "    for filename in images_path2:\n",
    "        res = api.media_upload(filename)\n",
    "        media_ids2.append(res.media_id)\n",
    "        \n",
    "    tweet = \"🔴 {} départements (métropole + DOM-TOM) devraient être classés rouge, car ils dépassent le niveau d'alerte de 50 cas pour 100 000 habitants en 7 jours (données du {})\\n➡️ Plus d'infos : covidtracker.fr/covidtracker-france\".format(nb_dep, lastday_df_incid.strftime('%d/%m'))\n",
    "    \n",
    "    tweet_departements = \"Départements dépassant le seuil d'alerte : \"\n",
    "    for (idx, departement) in enumerate(departements_alerte):\n",
    "        tweet_departements += departement + \" (\" + str(int(round(departements_alerte_valeurs[idx]))) + \"), \"\n",
    "    tweet_departements = tweet_departements[:len(tweet_departements)-2]\n",
    "    if len(tweet_departements)>240:\n",
    "        tweet_departements = tweet_departements[:236] + \"…\"\n",
    "    first_tweet = api.update_status(status=tweet, media_ids=media_ids2)\n",
    "    #reply_tweet = api.update_status(status=tweet_departements, \n",
    "    #                            in_reply_to_status_id=first_tweet.id, \n",
    "    #                            auto_populate_reply_metadata=True)\n",
    "    \n",
    "tweet_france_maps()"
   ]
  }
 ],
 "metadata": {
  "kernelspec": {
   "display_name": "Python 3",
   "language": "python",
   "name": "python3"
  },
  "language_info": {
   "codemirror_mode": {
    "name": "ipython",
    "version": 3
   },
   "file_extension": ".py",
   "mimetype": "text/x-python",
   "name": "python",
   "nbconvert_exporter": "python",
   "pygments_lexer": "ipython3",
   "version": "3.7.4"
  }
 },
 "nbformat": 4,
 "nbformat_minor": 2
}
